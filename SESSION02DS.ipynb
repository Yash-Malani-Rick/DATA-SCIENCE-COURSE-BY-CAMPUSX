{
  "nbformat": 4,
  "nbformat_minor": 0,
  "metadata": {
    "colab": {
      "provenance": [],
      "collapsed_sections": [
        "mmQuxDl4IQwA",
        "C-NUo-W3LnSr",
        "iq4XrJQdOsTs",
        "aaz9jRrIRynN"
      ],
      "authorship_tag": "ABX9TyMNOfamFnLTOqvZxEkVbtcQ",
      "include_colab_link": true
    },
    "kernelspec": {
      "name": "python3",
      "display_name": "Python 3"
    },
    "language_info": {
      "name": "python"
    }
  },
  "cells": [
    {
      "cell_type": "markdown",
      "metadata": {
        "id": "view-in-github",
        "colab_type": "text"
      },
      "source": [
        "<a href=\"https://colab.research.google.com/github/Yash-Malani-Rick/DATA-SCIENCE-COURSE-BY-CAMPUSX/blob/master/SESSION02DS.ipynb\" target=\"_parent\"><img src=\"https://colab.research.google.com/assets/colab-badge.svg\" alt=\"Open In Colab\"/></a>"
      ]
    },
    {
      "cell_type": "markdown",
      "source": [
        "# 1) Operators In Python : -"
      ],
      "metadata": {
        "id": "mmQuxDl4IQwA"
      }
    },
    {
      "cell_type": "markdown",
      "source": [
        "In Python, operators are special symbols that perform operations on variables and values. They are used to perform arithmetic, logical, comparison, assignment, bitwise, identity, and membership operations.\n",
        "\n"
      ],
      "metadata": {
        "id": "9xKpQ8RWIfJ3"
      }
    },
    {
      "cell_type": "markdown",
      "source": [
        "\n",
        "\n",
        "---\n",
        "\n"
      ],
      "metadata": {
        "id": "yzilrkYCJqpb"
      }
    },
    {
      "cell_type": "markdown",
      "source": [
        "TYPES OF OPERATORS IN PYTHON :\n",
        "\n",
        "| **Operator Type**                     | **Description**                                         |\n",
        "| ------------------------------------- | ------------------------------------------------------- |\n",
        "| 1️⃣ Arithmetic Operators              | Perform mathematical operations.                        |\n",
        "| 2️⃣ Comparison (Relational) Operators | Compare two values.                                     |\n",
        "| 3️⃣ Assignment Operators              | Assign values to variables.                             |\n",
        "| 4️⃣ Logical Operators                 | Combine conditional statements.                         |\n",
        "| 5️⃣ Bitwise Operators                 | Perform operations on binary numbers.                   |\n",
        "| 6️⃣ Identity Operators                | Compare memory locations of objects.                    |\n",
        "| 7️⃣ Membership Operators              | Check for membership in sequences (list, string, etc.). |\n"
      ],
      "metadata": {
        "id": "QHAnF5rbIhn2"
      }
    },
    {
      "cell_type": "markdown",
      "source": [
        "\n",
        "\n",
        "---\n",
        "\n"
      ],
      "metadata": {
        "id": "w5Ro2k6mJnkr"
      }
    },
    {
      "cell_type": "markdown",
      "source": [
        "Code Example for all operators in Python :"
      ],
      "metadata": {
        "id": "VZN7RoCZIpEC"
      }
    },
    {
      "cell_type": "code",
      "source": [
        "# Arithmetic Operators :\n",
        "\n",
        "a, b = 10, 3\n",
        "print(\"Addition:\", a + b)\n",
        "print(\"Subtraction:\", a - b)\n",
        "print(\"Multiplication:\", a * b)\n",
        "print(\"Division:\", a / b)\n",
        "print(\"Floor Division:\", a // b)\n",
        "print(\"Modulus:\", a % b)\n",
        "print(\"Exponent:\", a ** b)\n",
        "\n",
        "\n",
        "# Comparison(Relational) Operators :\n",
        "\n",
        "print(a == b)   # Equal to\n",
        "print(a != b)   # Not equal to\n",
        "print(a > b)    # Greater than\n",
        "print(a < b)    # Less than\n",
        "print(a >= b)   # Greater or equal\n",
        "print(a <= b)   # Less or equal\n",
        "\n",
        "\n",
        "# Assignment Operators :\n",
        "\n",
        "x = 5\n",
        "x += 3   # x = x + 3\n",
        "x -= 2\n",
        "x *= 4\n",
        "x /= 2\n",
        "x //= 3\n",
        "x %= 2\n",
        "x **= 3\n",
        "print(\"Final value of x:\", x)\n",
        "\n",
        "\n",
        "# Logical Operators :\n",
        "\n",
        "p, q = True, False\n",
        "print(p and q)   # Logical AND\n",
        "print(p or q)    # Logical OR\n",
        "print(not p)     # Logical NOT\n",
        "\n",
        "\n",
        "# BitWise Operators :\n",
        "\n",
        "m, n = 5, 3   # Binary: 5=101, 3=011\n",
        "print(m & n)   # AND (1)\n",
        "print(m | n)   # OR (7)\n",
        "print(m ^ n)   # XOR (6)\n",
        "print(~m)      # NOT (-6)\n",
        "print(m << 1)  # Left shift (10)\n",
        "print(m >> 1)  # Right shift (2)\n",
        "\n",
        "\n",
        "# Identity Operators :\n",
        "\n",
        "x = [1,2,3]\n",
        "y = x\n",
        "z = [1,2,3]\n",
        "print(x is y)      # True (same object)\n",
        "print(x is z)      # False (different objects)\n",
        "print(x is not z)  # True\n",
        "\n",
        "\n",
        "# Membership Operators :\n",
        "\n",
        "nums = [1, 2, 3, 4]\n",
        "print(2 in nums)       # True\n",
        "print(5 not in nums)   # True\n"
      ],
      "metadata": {
        "id": "DRRzn9IfIwMw"
      },
      "execution_count": null,
      "outputs": []
    },
    {
      "cell_type": "markdown",
      "source": [
        "\n",
        "\n",
        "---\n",
        "\n"
      ],
      "metadata": {
        "id": "nNGNEJLXJpdD"
      }
    },
    {
      "cell_type": "markdown",
      "source": [
        "Key Takeaways:\n",
        "\n",
        "1) Operators perform specific operations between operands.\n",
        "\n",
        "2) Python supports both value-based (==, in) and reference-based (is) comparisons.\n",
        "\n",
        "3) Arithmetic, logical, and membership operators are used most frequently."
      ],
      "metadata": {
        "id": "oSel2Fh7JbWO"
      }
    },
    {
      "cell_type": "markdown",
      "source": [
        "\n",
        "\n",
        "---\n",
        "\n"
      ],
      "metadata": {
        "id": "GHg-fS1_LAa7"
      }
    },
    {
      "cell_type": "markdown",
      "source": [
        "Excersize on Operators :"
      ],
      "metadata": {
        "id": "kVhDw5cvLBJw"
      }
    },
    {
      "cell_type": "code",
      "source": [
        "# PRINTING THE SUM OF THE DIGITS OF A 3 DIGIT NUMBER AS ENTERED BY THE USER :\n",
        "\n",
        "# Taking input from the user\n",
        "num = int(input(\"Enter a 3-digit number: \"))\n",
        "\n",
        "# Extracting digits\n",
        "digit1 = num // 100          # First digit\n",
        "digit2 = (num // 10) % 10    # Second digit\n",
        "digit3 = num % 10            # Third digit\n",
        "\n",
        "# Calculating sum\n",
        "sum_of_digits = digit1 + digit2 + digit3\n",
        "\n",
        "# Displaying result\n",
        "print(\"The sum of the digits is:\", sum_of_digits)\n"
      ],
      "metadata": {
        "colab": {
          "base_uri": "https://localhost:8080/"
        },
        "id": "evUrXa9NKuEY",
        "outputId": "64dea54d-b6eb-472f-9006-204cd36583c4"
      },
      "execution_count": 1,
      "outputs": [
        {
          "output_type": "stream",
          "name": "stdout",
          "text": [
            "Enter a 3-digit number: 345\n",
            "The sum of the digits is: 12\n"
          ]
        }
      ]
    },
    {
      "cell_type": "markdown",
      "source": [
        "# 2) If - Else Statements In Python : -"
      ],
      "metadata": {
        "id": "C-NUo-W3LnSr"
      }
    },
    {
      "cell_type": "markdown",
      "source": [
        "Definition:\n",
        "\n",
        "The if-else statement is a decision-making control structure in Python that executes different blocks of code based on a given condition.\n",
        "\n",
        "Working:\n",
        "\n",
        "1) The if block executes when the condition evaluates to True.\n",
        "\n",
        "2) The else block executes when the condition evaluates to False.\n",
        "\n",
        "3) The elif (else if) statement allows checking multiple conditions sequentially."
      ],
      "metadata": {
        "id": "VcRzgamzL6eD"
      }
    },
    {
      "cell_type": "markdown",
      "source": [
        "\n",
        "\n",
        "---\n",
        "\n"
      ],
      "metadata": {
        "id": "dNZn90KlMdZQ"
      }
    },
    {
      "cell_type": "code",
      "source": [
        "# Sample Syntax involving If - Else in Python :\n",
        "\n",
        "# if condition:\n",
        "#     # Code executes if condition is True\n",
        "# elif another_condition:\n",
        "#     # Code executes if first condition is False and this is True\n",
        "# else:\n",
        "#     # Code executes if all above conditions are False\n"
      ],
      "metadata": {
        "id": "_h6aNHGYMBT2"
      },
      "execution_count": null,
      "outputs": []
    },
    {
      "cell_type": "markdown",
      "source": [
        "\n",
        "\n",
        "---\n",
        "\n"
      ],
      "metadata": {
        "id": "-Itu3Rj5Mg64"
      }
    },
    {
      "cell_type": "markdown",
      "source": [
        "Type of If - Else Statements In Python :"
      ],
      "metadata": {
        "id": "UPmSUVn6MQXu"
      }
    },
    {
      "cell_type": "markdown",
      "source": [
        "1️⃣ Simple if statement – Executes code if condition is true.\n",
        "\n",
        "2️⃣ if-else statement – Executes one block if true, another if false.\n",
        "\n",
        "3️⃣ if-elif-else ladder – Multiple conditions checking.\n",
        "\n",
        "4️⃣ Nested if-else – if-else statement inside another if-else.\n",
        "\n",
        "\n"
      ],
      "metadata": {
        "id": "O92oRB1VMiHy"
      }
    },
    {
      "cell_type": "markdown",
      "source": [
        "\n",
        "\n",
        "---\n",
        "\n"
      ],
      "metadata": {
        "id": "Ov3WzJb_Ml8p"
      }
    },
    {
      "cell_type": "markdown",
      "source": [
        "Implementation of If - Else With Code :"
      ],
      "metadata": {
        "id": "32h8s2sXMoff"
      }
    },
    {
      "cell_type": "code",
      "source": [
        "# Simple If Statements :\n",
        "age = 20\n",
        "if age >= 18:\n",
        "    print(\"You are eligible to vote.\")\n",
        "\n",
        "# If - Else Statements :\n",
        "num = int(input(\"Enter a number: \"))\n",
        "if num % 2 == 0:\n",
        "    print(\"Even number\")\n",
        "else:\n",
        "    print(\"Odd number\")\n",
        "\n",
        "# If - Elif - Else Ladder :\n",
        "marks = int(input(\"Enter your marks: \"))\n",
        "if marks >= 90:\n",
        "    print(\"Grade: A\")\n",
        "elif marks >= 75:\n",
        "    print(\"Grade: B\")\n",
        "elif marks >= 50:\n",
        "    print(\"Grade: C\")\n",
        "else:\n",
        "    print(\"Grade: Fail\")\n",
        "\n",
        "# Nested If - Else Statements :\n",
        "num = int(input(\"Enter a number: \"))\n",
        "if num >= 0:\n",
        "    if num == 0:\n",
        "        print(\"Number is zero\")\n",
        "    else:\n",
        "        print(\"Number is positive\")\n",
        "else:\n",
        "    print(\"Number is negative\")\n"
      ],
      "metadata": {
        "id": "dP9vnvE6MuFk"
      },
      "execution_count": null,
      "outputs": []
    },
    {
      "cell_type": "markdown",
      "source": [
        "\n",
        "\n",
        "---\n",
        "\n"
      ],
      "metadata": {
        "id": "AjO8zKjmNJbD"
      }
    },
    {
      "cell_type": "markdown",
      "source": [
        " Key Points:\n",
        "\n",
        "1) Indentation is mandatory in Python to define blocks.\n",
        "\n",
        "2) Conditions use comparison (==, >, <) and logical (and, or, not) operators.\n",
        "\n",
        "3) elif helps avoid multiple nested if statements for better readability."
      ],
      "metadata": {
        "id": "0QN2nvp4NKVl"
      }
    },
    {
      "cell_type": "markdown",
      "source": [
        "\n",
        "\n",
        "---\n",
        "\n"
      ],
      "metadata": {
        "id": "PivowVzCNRAH"
      }
    },
    {
      "cell_type": "markdown",
      "source": [
        "EXCERSIZE INVOLVING IF - ELSE :"
      ],
      "metadata": {
        "id": "dHXjVYCcNxOV"
      }
    },
    {
      "cell_type": "code",
      "source": [
        "# Finding the Minimum of 3 given numbers :\n",
        "\n",
        "# Taking input from the user\n",
        "num1 = float(input(\"Enter first number: \"))\n",
        "num2 = float(input(\"Enter second number: \"))\n",
        "num3 = float(input(\"Enter third number: \"))\n",
        "\n",
        "# Finding the minimum using if-else\n",
        "if num1 <= num2 and num1 <= num3:\n",
        "    smallest = num1\n",
        "elif num2 <= num1 and num2 <= num3:\n",
        "    smallest = num2\n",
        "else:\n",
        "    smallest = num3\n",
        "\n",
        "# Displaying result\n",
        "print(\"The smallest number is:\", smallest)\n"
      ],
      "metadata": {
        "id": "aHNdAuMRNm8y"
      },
      "execution_count": null,
      "outputs": []
    },
    {
      "cell_type": "markdown",
      "source": [
        "\n",
        "\n",
        "---\n",
        "\n"
      ],
      "metadata": {
        "id": "R9AHsOS9OGDw"
      }
    },
    {
      "cell_type": "markdown",
      "source": [
        "EXCERSIZE INVOLVING IF - ELSE :"
      ],
      "metadata": {
        "id": "Pn3zXeq8OHxJ"
      }
    },
    {
      "cell_type": "code",
      "source": [
        "# Menu - Driven Calculator in Python :\n",
        "\n",
        "while True:\n",
        "    # Display Menu\n",
        "    print(\"\\n===== MENU DRIVEN CALCULATOR =====\")\n",
        "    print(\"1. Addition\")\n",
        "    print(\"2. Subtraction\")\n",
        "    print(\"3. Multiplication\")\n",
        "    print(\"4. Division\")\n",
        "    print(\"5. Modulus\")\n",
        "    print(\"6. Exponentiation\")\n",
        "    print(\"7. Exit\")\n",
        "\n",
        "    # Taking user's choice\n",
        "    choice = int(input(\"Enter your choice (1-7): \"))\n",
        "\n",
        "    # Exit condition\n",
        "    if choice == 7:\n",
        "        print(\"Exiting the calculator... Goodbye!\")\n",
        "        break\n",
        "\n",
        "    # Taking numbers as input\n",
        "    num1 = float(input(\"Enter first number: \"))\n",
        "    num2 = float(input(\"Enter second number: \"))\n",
        "\n",
        "    # Performing operations\n",
        "    if choice == 1:\n",
        "        print(\"Result:\", num1 + num2)\n",
        "    elif choice == 2:\n",
        "        print(\"Result:\", num1 - num2)\n",
        "    elif choice == 3:\n",
        "        print(\"Result:\", num1 * num2)\n",
        "    elif choice == 4:\n",
        "        if num2 != 0:\n",
        "            print(\"Result:\", num1 / num2)\n",
        "        else:\n",
        "            print(\"Error: Division by zero is not allowed!\")\n",
        "    elif choice == 5:\n",
        "        print(\"Result:\", num1 % num2)\n",
        "    elif choice == 6:\n",
        "        print(\"Result:\", num1 ** num2)\n",
        "    else:\n",
        "        print(\"Invalid choice! Please enter a number between 1 and 7.\")\n"
      ],
      "metadata": {
        "colab": {
          "base_uri": "https://localhost:8080/"
        },
        "id": "VtmXq9e3OGyb",
        "outputId": "df691e70-9382-4ec7-d87e-d610b000ceeb"
      },
      "execution_count": 2,
      "outputs": [
        {
          "output_type": "stream",
          "name": "stdout",
          "text": [
            "\n",
            "===== MENU DRIVEN CALCULATOR =====\n",
            "1. Addition\n",
            "2. Subtraction\n",
            "3. Multiplication\n",
            "4. Division\n",
            "5. Modulus\n",
            "6. Exponentiation\n",
            "7. Exit\n",
            "Enter your choice (1-7): 2\n",
            "Enter first number: 6\n",
            "Enter second number: 3\n",
            "Result: 3.0\n",
            "\n",
            "===== MENU DRIVEN CALCULATOR =====\n",
            "1. Addition\n",
            "2. Subtraction\n",
            "3. Multiplication\n",
            "4. Division\n",
            "5. Modulus\n",
            "6. Exponentiation\n",
            "7. Exit\n",
            "Enter your choice (1-7): 7\n",
            "Exiting the calculator... Goodbye!\n"
          ]
        }
      ]
    },
    {
      "cell_type": "markdown",
      "source": [
        "# 3) Modules In Python : -"
      ],
      "metadata": {
        "id": "iq4XrJQdOsTs"
      }
    },
    {
      "cell_type": "markdown",
      "source": [
        "A module in Python is a file containing Python code (functions, classes, or variables) that can be imported and reused in other Python programs.\n",
        "It helps in code organization, reusability, and maintainability.\n",
        "\n",
        "A module file has the extension `.py`.\n",
        "\n",
        "\n",
        "Python provides:\n",
        "\n",
        "1) Built-in modules (predefined) like math, random, datetime.\n",
        "\n",
        "2) User-defined modules (created by programmers).\n",
        "\n"
      ],
      "metadata": {
        "id": "V013WD6UOxfo"
      }
    },
    {
      "cell_type": "markdown",
      "source": [
        "\n",
        "\n",
        "---\n",
        "\n"
      ],
      "metadata": {
        "id": "5kWFWjbEPRgU"
      }
    },
    {
      "cell_type": "markdown",
      "source": [
        "Types of Modules in Python :"
      ],
      "metadata": {
        "id": "g7DdhHQfPSjG"
      }
    },
    {
      "cell_type": "markdown",
      "source": [
        "| **Type**                 | **Description**                                        |\n",
        "| ------------------------ | ------------------------------------------------------ |\n",
        "| **Built-in Modules**     | Pre-installed with Python (e.g., `math`, `os`, `sys`). |\n",
        "| **User-defined Modules** | Custom modules created by developers for reuse.        |\n",
        "| **External Modules**     | Installed using `pip` (e.g., `numpy`, `pandas`).       |\n"
      ],
      "metadata": {
        "id": "SVg-nQh6PWoH"
      }
    },
    {
      "cell_type": "markdown",
      "source": [
        "\n",
        "\n",
        "---\n",
        "\n"
      ],
      "metadata": {
        "id": "LslSAar1Pc1l"
      }
    },
    {
      "cell_type": "markdown",
      "source": [
        "Using Modules in Python :"
      ],
      "metadata": {
        "id": "539eyxAyPf-Q"
      }
    },
    {
      "cell_type": "markdown",
      "source": [
        "Modules are imported using the `import` statement."
      ],
      "metadata": {
        "id": "lqBxFjRLPf4N"
      }
    },
    {
      "cell_type": "code",
      "source": [
        "# Way - 1 of Importing Modules :\n",
        "# import module_name\n",
        "\n",
        "# Way - 2 of Importing Modules :\n",
        "# from module_name import function_name\n"
      ],
      "metadata": {
        "id": "53dRhFkpPnO5"
      },
      "execution_count": null,
      "outputs": []
    },
    {
      "cell_type": "markdown",
      "source": [
        "\n",
        "\n",
        "---\n",
        "\n"
      ],
      "metadata": {
        "id": "0gjDl0u2P450"
      }
    },
    {
      "cell_type": "markdown",
      "source": [
        "Examples of Using Modules :"
      ],
      "metadata": {
        "id": "tGCT2GP7P6Ah"
      }
    },
    {
      "cell_type": "code",
      "source": [
        "# Built-In Modules :\n",
        "\n",
        "# import math\n",
        "\n",
        "# num = 16\n",
        "# print(\"Square Root:\", math.sqrt(num))\n",
        "# print(\"Factorial:\", math.factorial(5))\n",
        "# print(\"Pi value:\", math.pi)\n",
        "\n",
        "\n",
        "# # Using from...import :\n",
        "\n",
        "# from math import sqrt, factorial\n",
        "\n",
        "# print(sqrt(25))      # 5.0\n",
        "# print(factorial(6))  # 720\n",
        "\n",
        "# # Using 'as' (alias for modules) :\n",
        "\n",
        "# import math as m\n",
        "\n",
        "# print(m.pow(2, 3))   # 8.0\n",
        "\n",
        "# # Creating and Using a User - Defined Module :\n",
        "\n",
        "# # 1️⃣ Create a file my_module.py:\n",
        "\n",
        "# def greet(name):\n",
        "#     return f\"Hello, {name}!\"\n",
        "\n",
        "# def add(a, b):\n",
        "#     return a + b\n",
        "\n",
        "# # 2️⃣ Use it in main.py:\n",
        "\n",
        "# import my_module\n",
        "\n",
        "# print(my_module.greet(\"Alice\"))\n",
        "# print(\"Sum =\", my_module.add(5, 10))\n",
        "\n",
        "# # Checking all the functions of a Module :\n",
        "\n",
        "# import math\n",
        "# print(dir(math))   # Lists all attributes and functions in math module\n"
      ],
      "metadata": {
        "id": "IRpCJ4fGQBFz"
      },
      "execution_count": null,
      "outputs": []
    },
    {
      "cell_type": "markdown",
      "source": [
        "\n",
        "\n",
        "---\n",
        "\n"
      ],
      "metadata": {
        "id": "DkoTHQfuQq-h"
      }
    },
    {
      "cell_type": "markdown",
      "source": [
        "Key Points About Modules :\n",
        "\n",
        "1) Helps in code reusability (functions and variables can be used in multiple files).\n",
        "\n",
        "2) Avoids rewriting code multiple times.\n",
        "\n",
        "3) You can import:\n",
        "\n",
        "a) Entire module\n",
        "\n",
        "b) Specific functions (from module import func)\n",
        "\n",
        "c) Use alias (import module as alias)."
      ],
      "metadata": {
        "id": "DXHYZd9pQsAA"
      }
    },
    {
      "cell_type": "markdown",
      "source": [
        "\n",
        "\n",
        "---\n",
        "\n"
      ],
      "metadata": {
        "id": "KTdseHqrQ__p"
      }
    },
    {
      "cell_type": "code",
      "source": [
        "# Code for listing all the modules available in Python :\n",
        "# help('modules')"
      ],
      "metadata": {
        "id": "oXWb2KvYRZIo"
      },
      "execution_count": null,
      "outputs": []
    },
    {
      "cell_type": "markdown",
      "source": [
        "\n",
        "\n",
        "---\n",
        "\n"
      ],
      "metadata": {
        "id": "huj4pWwESOC_"
      }
    },
    {
      "cell_type": "markdown",
      "source": [
        "# 4) Loops In Python :"
      ],
      "metadata": {
        "id": "aaz9jRrIRynN"
      }
    },
    {
      "cell_type": "markdown",
      "source": [
        "Loops in Python are control structures that allow repeated execution of a block of code as long as a specified condition is true.\n",
        "\n",
        "\n",
        "✅ Need for Loops:\n",
        "\n",
        "1) Avoids writing repetitive code.\n",
        "\n",
        "2) Automates tasks that require iteration (e.g., printing numbers, processing lists, reading data).\n",
        "\n",
        "3) Used in data processing, pattern printing, algorithms, etc."
      ],
      "metadata": {
        "id": "mX-tDRxlR2jd"
      }
    },
    {
      "cell_type": "markdown",
      "source": [
        "\n",
        "\n",
        "---\n",
        "\n"
      ],
      "metadata": {
        "id": "Zf94QZs8TAQo"
      }
    },
    {
      "cell_type": "markdown",
      "source": [
        "Types of Loops in Python :"
      ],
      "metadata": {
        "id": "Zv3BfkTFSLPB"
      }
    },
    {
      "cell_type": "markdown",
      "source": [
        "A) For - Loops :\n",
        "\n",
        "Used when the number of iterations is known or finite (like iterating over a list, string, or range)."
      ],
      "metadata": {
        "id": "QGWG7PniSXoh"
      }
    },
    {
      "cell_type": "code",
      "source": [
        "# Syntax :\n",
        "# for variable in sequence:\n",
        "#     # code block"
      ],
      "metadata": {
        "id": "XNfl45GsSfWC"
      },
      "execution_count": null,
      "outputs": []
    },
    {
      "cell_type": "markdown",
      "source": [
        "\n",
        "\n",
        "---\n",
        "\n"
      ],
      "metadata": {
        "id": "OUfpKK-kS9ny"
      }
    },
    {
      "cell_type": "code",
      "source": [
        "# Example - 1 :\n",
        "# Iterating over a range of numbers :\n",
        "\n",
        "for i in range(1, 6):\n",
        "    print(i)\n",
        "\n",
        "\n",
        "# Example - 2 :\n",
        "# Iterating over a list :\n",
        "\n",
        "fruits = [\"apple\", \"banana\", \"cherry\"]\n",
        "for fruit in fruits:\n",
        "    print(fruit)\n"
      ],
      "metadata": {
        "id": "TAYyHp4kSp4D"
      },
      "execution_count": null,
      "outputs": []
    },
    {
      "cell_type": "markdown",
      "source": [
        "\n",
        "\n",
        "---\n",
        "\n"
      ],
      "metadata": {
        "id": "_I2VYMNyTFsy"
      }
    },
    {
      "cell_type": "markdown",
      "source": [
        "B) While Loop :\n",
        "\n",
        "Used when the number of iterations is unknown and the loop should run until a condition becomes False."
      ],
      "metadata": {
        "id": "FM8OZhBoTG-5"
      }
    },
    {
      "cell_type": "code",
      "source": [
        "# Syntax :\n",
        "# while condition:\n",
        "#     # code block"
      ],
      "metadata": {
        "id": "EhePknBmTRDX"
      },
      "execution_count": null,
      "outputs": []
    },
    {
      "cell_type": "markdown",
      "source": [
        "\n",
        "\n",
        "---\n",
        "\n"
      ],
      "metadata": {
        "id": "IRrIIyKPVJ0z"
      }
    },
    {
      "cell_type": "markdown",
      "source": [
        "While Loop With Else :\n",
        "\n",
        "In Python, a while loop can have an else clause, which executes after the loop finishes normally (i.e., the condition becomes False).\n",
        "\n",
        "If the loop is terminated using break, the else block is skipped."
      ],
      "metadata": {
        "id": "79dpTTwpU6ms"
      }
    },
    {
      "cell_type": "code",
      "source": [
        "# Syntax :\n",
        "# while condition:\n",
        "#     # loop body\n",
        "# else:\n",
        "#     # executes when while condition becomes False\n"
      ],
      "metadata": {
        "id": "6PYALxGIVDXq"
      },
      "execution_count": null,
      "outputs": []
    },
    {
      "cell_type": "markdown",
      "source": [
        "\n",
        "\n",
        "---\n",
        "\n"
      ],
      "metadata": {
        "id": "dT_0bzGpVH10"
      }
    },
    {
      "cell_type": "code",
      "source": [
        "# Example - 1 : Normal Execution :\n",
        "count = 1\n",
        "while count <= 5:\n",
        "    print(count)\n",
        "    count += 1\n",
        "else:\n",
        "    print(\"Loop finished successfully\")\n",
        "\n",
        "\n",
        "# Example - 2 : When \"break\" is used :\n",
        "count = 1\n",
        "while count <= 5:\n",
        "    if count == 3:\n",
        "        break\n",
        "    print(count)\n",
        "    count += 1\n",
        "else:\n",
        "    print(\"Loop finished successfully\")\n",
        "\n"
      ],
      "metadata": {
        "id": "VnFH5HLfVPTn"
      },
      "execution_count": null,
      "outputs": []
    },
    {
      "cell_type": "markdown",
      "source": [
        "\n",
        "\n",
        "---\n",
        "\n"
      ],
      "metadata": {
        "id": "rVWDuStQVgGy"
      }
    },
    {
      "cell_type": "markdown",
      "source": [
        "Key Points:\n",
        "\n",
        "1) else block is optional with a while loop.\n",
        "\n",
        "2) Executes only if the loop ends normally (without break).\n",
        "\n",
        "3) Often used for search operations (e.g., \"not found\" message)."
      ],
      "metadata": {
        "id": "0Dn5alikVgzZ"
      }
    },
    {
      "cell_type": "markdown",
      "source": [
        "\n",
        "\n",
        "---\n",
        "\n"
      ],
      "metadata": {
        "id": "JFdSAT1cTW1-"
      }
    },
    {
      "cell_type": "code",
      "source": [
        "# Example :\n",
        "\n",
        "count = 1\n",
        "while count <= 5:\n",
        "    print(count)\n",
        "    count += 1\n"
      ],
      "metadata": {
        "id": "dazYTMDxTXwm"
      },
      "execution_count": null,
      "outputs": []
    },
    {
      "cell_type": "markdown",
      "source": [
        "\n",
        "\n",
        "---\n",
        "\n"
      ],
      "metadata": {
        "id": "6foqYohVTekY"
      }
    },
    {
      "cell_type": "markdown",
      "source": [
        "Loop Control Statements :\n",
        "\n",
        "These are special keywords used inside loops to change their normal flow."
      ],
      "metadata": {
        "id": "ThKAnvwTTk29"
      }
    },
    {
      "cell_type": "markdown",
      "source": [
        "i) break Statement :\n",
        "\n",
        "Stops the loop immediately when a condition is met."
      ],
      "metadata": {
        "id": "zkvDvZfGTtek"
      }
    },
    {
      "cell_type": "code",
      "source": [
        "for i in range(1, 10):\n",
        "    if i == 5:\n",
        "        break\n",
        "    print(i)\n"
      ],
      "metadata": {
        "id": "OBiQEByOT1aB"
      },
      "execution_count": null,
      "outputs": []
    },
    {
      "cell_type": "markdown",
      "source": [
        "ii) continue Statement :\n",
        "\n",
        "Skips the current iteration and continues to the next."
      ],
      "metadata": {
        "id": "7rQ5sIVRT5U6"
      }
    },
    {
      "cell_type": "code",
      "source": [
        "for i in range(1, 6):\n",
        "    if i == 3:\n",
        "        continue\n",
        "    print(i)\n"
      ],
      "metadata": {
        "id": "jJ8VnyiiT9dl"
      },
      "execution_count": null,
      "outputs": []
    },
    {
      "cell_type": "markdown",
      "source": [
        "iii) pass Statement :\n",
        "\n",
        "Used as a placeholder when no action is required."
      ],
      "metadata": {
        "id": "67tgMFilUBON"
      }
    },
    {
      "cell_type": "code",
      "source": [
        "for i in range(3):\n",
        "    pass  # Placeholder for future code\n",
        "print(\"Loop executed successfully\")\n"
      ],
      "metadata": {
        "id": "Zu5XphwGUDa6"
      },
      "execution_count": null,
      "outputs": []
    },
    {
      "cell_type": "markdown",
      "source": [
        "\n",
        "\n",
        "---\n",
        "\n"
      ],
      "metadata": {
        "id": "4anqN-vLUIBz"
      }
    },
    {
      "cell_type": "markdown",
      "source": [
        "Summary for Loops In Python :\n",
        "\n",
        "| **Loop Type**  | **Usage**                             |\n",
        "| -------------- | ------------------------------------- |\n",
        "| **for loop**   | Iterates over a sequence or range.    |\n",
        "| **while loop** | Repeats as long as condition is true. |\n",
        "| **break**      | Exits the loop early.                 |\n",
        "| **continue**   | Skips current iteration.              |\n",
        "| **pass**       | Does nothing (placeholder).           |\n"
      ],
      "metadata": {
        "id": "XsDS0TwXUI7p"
      }
    },
    {
      "cell_type": "markdown",
      "source": [
        "\n",
        "\n",
        "---\n",
        "\n"
      ],
      "metadata": {
        "id": "PKyXnmn-US4K"
      }
    },
    {
      "cell_type": "code",
      "source": [
        "# Making a Number Guessing Game Using Loops In Python :\n",
        "\n",
        "import random\n",
        "\n",
        "print(\"🎯 Welcome to the Guessing Game! 🎯\")\n",
        "print(\"Choose Difficulty Level:\")\n",
        "print(\"1. Easy (1-10)\")\n",
        "print(\"2. Medium (1-50)\")\n",
        "print(\"3. Hard (1-100)\")\n",
        "\n",
        "# Select difficulty\n",
        "choice = int(input(\"Enter your choice (1-3): \"))\n",
        "if choice == 1:\n",
        "    max_num, attempts = 10, 5\n",
        "elif choice == 2:\n",
        "    max_num, attempts = 50, 7\n",
        "else:\n",
        "    max_num, attempts = 100, 10\n",
        "\n",
        "# Generate a random number\n",
        "secret_number = random.randint(1, max_num)\n",
        "score = 100  # Starting score\n",
        "\n",
        "print(f\"\\nI have chosen a number between 1 and {max_num}. Can you guess it?\")\n",
        "print(f\"You have {attempts} attempts. Good luck! 🎲\\n\")\n",
        "\n",
        "for attempt in range(1, attempts + 1):\n",
        "    guess = int(input(f\"Attempt {attempt}: Enter your guess ➡ \"))\n",
        "\n",
        "    # Checking guess\n",
        "    if guess == secret_number:\n",
        "        print(f\"🎉 Congratulations! You guessed it in {attempt} tries!\")\n",
        "        print(f\"🏆 Your final score: {score}\")\n",
        "        break\n",
        "    elif guess < secret_number:\n",
        "        print(\"📉 Too low! Try a higher number.\")\n",
        "    else:\n",
        "        print(\"📈 Too high! Try a lower number.\")\n",
        "\n",
        "    # Give a hint after 3 wrong tries\n",
        "    if attempt == 3:\n",
        "        if secret_number % 2 == 0:\n",
        "            print(\"💡 Hint: The number is EVEN.\")\n",
        "        else:\n",
        "            print(\"💡 Hint: The number is ODD.\")\n",
        "\n",
        "    score -= 10  # Reduce score for wrong attempt\n",
        "\n",
        "else:\n",
        "    print(\"\\n😢 Game Over! You've used all attempts.\")\n",
        "    print(f\"The correct number was {secret_number}. Better luck next time!\")\n",
        "\n",
        "print(\"🎮 Thanks for playing the Guessing Game!\")\n"
      ],
      "metadata": {
        "id": "6NFTX8YdV3eh"
      },
      "execution_count": null,
      "outputs": []
    },
    {
      "cell_type": "markdown",
      "source": [
        "\n",
        "\n",
        "---\n",
        "\n"
      ],
      "metadata": {
        "id": "ADb2mquzWEZq"
      }
    },
    {
      "cell_type": "markdown",
      "source": [
        "Problem : The Current population of a town is 10000 . The population of the town is increasing at the rate of 10% every year . You have to write down a program to find out the population at the end of the each of last 10 years ."
      ],
      "metadata": {
        "id": "LShD4lZgWdKW"
      }
    },
    {
      "cell_type": "code",
      "source": [
        "# Solving a Problem Involving Loops In Python :\n",
        "\n",
        "# Initial population\n",
        "population = 10000\n",
        "growth_rate = 10  # in percent\n",
        "\n",
        "print(\"Population of the town for the last 10 years:\\n\")\n",
        "\n",
        "# Loop for 10 years (counting backwards)\n",
        "for year in range(1, 11):\n",
        "    population = population / (1 + growth_rate / 100)  # calculating previous year's population\n",
        "    print(f\"Year -{year}: {int(population)}\")\n"
      ],
      "metadata": {
        "id": "4EL_2WI1WRHj"
      },
      "execution_count": null,
      "outputs": []
    },
    {
      "cell_type": "markdown",
      "source": [
        "\n",
        "\n",
        "---\n",
        "\n"
      ],
      "metadata": {
        "id": "YzTp5q51XB_B"
      }
    }
  ]
}