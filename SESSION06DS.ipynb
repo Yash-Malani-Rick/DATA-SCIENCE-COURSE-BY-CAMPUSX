{
  "nbformat": 4,
  "nbformat_minor": 0,
  "metadata": {
    "colab": {
      "provenance": [],
      "authorship_tag": "ABX9TyPMwnBvScyF74NB9ha8Gxm1",
      "include_colab_link": true
    },
    "kernelspec": {
      "name": "python3",
      "display_name": "Python 3"
    },
    "language_info": {
      "name": "python"
    }
  },
  "cells": [
    {
      "cell_type": "markdown",
      "metadata": {
        "id": "view-in-github",
        "colab_type": "text"
      },
      "source": [
        "<a href=\"https://colab.research.google.com/github/Yash-Malani-Rick/DATA-SCIENCE-COURSE-BY-CAMPUSX/blob/master/SESSION06DS.ipynb\" target=\"_parent\"><img src=\"https://colab.research.google.com/assets/colab-badge.svg\" alt=\"Open In Colab\"/></a>"
      ]
    },
    {
      "cell_type": "markdown",
      "source": [
        "# 1) Functions in Python : -"
      ],
      "metadata": {
        "id": "J3NuGjm_Dw8D"
      }
    },
    {
      "cell_type": "markdown",
      "source": [
        "\n",
        "\n",
        "A function is a block of reusable code that performs a specific task when called. Functions in Python are **first - class** citizens i.e. they can act like datatypes .\n",
        "\n",
        "Functions help:\n",
        "\n",
        "* Avoid code repetition\n",
        "\n",
        "* Improve readability and debugging\n",
        "\n",
        "* Make programs modular and reusable\n",
        "\n"
      ],
      "metadata": {
        "id": "dZqZ-QVG9eTG"
      }
    },
    {
      "cell_type": "markdown",
      "source": [
        "Benefits of Using Function : -\n",
        "\n",
        "* Code ReUsability\n",
        "* Code Modularity\n",
        "* Code  Readability"
      ],
      "metadata": {
        "id": "NrnWtPmvj0bG"
      }
    },
    {
      "cell_type": "markdown",
      "source": [
        "\n",
        "\n",
        "---\n",
        "\n"
      ],
      "metadata": {
        "id": "2o03HDJUDZan"
      }
    },
    {
      "cell_type": "markdown",
      "source": [
        "Characteristics of Functions : -\n",
        "\n",
        "* Defined once, used many times\n",
        "\n",
        "* Can accept input (parameters/arguments)\n",
        "\n",
        "* Can return output using return keyword\n",
        "\n",
        "* Can be built-in or user-defined\n",
        "\n",
        "* Support default and variable-length arguments\n",
        "\n"
      ],
      "metadata": {
        "id": "nSxNpTvF9wSK"
      }
    },
    {
      "cell_type": "markdown",
      "source": [
        "\n",
        "\n",
        "---\n",
        "\n"
      ],
      "metadata": {
        "id": "MsJ1A8_gDYlQ"
      }
    },
    {
      "cell_type": "markdown",
      "source": [
        "Arguments and Parameters : -\n",
        "\n",
        "In Python, arguments and parameters are related concepts used in functions, but they are not the same:\n",
        "\n"
      ],
      "metadata": {
        "id": "QyXZoLJSRQsQ"
      }
    },
    {
      "cell_type": "markdown",
      "source": [
        "* Parameters :\n",
        "\n",
        "  * Parameters are variables defined in a function’s definition that act as placeholders for the values the function will receive.\n",
        "\n",
        "  * They are used to accept inputs when the function is called.\n",
        "\n"
      ],
      "metadata": {
        "id": "vgDsln2JRaqG"
      }
    },
    {
      "cell_type": "code",
      "source": [
        "def greet(name):  # 'name' is a parameter\n",
        "    print(\"Hello\", name)\n"
      ],
      "metadata": {
        "id": "YWSY6UYiRmkb"
      },
      "execution_count": 41,
      "outputs": []
    },
    {
      "cell_type": "markdown",
      "source": [
        "* Argument :\n",
        "\n",
        "  * Arguments are the actual values or data passed to a function when it is called.\n",
        "\n",
        "  * These values are assigned to parameters inside the function."
      ],
      "metadata": {
        "id": "hFKvQ2_URnxH"
      }
    },
    {
      "cell_type": "code",
      "source": [
        "greet(\"Alice\")   # \"Alice\" is an argument\n"
      ],
      "metadata": {
        "colab": {
          "base_uri": "https://localhost:8080/"
        },
        "id": "lZHku3bLR0Zk",
        "outputId": "2f782202-50ee-4b0d-90f5-8c4a34847486"
      },
      "execution_count": 42,
      "outputs": [
        {
          "output_type": "stream",
          "name": "stdout",
          "text": [
            "Hello Alice\n"
          ]
        }
      ]
    },
    {
      "cell_type": "markdown",
      "source": [
        "Key Differences : -\n",
        "\n",
        "| Feature    | Parameter                              | Argument                            |\n",
        "| ---------- | -------------------------------------- | ----------------------------------- |\n",
        "| Definition | Variable in function definition        | Value passed during function call   |\n",
        "| Existence  | Exists only inside the function header | Exists when the function is invoked |\n",
        "| Example    | `name` in `def greet(name):`           | `\"Alice\"` in `greet(\"Alice\")`       |\n"
      ],
      "metadata": {
        "id": "ecRNsmfPR3Vq"
      }
    },
    {
      "cell_type": "markdown",
      "source": [
        "Note : -\n",
        "\n",
        "* A function can have multiple parameters and can accept multiple arguments.\n",
        "\n",
        "* Types of arguments: positional, keyword, default, variable-length (*args, **kwargs)."
      ],
      "metadata": {
        "id": "aL0KhtdUR-r9"
      }
    },
    {
      "cell_type": "markdown",
      "source": [
        "\n",
        "\n",
        "---\n",
        "\n"
      ],
      "metadata": {
        "id": "T-w-SjoWRQAE"
      }
    },
    {
      "cell_type": "markdown",
      "source": [
        "Types of Arguments : -\n",
        "\n",
        "In Python, function arguments are of five main types: **Positional arguments** are passed in the same order as parameters. **Keyword arguments** specify parameter names explicitly. **Default arguments** have predefined values if not provided by the caller. **Variable-length arguments** (`*args`) accept multiple positional values, while **keyword variable-length arguments** (`**kwargs`) accept multiple keyword-value pairs. These allow functions to handle flexible inputs, making them versatile and reusable for different scenarios without needing to define separate functions for each input variation.\n"
      ],
      "metadata": {
        "id": "9dETQOOgS0Fs"
      }
    },
    {
      "cell_type": "markdown",
      "source": [
        "\n",
        "\n",
        "---\n",
        "\n"
      ],
      "metadata": {
        "id": "XM3_-dRiS03Y"
      }
    },
    {
      "cell_type": "markdown",
      "source": [
        "Syntax of a Function : -\n",
        "\n",
        "\n",
        "\n",
        "```\n",
        "def function_name(parameters):\n",
        "    \"\"\"Optional Docstring (function description)\"\"\"\n",
        "    # Function body\n",
        "    statement(s)\n",
        "    return value   # (optional)\n",
        "\n",
        "```"
      ],
      "metadata": {
        "id": "2G7JwbIF98Tv"
      }
    },
    {
      "cell_type": "markdown",
      "source": [
        "\n",
        "\n",
        "---\n",
        "\n"
      ],
      "metadata": {
        "id": "i6EYFdUKDXqk"
      }
    },
    {
      "cell_type": "markdown",
      "source": [
        "Types of Functions in Python : -\n",
        "\n",
        "| **Type**                         | **Description**                                                    |\n",
        "| -------------------------------- | ------------------------------------------------------------------ |\n",
        "| **Built-in Functions**           | Predefined in Python (e.g., `print()`, `len()`).                   |\n",
        "| **User-defined Functions**       | Created by the programmer.                                         |\n",
        "| **Anonymous Functions (Lambda)** | Functions without a name, defined using `lambda` keyword.          |\n",
        "| **Recursive Functions**          | A function that calls itself to solve sub-problems.                |\n",
        "| **Higher-order Functions**       | Functions that take another function as an argument or return one. |\n"
      ],
      "metadata": {
        "id": "dUnOgHZf-EEG"
      }
    },
    {
      "cell_type": "markdown",
      "source": [
        "\n",
        "\n",
        "---\n",
        "\n"
      ],
      "metadata": {
        "id": "LGDh9jcNDWSN"
      }
    },
    {
      "cell_type": "markdown",
      "source": [
        "Defining and Calling a Function : -\n"
      ],
      "metadata": {
        "id": "UO6CTwJ--JGf"
      }
    },
    {
      "cell_type": "markdown",
      "source": [],
      "metadata": {
        "id": "g6RaHqgMidiI"
      }
    },
    {
      "cell_type": "code",
      "source": [
        "# Example :\n",
        "\n",
        "def greet():\n",
        "    print(\"Hello, Welcome to Python!\")\n",
        "\n",
        "greet()  # Function call\n"
      ],
      "metadata": {
        "colab": {
          "base_uri": "https://localhost:8080/"
        },
        "id": "t1UTF9AR-QQ6",
        "outputId": "bbee005f-d779-4be5-9284-15c82c7e50db"
      },
      "execution_count": 43,
      "outputs": [
        {
          "output_type": "stream",
          "name": "stdout",
          "text": [
            "Hello, Welcome to Python!\n"
          ]
        }
      ]
    },
    {
      "cell_type": "markdown",
      "source": [
        "\n",
        "\n",
        "---\n",
        "\n"
      ],
      "metadata": {
        "id": "CBaLxifcDVKI"
      }
    },
    {
      "cell_type": "markdown",
      "source": [
        "Parameters and Arguments : -\n",
        "\n",
        "a) Positional Arguments :\n",
        "\n",
        "* Definition:\n",
        " *  Positional arguments are the most common type of arguments in Python functions. They are passed in the same order as they are defined in the function parameters.\n",
        " * The position of each argument matters because Python assigns the value to parameters in order.\n",
        "\n",
        "* Key Points:\n",
        "\n",
        " * Order of arguments must be maintained.\n",
        "\n",
        " * The number of arguments passed must match the number of parameters (unless defaults are used).\n",
        "\n",
        "b) KeyWord Arguments :\n",
        "\n",
        "* Definition:\n",
        " * Keyword arguments are passed by explicitly naming the parameter while calling the function. This removes the dependency on the order of arguments.\n",
        "\n",
        "* Key Points:\n",
        "\n",
        " * The order of arguments does not matter when keywords are used.\n",
        "\n",
        " * Useful for functions with many parameters for clarity.\n",
        "\n",
        " * Positional arguments cannot follow keyword arguments in a function call.\n",
        "\n",
        "c) Default Arguments :\n",
        "\n",
        "* Definition:\n",
        " * Default arguments are parameters that have predefined values. If no value is passed during the function call, the default value is used.\n",
        "\n",
        "* Key Points:\n",
        "\n",
        " * Provides flexibility to call the function with fewer arguments.\n",
        "\n",
        " * Default parameters must be placed after non-default parameters in the function definition.\n",
        "\n",
        "d) Variable Length Arguments :\n",
        "\n",
        "Python allows functions to accept a variable number of arguments, using either *args or **kwargs.\n",
        "\n",
        " * 1️⃣ args (Non-Keyword Variable Arguments)\n",
        "  * Definition:\n",
        "    * Used to pass multiple positional arguments to a function.\n",
        "\n",
        "    * Collects extra arguments into a tuple.\n",
        "\n",
        "    * Useful when you are not sure about the number of arguments beforehand.\n",
        "\n",
        "* 2️⃣ kwargs (Keyword Variable Arguments)\n",
        " * Definition:\n",
        "   * Used to pass a variable number of keyword arguments to a function.\n",
        "\n",
        "   * Collects extra arguments into a dictionary, where keys are argument names and values are argument values.\n",
        "\n",
        "\n",
        "\n",
        "---\n",
        "\n",
        "Points to remember while using args and kwargs :\n",
        "\n",
        " * Order of the Arguments Matter (normal -> args -> kwargs)\n",
        " * The words \"args\" and \"kwargs\" are just a convenction , you can use any name of your choice .\n",
        "\n",
        "---\n",
        "\n",
        "Summary :\n",
        "\n",
        "| Argument Type   | Symbol     | Stored As     | Use Case                               |\n",
        "| --------------- | ---------- | ------------- | -------------------------------------- |\n",
        "| Positional      | -          | Normal values | Order matters                          |\n",
        "| Keyword         | -          | Normal values | Order doesn’t matter                   |\n",
        "| Default         | -          | Normal values | Optional parameters                    |\n",
        "| Variable Length | `*args`    | Tuple         | Unknown number of positional arguments |\n",
        "| Variable Length | `**kwargs` | Dictionary    | Unknown number of keyword arguments    |\n"
      ],
      "metadata": {
        "id": "SjjZsDW_-UOy"
      }
    },
    {
      "cell_type": "markdown",
      "source": [
        "\n",
        "\n",
        "---\n",
        "\n"
      ],
      "metadata": {
        "id": "hiLGhZ7vDOcY"
      }
    },
    {
      "cell_type": "code",
      "source": [
        "# Example for Positional Arguments :\n",
        "\n",
        "def add(a, b):\n",
        "    return a + b\n",
        "\n",
        "print(add(5, 10))  # 15\n",
        "\n",
        "\n",
        "# Example for KeyWord Arguments :\n",
        "\n",
        "def intro(name, age):\n",
        "    print(f\"My name is {name} and I'm {age} years old.\")\n",
        "\n",
        "intro(age=20, name=\"Alice\")\n",
        "\n",
        "# Example for Default Arguments :\n",
        "\n",
        "def greet(name=\"Guest\"):\n",
        "    print(\"Hello\", name)\n",
        "\n",
        "greet()         # Hello Guest\n",
        "greet(\"Alice\")  # Hello Alice\n",
        "\n",
        "# Variable - Length Arguments (Using '*args') :\n",
        "\n",
        "def sum_all(*numbers):\n",
        "    return sum(numbers)\n",
        "\n",
        "print(sum_all(1, 2, 3, 4))  # 10\n",
        "\n",
        "# Variable - Length Arguments (Using '**kwargs') :\n",
        "\n",
        "def details(**info):\n",
        "    for k, v in info.items():\n",
        "        print(k, \":\", v)\n",
        "\n",
        "details(name=\"Bob\", age=25)\n",
        "\n"
      ],
      "metadata": {
        "colab": {
          "base_uri": "https://localhost:8080/"
        },
        "id": "XIhcYCkP-blK",
        "outputId": "55ab37f9-7714-4b08-9d11-28075d5a3616"
      },
      "execution_count": 44,
      "outputs": [
        {
          "output_type": "stream",
          "name": "stdout",
          "text": [
            "15\n",
            "My name is Alice and I'm 20 years old.\n",
            "Hello Guest\n",
            "Hello Alice\n",
            "10\n",
            "name : Bob\n",
            "age : 25\n"
          ]
        }
      ]
    },
    {
      "cell_type": "markdown",
      "source": [
        "\n",
        "\n",
        "---\n",
        "\n"
      ],
      "metadata": {
        "id": "o7diYarzDM8D"
      }
    },
    {
      "cell_type": "markdown",
      "source": [
        "To get the documentation for a function , we can use the syntax :\n",
        "\n",
        "\n",
        "\n",
        "```\n",
        "function_name.__doc__\n",
        "\n",
        "```\n"
      ],
      "metadata": {
        "id": "YHYl3sQYWWHF"
      }
    },
    {
      "cell_type": "markdown",
      "source": [
        "\n",
        "\n",
        "---\n",
        "\n"
      ],
      "metadata": {
        "id": "byz_wP-3WVcX"
      }
    },
    {
      "cell_type": "markdown",
      "source": [
        "Return Statement : -\n",
        "\n",
        "The return statement in Python is used within a function to send a result or value back to the caller, terminating the function's execution immediately. A function can return a single value, multiple values as a tuple, or even no value (implicitly returning None). Once return is executed, the control exits the function and continues from where it was called. Without a return statement, functions return None by default after completing execution."
      ],
      "metadata": {
        "id": "oSb7w-5ABBH7"
      }
    },
    {
      "cell_type": "code",
      "source": [
        "# Code Example for 'return' statement :\n",
        "\n",
        "def square(num):\n",
        "    return num ** 2\n",
        "\n",
        "result = square(5)\n",
        "print(result)  # 25\n"
      ],
      "metadata": {
        "colab": {
          "base_uri": "https://localhost:8080/"
        },
        "id": "QtcuxOr4BEyy",
        "outputId": "a19f54c2-9bd9-441d-b6b8-2a056e9878b1"
      },
      "execution_count": 45,
      "outputs": [
        {
          "output_type": "stream",
          "name": "stdout",
          "text": [
            "25\n"
          ]
        }
      ]
    },
    {
      "cell_type": "markdown",
      "source": [
        "\n",
        "\n",
        "---\n",
        "\n"
      ],
      "metadata": {
        "id": "n4pOSuIRDMCO"
      }
    },
    {
      "cell_type": "markdown",
      "source": [
        "Scope of Variable : -\n",
        "\n",
        "* Local Scope → Defined inside a function, accessible only there.\n",
        "\n",
        "* Global Scope → Defined outside functions, accessible everywhere.\n",
        "\n",
        "* Use global keyword to modify global variables inside a function."
      ],
      "metadata": {
        "id": "umz4JOtuBsHQ"
      }
    },
    {
      "cell_type": "code",
      "source": [
        "x = 10  # Global\n",
        "\n",
        "def my_func():\n",
        "    global x\n",
        "    x = x + 5\n",
        "    print(\"Inside:\", x)\n",
        "\n",
        "my_func()\n",
        "print(\"Outside:\", x)\n"
      ],
      "metadata": {
        "colab": {
          "base_uri": "https://localhost:8080/"
        },
        "id": "bMeiOIuPB0JH",
        "outputId": "29d7db39-4d93-4fea-b576-7f463bae2467"
      },
      "execution_count": 46,
      "outputs": [
        {
          "output_type": "stream",
          "name": "stdout",
          "text": [
            "Inside: 15\n",
            "Outside: 15\n"
          ]
        }
      ]
    },
    {
      "cell_type": "markdown",
      "source": [
        "\n",
        "\n",
        "---\n",
        "\n"
      ],
      "metadata": {
        "id": "dHaEQotjDKns"
      }
    },
    {
      "cell_type": "markdown",
      "source": [
        "Lambda (Anonymous) Functions : -\n",
        "\n",
        "A lambda function in Python is an anonymous, single-line function defined using the lambda keyword, primarily used for short, temporary operations without requiring a full def function. It can take any number of arguments but only contains one expression, which is implicitly returned. Lambda functions are often used with functions like map(), filter(), and sorted() for concise, functional-style programming. They improve code readability in cases where defining a separate named function would be unnecessary."
      ],
      "metadata": {
        "id": "1L1rO0G3B5_v"
      }
    },
    {
      "cell_type": "code",
      "source": [
        "# Code Example for Lambda Function :\n",
        "square = lambda x: x * x\n",
        "print(square(6))  # 36\n"
      ],
      "metadata": {
        "colab": {
          "base_uri": "https://localhost:8080/"
        },
        "id": "Tl-tOLTgCFij",
        "outputId": "091e9030-16f0-4bae-dae6-9dbe608761ef"
      },
      "execution_count": 47,
      "outputs": [
        {
          "output_type": "stream",
          "name": "stdout",
          "text": [
            "36\n"
          ]
        }
      ]
    },
    {
      "cell_type": "markdown",
      "source": [
        "\n",
        "\n",
        "---\n",
        "\n"
      ],
      "metadata": {
        "id": "5-Zns-ZIDJLB"
      }
    },
    {
      "cell_type": "markdown",
      "source": [
        "Recursive Function : -\n",
        "\n",
        "A recursive function in Python is a function that calls itself either directly or indirectly to solve a problem by breaking it down into smaller, similar subproblems. It requires a base condition to stop the recursion and avoid infinite loops. Recursion is commonly used in problems involving repetitive tasks, tree traversal, factorial calculation, Fibonacci series, and divide-and-conquer algorithms. Each recursive call has its own execution context stored in the call stack until the base condition is met."
      ],
      "metadata": {
        "id": "Cqtq79OSCdCj"
      }
    },
    {
      "cell_type": "code",
      "source": [
        "# Example for Recursive Functions :\n",
        "\n",
        "def factorial(n):\n",
        "    if n == 0:\n",
        "        return 1\n",
        "    return n * factorial(n - 1)\n",
        "\n",
        "print(factorial(5))  # 120\n"
      ],
      "metadata": {
        "colab": {
          "base_uri": "https://localhost:8080/"
        },
        "id": "eV-ZJOdZCiZO",
        "outputId": "cdf8f4f8-11a5-4284-e32f-6621ff01d63b"
      },
      "execution_count": 48,
      "outputs": [
        {
          "output_type": "stream",
          "name": "stdout",
          "text": [
            "120\n"
          ]
        }
      ]
    },
    {
      "cell_type": "markdown",
      "source": [
        "\n",
        "\n",
        "---\n",
        "\n"
      ],
      "metadata": {
        "id": "4vNtITuUDH7u"
      }
    },
    {
      "cell_type": "markdown",
      "source": [
        "Higher - Order Functions : -\n",
        "\n",
        "A Higher-Order Function (HOF) in Python is a function that either takes one or more functions as arguments, returns a function as its output, or both. These functions treat other functions as first-class citizens, allowing flexible and modular code design. Common HOFs include map(), filter(), and reduce() for transforming, filtering, or aggregating data. They are widely used in functional programming, callbacks, decorators, and event-driven programming to simplify complex operations and improve code reusability and readability."
      ],
      "metadata": {
        "id": "twr0d8FeCrlm"
      }
    },
    {
      "cell_type": "code",
      "source": [
        "# Code Example for HOF :\n",
        "def apply_twice(func, value):\n",
        "    return func(func(value))\n",
        "\n",
        "print(apply_twice(lambda x: x+2, 5))  # 9\n"
      ],
      "metadata": {
        "colab": {
          "base_uri": "https://localhost:8080/"
        },
        "id": "N4zJZhe0Cya1",
        "outputId": "03a1ab94-2919-4127-e84f-c1560805347f"
      },
      "execution_count": 49,
      "outputs": [
        {
          "output_type": "stream",
          "name": "stdout",
          "text": [
            "9\n"
          ]
        }
      ]
    },
    {
      "cell_type": "markdown",
      "source": [
        "\n",
        "\n",
        "---\n",
        "\n"
      ],
      "metadata": {
        "id": "GjspMGixDHCJ"
      }
    },
    {
      "cell_type": "markdown",
      "source": [
        "Built - In Functions Examples : -\n",
        "\n",
        "| **Function** | **Description**                                 |\n",
        "| ------------ | ----------------------------------------------- |\n",
        "| `len()`      | Returns length of object.                       |\n",
        "| `max()`      | Returns largest item.                           |\n",
        "| `min()`      | Returns smallest item.                          |\n",
        "| `sorted()`   | Returns sorted sequence.                        |\n",
        "| `map()`      | Applies function to iterable.                   |\n",
        "| `filter()`   | Filters elements based on condition.            |\n",
        "| `reduce()`   | Applies rolling computation (from `functools`). |\n"
      ],
      "metadata": {
        "id": "QgQwj2pcC7Hr"
      }
    },
    {
      "cell_type": "markdown",
      "source": [
        "\n",
        "\n",
        "---\n",
        "\n"
      ],
      "metadata": {
        "id": "qngs5sJrDFM1"
      }
    },
    {
      "cell_type": "markdown",
      "source": [
        "Summary Table of Functions : -\n",
        "\n",
        "| **Feature**             | **Details**                                              |\n",
        "| ----------------------- | -------------------------------------------------------- |\n",
        "| **Definition**          | Block of reusable code.                                  |\n",
        "| **Types**               | Built-in, User-defined, Lambda, Recursive, Higher-order. |\n",
        "| **Arguments**           | Positional, Keyword, Default, Variable-length.           |\n",
        "| **Return**              | Returns single/multiple values.                          |\n",
        "| **Scope**               | Local and Global variables.                              |\n",
        "| **Anonymous Functions** | `lambda` keyword for single-expression functions.        |\n"
      ],
      "metadata": {
        "id": "XtvU8VSXDAd5"
      }
    },
    {
      "cell_type": "markdown",
      "source": [
        "\n",
        "\n",
        "---\n",
        "\n"
      ],
      "metadata": {
        "id": "47GFi3ubDDwT"
      }
    }
  ]
}