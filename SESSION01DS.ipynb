{
  "nbformat": 4,
  "nbformat_minor": 0,
  "metadata": {
    "colab": {
      "provenance": [],
      "collapsed_sections": [
        "iL8zUWFOJErV",
        "bXAngFh_PEFi",
        "C2gqGpFz7l8V",
        "72-hUT3ZQzlu",
        "d0XhDsPF-mtM",
        "5J9UYeJ0AqhE",
        "i7fBk7HGB4dA"
      ],
      "authorship_tag": "ABX9TyO9u31W0STytZrWTGugm0WX",
      "include_colab_link": true
    },
    "kernelspec": {
      "name": "python3",
      "display_name": "Python 3"
    },
    "language_info": {
      "name": "python"
    }
  },
  "cells": [
    {
      "cell_type": "markdown",
      "metadata": {
        "id": "view-in-github",
        "colab_type": "text"
      },
      "source": [
        "<a href=\"https://colab.research.google.com/github/Yash-Malani-Rick/DATA-SCIENCE-COURSE-BY-CAMPUSX/blob/master/SESSION01DS.ipynb\" target=\"_parent\"><img src=\"https://colab.research.google.com/assets/colab-badge.svg\" alt=\"Open In Colab\"/></a>"
      ]
    },
    {
      "cell_type": "markdown",
      "source": [
        "# 1) Python Output Using the Print function and DataTypes in Python : -"
      ],
      "metadata": {
        "id": "iL8zUWFOJErV"
      }
    },
    {
      "cell_type": "code",
      "source": [
        "# Prints hello world in as the output screen .\n",
        "print(\"Hello World\")"
      ],
      "metadata": {
        "colab": {
          "base_uri": "https://localhost:8080/"
        },
        "id": "VEpLIxw8JOOq",
        "outputId": "eefccfce-3bf6-4c9a-fbca-4175e8109afa"
      },
      "execution_count": 1,
      "outputs": [
        {
          "output_type": "stream",
          "name": "stdout",
          "text": [
            "Hello World\n"
          ]
        }
      ]
    },
    {
      "cell_type": "code",
      "source": [
        "# Prints the statements in double inverted commas out in the output screen .\n",
        "print(\"The best bollywood actor is no-one\")"
      ],
      "metadata": {
        "colab": {
          "base_uri": "https://localhost:8080/"
        },
        "id": "jhC7wLLyJlaV",
        "outputId": "c6aca24d-20cb-4fa9-e594-bfa94b613d8f"
      },
      "execution_count": 2,
      "outputs": [
        {
          "output_type": "stream",
          "name": "stdout",
          "text": [
            "The best bollywood actor is no-one\n"
          ]
        }
      ]
    },
    {
      "cell_type": "code",
      "source": [
        "print(7)"
      ],
      "metadata": {
        "colab": {
          "base_uri": "https://localhost:8080/"
        },
        "id": "25bpEAr4KBgW",
        "outputId": "de2bd31a-f4c6-4fef-ed7f-ea19cfb8425e"
      },
      "execution_count": 3,
      "outputs": [
        {
          "output_type": "stream",
          "name": "stdout",
          "text": [
            "7\n"
          ]
        }
      ]
    },
    {
      "cell_type": "code",
      "source": [
        "print(7.7)"
      ],
      "metadata": {
        "colab": {
          "base_uri": "https://localhost:8080/"
        },
        "id": "bX_Jc0LfKEPd",
        "outputId": "175bdd54-85de-4405-a23b-88838a51e102"
      },
      "execution_count": 4,
      "outputs": [
        {
          "output_type": "stream",
          "name": "stdout",
          "text": [
            "7.7\n"
          ]
        }
      ]
    },
    {
      "cell_type": "markdown",
      "source": [
        "Making the use of the print statements to print multiple values in python . The print function does print all the values presented to it or written in it with some space in between . This space arises due to the separator 'sep' parameter of the in-built print function ."
      ],
      "metadata": {
        "id": "8kBeofAdKlI7"
      }
    },
    {
      "cell_type": "code",
      "source": [
        "# Printing multiple parameters with separator parameters as a \" \" .\n",
        "print(\"Hello , World ! \" , 2 , 'This is a nice day' , 3.22 , True)\n",
        "\n",
        "# Printing the multiple parameters with separator parameters as \" - \" .\n",
        "print(\"Hello,World!\" , 2 , 'This is a nice day' , 3.22 , True , sep = ' - ')"
      ],
      "metadata": {
        "colab": {
          "base_uri": "https://localhost:8080/"
        },
        "id": "3WTFrbdgKrWv",
        "outputId": "754e1add-1b40-4746-e7bd-d5880321aa46"
      },
      "execution_count": 11,
      "outputs": [
        {
          "output_type": "stream",
          "name": "stdout",
          "text": [
            "Hello , World !  2 This is a nice day 3.22 True\n",
            "Hello,World! - 2 - This is a nice day - 3.22 - True\n"
          ]
        }
      ]
    },
    {
      "cell_type": "markdown",
      "source": [
        "Making the use of two print statements together prints the output of both of them in two separate lines . This is due to the ending 'end' parameter of the print function which can be assigned or changed the value based upon our needs ."
      ],
      "metadata": {
        "id": "3kNo2PscLxQ5"
      }
    },
    {
      "cell_type": "code",
      "source": [
        "# Normal print with end as \"/n\" .\n",
        "print(\"Hello\")\n",
        "print(\"World\")\n",
        "\n",
        "# Print function with end as a \" - \" .\n",
        "print(\"Hello\" ,end = \" - \")\n",
        "print(\"World\")"
      ],
      "metadata": {
        "colab": {
          "base_uri": "https://localhost:8080/"
        },
        "id": "jAEhDCXnL7vO",
        "outputId": "362c5855-30a3-4943-c281-6ff3fa2d89f5"
      },
      "execution_count": 10,
      "outputs": [
        {
          "output_type": "stream",
          "name": "stdout",
          "text": [
            "Hello\n",
            "World\n",
            "Hello - World\n"
          ]
        }
      ]
    },
    {
      "cell_type": "markdown",
      "source": [
        "Printing complex data typed values ."
      ],
      "metadata": {
        "id": "06fke4TXNm7-"
      }
    },
    {
      "cell_type": "code",
      "source": [
        "print(5+6j)"
      ],
      "metadata": {
        "colab": {
          "base_uri": "https://localhost:8080/"
        },
        "id": "5i3f9t1HNr25",
        "outputId": "1fac8a53-263f-437d-bb4d-cd9c1a9c8f98"
      },
      "execution_count": 12,
      "outputs": [
        {
          "output_type": "stream",
          "name": "stdout",
          "text": [
            "(5+6j)\n"
          ]
        }
      ]
    },
    {
      "cell_type": "markdown",
      "source": [
        "Printing lists or arrays in python ."
      ],
      "metadata": {
        "id": "Vp0wujNrNzOE"
      }
    },
    {
      "cell_type": "code",
      "source": [
        "print([1,2,3,4,5])"
      ],
      "metadata": {
        "colab": {
          "base_uri": "https://localhost:8080/"
        },
        "id": "c93YwMTrN4ew",
        "outputId": "936c9e19-a8da-43b1-ed40-095d2e1a85c8"
      },
      "execution_count": 13,
      "outputs": [
        {
          "output_type": "stream",
          "name": "stdout",
          "text": [
            "[1, 2, 3, 4, 5]\n"
          ]
        }
      ]
    },
    {
      "cell_type": "markdown",
      "source": [
        "There are many data types whose values we can use to print using the print function like Tuples , Sets and Dictionaries ."
      ],
      "metadata": {
        "id": "Pg14BldoOCGj"
      }
    },
    {
      "cell_type": "markdown",
      "source": [
        "DataTypes are the primary types or divisions of data that one can use to store data of various types such as integer , float , long , double , boolean and many more ."
      ],
      "metadata": {
        "id": "YSRa2jkSJ36P"
      }
    },
    {
      "cell_type": "markdown",
      "source": [
        "The \"type()\" function in python is used to print the type or the datatype of the variable and give the datatype of the input value .\n",
        "\n",
        "---\n",
        "\n"
      ],
      "metadata": {
        "id": "mhnTrti4Pcwu"
      }
    },
    {
      "cell_type": "markdown",
      "source": [
        "# 2) Variables in Python : -"
      ],
      "metadata": {
        "id": "bXAngFh_PEFi"
      }
    },
    {
      "cell_type": "markdown",
      "source": [
        "Variables in any programming language are containers or sets of data used to store values of a particular datatype ."
      ],
      "metadata": {
        "id": "qoo1AHHePJrF"
      }
    },
    {
      "cell_type": "code",
      "source": [
        "# Static vs Dynamic Typing\n",
        "# Static vs Dynamic Binding\n",
        "# Stylish declaration techniques"
      ],
      "metadata": {
        "id": "K8-tb22PPIGd"
      },
      "execution_count": null,
      "outputs": []
    },
    {
      "cell_type": "code",
      "source": [
        "# 'int' data type : -\n",
        "a = 4\n",
        "print(a)\n",
        "\n",
        "# FLoat data type : -\n",
        "b = 2.5\n",
        "print(b)\n",
        "\n",
        "# Boolean data type : -\n",
        "isTrue = True\n",
        "print(isTrue)\n",
        "\n",
        "# Sum of 2 Numbers : -\n",
        "m = 4\n",
        "n = 5\n",
        "print(m+n)"
      ],
      "metadata": {
        "colab": {
          "base_uri": "https://localhost:8080/"
        },
        "id": "lVNBDemDQO7p",
        "outputId": "0a2b491f-7fbb-4504-cfe2-8d003d7446ab"
      },
      "execution_count": 1,
      "outputs": [
        {
          "output_type": "stream",
          "name": "stdout",
          "text": [
            "4\n",
            "2.5\n",
            "True\n",
            "9\n"
          ]
        }
      ]
    },
    {
      "cell_type": "markdown",
      "source": [
        "\n",
        "\n",
        "---\n",
        "\n"
      ],
      "metadata": {
        "id": "srSzaqIA8FiV"
      }
    },
    {
      "cell_type": "markdown",
      "source": [
        "# Comments in Python : -"
      ],
      "metadata": {
        "id": "C2gqGpFz7l8V"
      }
    },
    {
      "cell_type": "markdown",
      "source": [
        "Comments in Python are non-executable text used to explain code, making it easier to understand. Single-line comments start with `#`, while multi-line comments use triple quotes (`'''` or `\"\"\"`). Comments help document logic, improve readability, and assist debugging but are ignored during program execution. Good commenting ensures maintainable, clear code.\n"
      ],
      "metadata": {
        "id": "BbMrTNZF7qmh"
      }
    },
    {
      "cell_type": "markdown",
      "source": [
        "\n",
        "\n",
        "---\n",
        "\n"
      ],
      "metadata": {
        "id": "mWaUeHDJ8IAv"
      }
    },
    {
      "cell_type": "markdown",
      "source": [
        "# 3) KeyWords and Identifiers in Python : -"
      ],
      "metadata": {
        "id": "72-hUT3ZQzlu"
      }
    },
    {
      "cell_type": "markdown",
      "source": [
        "**Keywords** in Python are reserved words with predefined meanings and functions in the language, such as `if`, `while`, `for`, `class`, `True`, and `None`. They cannot be used as variable names.\n",
        "\n",
        "\n",
        "**Identifiers** are names given to variables, functions, classes, or objects to identify them uniquely. They can contain letters, digits, and underscores but cannot start with a digit or use keywords. Identifiers are case-sensitive, must be meaningful, and follow Python’s naming rules for better code readability.\n",
        "\n",
        "\n",
        "\n",
        "---\n",
        "\n",
        "\n",
        "Here is a table to depict or list all the 32 keywords present in python .\n",
        "\n",
        "\n",
        "| **Keyword** | **Keyword** | **Keyword** | **Keyword** |\n",
        "| ----------- | ----------- | ----------- | ----------- |\n",
        "| False       | None        | True        | and         |\n",
        "| as          | assert      | async       | await       |\n",
        "| break       | class       | continue    | def         |\n",
        "| del         | elif        | else        | except      |\n",
        "| finally     | for         | from        | global      |\n",
        "| if          | import      | in          | is          |\n",
        "| lambda      | nonlocal    | not         | or          |\n",
        "| pass        | raise       | return      | try         |\n",
        "| while       | with        | yield       |             |\n"
      ],
      "metadata": {
        "id": "WrCgzc6R8Rxh"
      }
    },
    {
      "cell_type": "markdown",
      "source": [
        "\n",
        "\n",
        "---\n",
        "\n"
      ],
      "metadata": {
        "id": "IcPivgsU9to8"
      }
    },
    {
      "cell_type": "markdown",
      "source": [
        "**Rules for declaring identifiers in Python : -**"
      ],
      "metadata": {
        "id": "yChQnIW8-Ql9"
      }
    },
    {
      "cell_type": "markdown",
      "source": [
        "| **Rule**                             | **Description**                                                                                  |\n",
        "| ------------------------------------ | ------------------------------------------------------------------------------------------------ |\n",
        "| 1️⃣ **Allowed Characters**           | Identifiers can contain **letters (a-z, A-Z)**, **digits (0-9)**, and **underscores (\\_)** only. |\n",
        "| 2️⃣ **Cannot Start with a Digit**    | Identifiers must **not begin with numbers**, e.g., `1value` ❌, `value1` ✅.                       |\n",
        "| 3️⃣ **Case-Sensitive**               | Python treats uppercase and lowercase letters differently. Example: `Name` ≠ `name`.             |\n",
        "| 4️⃣ **No Special Symbols**           | Symbols like `@`, `#`, `$`, `%`, `!`, `-`, spaces are **not allowed**.                           |\n",
        "| 5️⃣ **Cannot Use Keywords**          | Reserved words (e.g., `class`, `while`) **cannot** be used as identifiers.                       |\n",
        "| 6️⃣ **No Spaces**                    | Identifiers **cannot contain spaces**. Use underscores instead (`first_name`).                   |\n",
        "| 7️⃣ **Should be Meaningful**         | Use descriptive names for readability (e.g., `total_marks` ✅ instead of `tm` ❌).                 |\n",
        "| 8️⃣ **Unlimited Length**             | There is no fixed length limit, but overly long names are discouraged.                           |\n",
        "| 9️⃣ **Private/Protected Convention** | Prefix with `_` (protected) or `__` (private) by convention.                                     |\n"
      ],
      "metadata": {
        "id": "T_yS8dWs-WA6"
      }
    },
    {
      "cell_type": "markdown",
      "source": [
        "\n",
        "\n",
        "---\n",
        "\n"
      ],
      "metadata": {
        "id": "rnJa7hfI-dQe"
      }
    },
    {
      "cell_type": "markdown",
      "source": [
        "# 4) Taking User Input In Python : -"
      ],
      "metadata": {
        "id": "d0XhDsPF-mtM"
      }
    },
    {
      "cell_type": "markdown",
      "source": [
        "Python provides the input() function to take user input from the keyboard.It always returns data as a string, so conversion is needed for numeric input.\n"
      ],
      "metadata": {
        "id": "KcU5KhCK-2oz"
      }
    },
    {
      "cell_type": "code",
      "source": [
        "# Taking String as an Input\n",
        "variable_name = input(\"Enter your text: \")\n",
        "\n",
        "# Taking integer value as an input\n",
        "num = int(input(\"Enter a number: \"))\n"
      ],
      "metadata": {
        "id": "S_JPeG4d-r2k"
      },
      "execution_count": null,
      "outputs": []
    },
    {
      "cell_type": "code",
      "source": [
        "# Taking string input\n",
        "name = input(\"Enter your name: \")\n",
        "print(\"Hello,\", name)\n",
        "\n",
        "# Taking integer input\n",
        "age = int(input(\"Enter your age: \"))\n",
        "print(\"You are\", age, \"years old.\")\n",
        "\n",
        "# Taking float input\n",
        "height = float(input(\"Enter your height in meters: \"))\n",
        "print(\"Your height is\", height, \"m.\")\n",
        "\n",
        "# Taking multiple inputs in one line\n",
        "x, y = input(\"Enter two numbers separated by space: \").split()\n",
        "print(\"First Number:\", x)\n",
        "print(\"Second Number:\", y)\n"
      ],
      "metadata": {
        "id": "RG_4tTqn_UE3"
      },
      "execution_count": null,
      "outputs": []
    },
    {
      "cell_type": "markdown",
      "source": [
        "\n",
        "\n",
        "---\n",
        "\n"
      ],
      "metadata": {
        "id": "oYHOBTiVAppo"
      }
    },
    {
      "cell_type": "markdown",
      "source": [
        "# 5) Type Conversion In Python : -"
      ],
      "metadata": {
        "id": "5J9UYeJ0AqhE"
      }
    },
    {
      "cell_type": "markdown",
      "source": [
        "Type conversion is the process of changing the data type of a value or variable into another data type.\n",
        "\n",
        "In Python, this is mainly of two types:\n",
        "\n",
        "  1️⃣ Implicit Type Conversion (Type Casting by Python)\n",
        "\n",
        "  Also called type promotion.\n",
        "\n",
        "  Python automatically converts a smaller data type to a larger data type to prevent data loss.\n",
        "\n",
        "  Example: int → float → complex.\n",
        "\n",
        "  2️⃣ Explicit Type Conversion (Type Casting by User)\n",
        "\n",
        "  Done manually using built-in functions like int(), float(), str(), list(), etc.\n",
        "\n",
        "  The user controls how the data is converted.\n",
        "\n"
      ],
      "metadata": {
        "id": "pqg-rmqRAyOx"
      }
    },
    {
      "cell_type": "markdown",
      "source": [
        "Types of Type Conversion : -"
      ],
      "metadata": {
        "id": "XlOh4mj9BXzU"
      }
    },
    {
      "cell_type": "markdown",
      "source": [
        "| **Conversion Type** | **Description**                                        | **Example**                     |\n",
        "| ------------------- | ------------------------------------------------------ | ------------------------------- |\n",
        "| **int()**           | Converts a value to an integer (removes decimal part). | `int(10.9)` → `10`              |\n",
        "| **float()**         | Converts a value to floating-point number.             | `float(5)` → `5.0`              |\n",
        "| **str()**           | Converts a value to a string.                          | `str(25)` → `'25'`              |\n",
        "| **bool()**          | Converts a value to Boolean (`True`/`False`).          | `bool(0)` → `False`             |\n",
        "| **list()**          | Converts iterable (tuple, string) to list.             | `list(\"abc\")` → `['a','b','c']` |\n",
        "| **tuple()**         | Converts iterable to tuple.                            | `tuple([1,2])` → `(1,2)`        |\n",
        "| **set()**           | Converts iterable to set (unique values).              | `set([1,1,2])` → `{1,2}`        |\n",
        "| **dict()**          | Converts tuple of key-value pairs to dictionary.       | `dict([(1,'a')])` → `{1:'a'}`   |\n",
        "| **complex()**       | Converts numbers to complex numbers.                   | `complex(3,5)` → `(3+5j)`       |\n"
      ],
      "metadata": {
        "id": "jwUY7zC2BeGi"
      }
    },
    {
      "cell_type": "markdown",
      "source": [
        "\n",
        "\n",
        "---\n",
        "\n"
      ],
      "metadata": {
        "id": "KrcmdVw0BkzW"
      }
    },
    {
      "cell_type": "code",
      "source": [
        "# Implicit conversion\n",
        "x = 10      # int\n",
        "y = 3.5     # float\n",
        "result = x + y\n",
        "print(result, type(result))  # Output: 13.5 <class 'float'>\n",
        "\n",
        "# Explicit conversion\n",
        "a = \"100\"\n",
        "b = int(a)  # string to int\n",
        "c = float(b)\n",
        "print(b + 50)   # 150\n",
        "print(c + 0.5)  # 100.5\n"
      ],
      "metadata": {
        "id": "08VZsF0eBjfz"
      },
      "execution_count": null,
      "outputs": []
    },
    {
      "cell_type": "markdown",
      "source": [
        "\n",
        "\n",
        "---\n",
        "\n"
      ],
      "metadata": {
        "id": "ZnLJi2IpBlok"
      }
    },
    {
      "cell_type": "markdown",
      "source": [
        "# 6) Literals : -"
      ],
      "metadata": {
        "id": "i7fBk7HGB4dA"
      }
    },
    {
      "cell_type": "markdown",
      "source": [
        "In Python, literals are fixed values used directly in the source code to represent data. They are not variables or expressions but constant values assigned to variables.\n",
        "\n",
        "\n",
        "\n",
        "**Types of Literals in Python : **\n",
        "\n",
        "| **Literal Type**                    | **Description**                                                                                               | **Example**                                                        |\n",
        "| ----------------------------------- | ------------------------------------------------------------------------------------------------------------- | ------------------------------------------------------------------ |\n",
        "| **1️⃣ Numeric Literals**            | Numbers of different types. Includes integers, floating-point numbers, and complex numbers.                   | `x = 10` (int), `y = 3.14` (float), `z = 2+3j` (complex)           |\n",
        "| **2️⃣ String Literals**             | Sequence of characters enclosed in single (`' '`), double (`\" \"`), or triple quotes (`''' '''` or `\"\"\" \"\"\"`). | `name = \"Python\"`                                                  |\n",
        "| **3️⃣ Boolean Literals**            | Represent truth values **True** or **False**.                                                                 | `flag = True`                                                      |\n",
        "| **4️⃣ Special Literal**             | **None** represents the absence of a value or null.                                                           | `value = None`                                                     |\n",
        "| **5️⃣ Collection Literals**         | Collections like list, tuple, set, and dictionary used directly.                                              | `list1 = [1,2,3]`, `t = (4,5)`, `s = {1,2}`, `d = {\"key\":\"value\"}` |\n",
        "| **6️⃣ Binary, Octal, Hex Literals** | Numeric literals in different number systems.                                                                 | `0b1010` (binary), `0o12` (octal), `0xA` (hexadecimal)             |\n",
        "\n",
        "\n"
      ],
      "metadata": {
        "id": "oS8clfM2B8km"
      }
    },
    {
      "cell_type": "markdown",
      "source": [
        "\n",
        "\n",
        "---\n",
        "\n"
      ],
      "metadata": {
        "id": "a13jAHf-CRWq"
      }
    },
    {
      "cell_type": "markdown",
      "source": [],
      "metadata": {
        "id": "y36xzt1nCRC4"
      }
    },
    {
      "cell_type": "code",
      "source": [
        "# Numeric literals\n",
        "a = 10\n",
        "b = 3.14\n",
        "c = 2+3j\n",
        "\n",
        "# String literal\n",
        "text = \"Hello Python\"\n",
        "\n",
        "# Boolean literal\n",
        "is_valid = True\n",
        "\n",
        "# Special literal\n",
        "nothing = None\n",
        "\n",
        "# Collection literals\n",
        "fruits = [\"apple\", \"banana\", \"cherry\"]\n",
        "data = {\"name\": \"Alice\", \"age\": 25}\n",
        "\n",
        "# Binary, Octal, Hex literals\n",
        "bin_num = 0b1010\n",
        "oct_num = 0o12\n",
        "hex_num = 0xA\n",
        "\n",
        "print(a, b, c, text, is_valid, nothing, fruits, data, bin_num, oct_num, hex_num)\n"
      ],
      "metadata": {
        "id": "tAModRyVCJfw"
      },
      "execution_count": null,
      "outputs": []
    },
    {
      "cell_type": "markdown",
      "source": [
        "**None Literal in Python : -**"
      ],
      "metadata": {
        "id": "14U3JJ7WFAQ-"
      }
    },
    {
      "cell_type": "markdown",
      "source": [
        "The None literal in Python is a special constant that represents the absence of a value or a null value. It is an object of the NoneType class and is used to indicate that a variable, function, or object does not hold any meaningful data.\n",
        "\n",
        "KeyPoints About None Literals :\n",
        "\n",
        "| **Feature**         | **Description**                                                                |\n",
        "| ------------------- | ------------------------------------------------------------------------------ |\n",
        "| **Data Type**       | Belongs to the class `NoneType`.                                               |\n",
        "| **Uniqueness**      | Python has only one instance of `None`.                                        |\n",
        "| **Boolean Context** | Evaluates to `False` in conditional statements.                                |\n",
        "| **Usage**           | Used to indicate **no value, missing value, or empty return** from a function. |\n",
        "| **Comparison**      | Use `is` or `is not` to compare with `None` (not `==`).                        |\n",
        "\n",
        "\n"
      ],
      "metadata": {
        "id": "wGqI2VraFELg"
      }
    },
    {
      "cell_type": "code",
      "source": [
        "# Assigning None to a variable\n",
        "x = None\n",
        "print(x)            # Output: None\n",
        "print(type(x))      # Output: <class 'NoneType'>\n",
        "\n",
        "# Function returning None\n",
        "def greet():\n",
        "    print(\"Hello!\")\n",
        "result = greet()    # Function doesn't return anything\n",
        "print(result)       # Output: None\n",
        "\n",
        "# Checking None\n",
        "if x is None:\n",
        "    print(\"x has no value\")\n",
        "else:\n",
        "    print(\"x has a value\")\n"
      ],
      "metadata": {
        "id": "N3JjXhYhFWt0"
      },
      "execution_count": null,
      "outputs": []
    },
    {
      "cell_type": "markdown",
      "source": [
        "\n",
        "\n",
        "---\n",
        "\n"
      ],
      "metadata": {
        "id": "X8ikOnwVFXhL"
      }
    }
  ]
}