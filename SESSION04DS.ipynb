{
  "nbformat": 4,
  "nbformat_minor": 0,
  "metadata": {
    "colab": {
      "provenance": [],
      "authorship_tag": "ABX9TyMaJnBuNLm4FHwaYS1CQG8j",
      "include_colab_link": true
    },
    "kernelspec": {
      "name": "python3",
      "display_name": "Python 3"
    },
    "language_info": {
      "name": "python"
    }
  },
  "cells": [
    {
      "cell_type": "markdown",
      "metadata": {
        "id": "view-in-github",
        "colab_type": "text"
      },
      "source": [
        "<a href=\"https://colab.research.google.com/github/Yash-Malani-Rick/DATA-SCIENCE-COURSE-BY-CAMPUSX/blob/master/SESSION04DS.ipynb\" target=\"_parent\"><img src=\"https://colab.research.google.com/assets/colab-badge.svg\" alt=\"Open In Colab\"/></a>"
      ]
    },
    {
      "cell_type": "markdown",
      "source": [
        "# Practice Problems Involving Strings In Python :"
      ],
      "metadata": {
        "id": "tpaAgCBTI3I3"
      }
    },
    {
      "cell_type": "markdown",
      "source": [
        "\n",
        "\n",
        "---\n",
        "\n"
      ],
      "metadata": {
        "id": "kgGRG22Ywp6-"
      }
    },
    {
      "cell_type": "code",
      "source": [
        "# Problem - 1 :\n",
        "# Find the length of the given string using the 'len()' function :\n",
        "\n",
        "s = input(\"Enter the String :\")\n",
        "\n",
        "counter = 0\n",
        "\n",
        "for i in s :\n",
        "  counter += 1\n",
        "\n",
        "print(\"The length of the String is :\" , counter)"
      ],
      "metadata": {
        "colab": {
          "base_uri": "https://localhost:8080/"
        },
        "id": "xTw5cnzMI-Uv",
        "outputId": "a5cad66c-a30d-4016-a21d-fe207cd228de"
      },
      "execution_count": 3,
      "outputs": [
        {
          "output_type": "stream",
          "name": "stdout",
          "text": [
            "Enter the String :Yash\n",
            "The length of the String is : 4\n"
          ]
        }
      ]
    },
    {
      "cell_type": "markdown",
      "source": [
        "\n",
        "\n",
        "---\n",
        "\n"
      ],
      "metadata": {
        "id": "Xfd4_4xbwq37"
      }
    },
    {
      "cell_type": "code",
      "source": [
        "# Problem - 2 :\n",
        "# Extract Username from the given E-Mail :\n",
        "\n",
        "s = input(\"Enter the String :\")\n",
        "\n",
        "pos = s.index(\n",
        "    '@'\n",
        ")\n",
        "\n",
        "print(s[0:pos])"
      ],
      "metadata": {
        "colab": {
          "base_uri": "https://localhost:8080/"
        },
        "id": "Shpvhue3J8bS",
        "outputId": "de453bba-9291-4c27-979c-79bada662af4"
      },
      "execution_count": 4,
      "outputs": [
        {
          "output_type": "stream",
          "name": "stdout",
          "text": [
            "Enter the String :Yash@gmail.com\n",
            "Yash\n"
          ]
        }
      ]
    },
    {
      "cell_type": "markdown",
      "source": [
        "\n",
        "\n",
        "---\n",
        "\n"
      ],
      "metadata": {
        "id": "ShvDSP0lwry1"
      }
    },
    {
      "cell_type": "code",
      "source": [
        "# Problem - 3 :\n",
        "# Count the frequency of the appearance of a particular character present in the String .\n",
        "\n",
        "s = input(\"Enter the name : \")\n",
        "term = input(\"What would you like to search for ??\")\n",
        "\n",
        "counter = 0\n",
        "for i in s :\n",
        "  if i == term :\n",
        "    counter += 1\n",
        "\n",
        "print(\"Frequency : \"  , counter)\n"
      ],
      "metadata": {
        "colab": {
          "base_uri": "https://localhost:8080/"
        },
        "id": "WN6NqBGiKfJN",
        "outputId": "64ac6357-2dc0-4b22-a0ce-f72edd992624"
      },
      "execution_count": 5,
      "outputs": [
        {
          "output_type": "stream",
          "name": "stdout",
          "text": [
            "Enter the emailabhay chauhan\n",
            "What would you like to search for ??a\n",
            "Frequency :  4\n"
          ]
        }
      ]
    },
    {
      "cell_type": "markdown",
      "source": [
        "\n",
        "\n",
        "---\n",
        "\n"
      ],
      "metadata": {
        "id": "MJI4IDsIws4K"
      }
    },
    {
      "cell_type": "code",
      "source": [
        "# Problem - 4 :\n",
        "# Write a program that can check whether a given String is a palindrome or not :\n",
        "\n",
        "def is_palindrome(s):\n",
        "    # Remove spaces and convert to lowercase (optional)\n",
        "    s = s.replace(\" \", \"\").lower()\n",
        "    return s == s[::-1]\n",
        "\n",
        "# Test cases\n",
        "print(is_palindrome(\"madam\"))      # True\n",
        "print(is_palindrome(\"racecar\"))    # True\n",
        "print(is_palindrome(\"hello\"))      # False\n",
        "print(is_palindrome(\"A man a plan a canal Panama\"))  # True (ignores spaces & case)"
      ],
      "metadata": {
        "colab": {
          "base_uri": "https://localhost:8080/"
        },
        "id": "qiOSnycbMlKD",
        "outputId": "2643b7a5-0fb9-4e81-f0a9-6376d2b53ee1"
      },
      "execution_count": 6,
      "outputs": [
        {
          "output_type": "stream",
          "name": "stdout",
          "text": [
            "True\n",
            "True\n",
            "False\n",
            "True\n"
          ]
        }
      ]
    },
    {
      "cell_type": "markdown",
      "source": [
        "\n",
        "\n",
        "---\n",
        "\n"
      ],
      "metadata": {
        "id": "ACuJfIOKwuRP"
      }
    },
    {
      "cell_type": "code",
      "source": [
        "# Problem - 5 :\n",
        "# Write a program to remove any particular character in Python from a String :\n",
        "\n",
        "text = \"programming\"\n",
        "char_to_remove = \"m\"\n",
        "\n",
        "# Replacing the character with an empty string\n",
        "result = text.replace(char_to_remove, \"\")\n",
        "\n",
        "print(\"Original String:\", text)\n",
        "print(\"After Removal:\", result)\n"
      ],
      "metadata": {
        "colab": {
          "base_uri": "https://localhost:8080/"
        },
        "id": "wBaD-xo3NLxu",
        "outputId": "55b33e21-ee1e-4e7d-992b-45cd643eb170"
      },
      "execution_count": 2,
      "outputs": [
        {
          "output_type": "stream",
          "name": "stdout",
          "text": [
            "Original String: programming\n",
            "After Removal: prograing\n"
          ]
        }
      ]
    },
    {
      "cell_type": "markdown",
      "source": [
        "\n",
        "\n",
        "---\n",
        "\n"
      ],
      "metadata": {
        "id": "3onCN0NkwvYq"
      }
    },
    {
      "cell_type": "code",
      "source": [
        "# Problem - 6 :\n",
        "# Write a program to count the number of words in a string without using split()\n",
        "\n",
        "text = \"   Python is   a powerful   language  \"\n",
        "count = 0\n",
        "in_word = False\n",
        "\n",
        "for char in text:\n",
        "    # If the character is not a space, we are inside a word\n",
        "    if char != \" \" and not in_word:\n",
        "        count += 1\n",
        "        in_word = True\n",
        "    # If a space is encountered, we are outside a word\n",
        "    elif char == \" \":\n",
        "        in_word = False\n",
        "\n",
        "print(\"Number of words:\", count)\n"
      ],
      "metadata": {
        "colab": {
          "base_uri": "https://localhost:8080/"
        },
        "id": "AqCjKxMMupW3",
        "outputId": "8513cd5b-b6f3-479b-bb4d-572c95a82204"
      },
      "execution_count": 1,
      "outputs": [
        {
          "output_type": "stream",
          "name": "stdout",
          "text": [
            "Number of words: 5\n"
          ]
        }
      ]
    },
    {
      "cell_type": "markdown",
      "source": [
        "\n",
        "\n",
        "---\n",
        "\n"
      ],
      "metadata": {
        "id": "d8okWQGRwwsD"
      }
    },
    {
      "cell_type": "code",
      "source": [
        "# Problem - 7 :\n",
        "# Write a program to convert an integer to string\n",
        "\n",
        "# Way - 1 :\n",
        "# Using \"str()\" function :\n",
        "num = 12345\n",
        "str_num = str(num)\n",
        "\n",
        "print(\"Original Integer:\", num)\n",
        "print(\"Converted String:\", str_num)\n",
        "print(\"Type after conversion:\", type(str_num))\n",
        "\n",
        "# Way - 2 :\n",
        "# Using \"format()\" method :\n",
        "num = 9876\n",
        "str_num = \"{}\".format(num)\n",
        "\n",
        "print(\"Converted String:\", str_num)\n",
        "print(type(str_num))\n",
        "\n",
        "# Way - 3 :\n",
        "# Using \"f-String\" :\n",
        "num = 4567\n",
        "str_num = f\"{num}\"\n",
        "\n",
        "print(\"Converted String:\", str_num)\n",
        "print(type(str_num))\n"
      ],
      "metadata": {
        "colab": {
          "base_uri": "https://localhost:8080/"
        },
        "id": "t2iyAzaywGYm",
        "outputId": "8d754f16-3658-4375-efa7-c6620811c3a5"
      },
      "execution_count": 3,
      "outputs": [
        {
          "output_type": "stream",
          "name": "stdout",
          "text": [
            "Original Integer: 12345\n",
            "Converted String: 12345\n",
            "Type after conversion: <class 'str'>\n",
            "Converted String: 9876\n",
            "<class 'str'>\n",
            "Converted String: 4567\n",
            "<class 'str'>\n"
          ]
        }
      ]
    },
    {
      "cell_type": "markdown",
      "source": [
        "\n",
        "\n",
        "---\n",
        "\n"
      ],
      "metadata": {
        "id": "k8lfIt_Iwyuy"
      }
    }
  ]
}