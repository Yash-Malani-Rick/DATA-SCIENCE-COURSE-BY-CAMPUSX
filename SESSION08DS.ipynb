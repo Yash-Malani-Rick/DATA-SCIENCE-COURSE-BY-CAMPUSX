{
  "nbformat": 4,
  "nbformat_minor": 0,
  "metadata": {
    "colab": {
      "provenance": [],
      "authorship_tag": "ABX9TyM/DUd03ayewl74VIeJV9RN",
      "include_colab_link": true
    },
    "kernelspec": {
      "name": "python3",
      "display_name": "Python 3"
    },
    "language_info": {
      "name": "python"
    }
  },
  "cells": [
    {
      "cell_type": "markdown",
      "metadata": {
        "id": "view-in-github",
        "colab_type": "text"
      },
      "source": [
        "<a href=\"https://colab.research.google.com/github/Yash-Malani-Rick/DATA-SCIENCE-COURSE-BY-CAMPUSX/blob/master/SESSION08DS.ipynb\" target=\"_parent\"><img src=\"https://colab.research.google.com/assets/colab-badge.svg\" alt=\"Open In Colab\"/></a>"
      ]
    },
    {
      "cell_type": "markdown",
      "source": [
        "# File Handling and I/O in Python : -"
      ],
      "metadata": {
        "id": "zSgbKQuZxQSy"
      }
    },
    {
      "cell_type": "markdown",
      "source": [
        "\n",
        "\n",
        "File handling in Python allows you to create, read, write, update, and delete files directly from programs. It provides a way to store and access data permanently beyond program execution. Python uses the built-in open() function for file operations."
      ],
      "metadata": {
        "id": "Ac6eNUbQxQWI"
      }
    },
    {
      "cell_type": "markdown",
      "source": [
        "File Operations : -\n",
        "\n",
        "1. Creating and Opening Files – Using open(filename, mode)\n",
        "\n",
        "2. Reading from a File – Using read(), readline(), readlines()\n",
        "\n",
        "3. Writing to a File – Using write(), writelines()\n",
        "\n",
        "4. Closing a File – Using close() to free resources\n",
        "\n",
        "5. Appending to a File – Using 'a' mode\n",
        "\n",
        "6. Deleting Files – Using os.remove()\n",
        "\n"
      ],
      "metadata": {
        "id": "tftSa1KUxqYJ"
      }
    },
    {
      "cell_type": "markdown",
      "source": [
        "File Opening Modes : -\n",
        "\n",
        "| Mode   | Description                                          |\n",
        "| ------ | ---------------------------------------------------- |\n",
        "| `'r'`  | Read-only (default); error if file does not exist    |\n",
        "| `'w'`  | Write mode; creates file or overwrites existing file |\n",
        "| `'a'`  | Append mode; creates file if it does not exist       |\n",
        "| `'x'`  | Creates new file; error if file already exists       |\n",
        "| `'b'`  | Binary mode (e.g., `'rb'`, `'wb'`)                   |\n",
        "| `'t'`  | Text mode (default)                                  |\n",
        "| `'r+'` | Read and write mode                                  |\n",
        "| `'w+'` | Write and read mode                                  |\n",
        "| `'a+'` | Append and read mode                                 |\n"
      ],
      "metadata": {
        "id": "CdFCLnPvx3HV"
      }
    },
    {
      "cell_type": "markdown",
      "source": [
        "File Handling Methods/Functions : -\n",
        "\n",
        "| Method             | Description                                |\n",
        "| ------------------ | ------------------------------------------ |\n",
        "| `open()`           | Opens or creates a file                    |\n",
        "| `close()`          | Closes the file                            |\n",
        "| `read(size)`       | Reads specified number of characters/bytes |\n",
        "| `readline()`       | Reads a single line                        |\n",
        "| `readlines()`      | Reads all lines as a list                  |\n",
        "| `write(string)`    | Writes string to file                      |\n",
        "| `writelines(list)` | Writes multiple lines                      |\n",
        "| `seek(pos)`        | Moves file pointer to specific position    |\n",
        "| `tell()`           | Returns current cursor position            |\n",
        "| `flush()`          | Flushes internal buffer                    |\n",
        "| `truncate(size)`   | Resizes the file to given size             |\n"
      ],
      "metadata": {
        "id": "p4J1YDUQx8yL"
      }
    },
    {
      "cell_type": "markdown",
      "source": [
        "File Handling Code Examples :\n"
      ],
      "metadata": {
        "id": "bqqTC4fhyE8D"
      }
    },
    {
      "cell_type": "code",
      "source": [
        "# Creating and Writing to a File :\n",
        "\n",
        "file = open(\"example.txt\", \"w\")\n",
        "file.write(\"Hello, this is a sample text file.\\n\")\n",
        "file.write(\"This is line 2.\")\n",
        "file.close()"
      ],
      "metadata": {
        "id": "DzB4sqomyLFO"
      },
      "execution_count": 1,
      "outputs": []
    },
    {
      "cell_type": "code",
      "source": [
        "# Reading a File :\n",
        "\n",
        "file = open(\"example.txt\", \"r\")\n",
        "print(file.read())        # Reads entire file\n",
        "file.close()"
      ],
      "metadata": {
        "colab": {
          "base_uri": "https://localhost:8080/"
        },
        "id": "D3bkeB7h9-Vz",
        "outputId": "bba6a70c-de00-442f-e70b-f9a9d966d1d0"
      },
      "execution_count": 2,
      "outputs": [
        {
          "output_type": "stream",
          "name": "stdout",
          "text": [
            "Hello, this is a sample text file.\n",
            "This is line 2.\n"
          ]
        }
      ]
    },
    {
      "cell_type": "code",
      "source": [
        "# Reading Line by Line :\n",
        "\n",
        "file = open(\"example.txt\", \"r\")\n",
        "print(file.readline())    # Reads first line\n",
        "print(file.readline())    # Reads next line\n",
        "file.close()"
      ],
      "metadata": {
        "colab": {
          "base_uri": "https://localhost:8080/"
        },
        "id": "6L8M-nF6-AIZ",
        "outputId": "c0f487b0-09d4-47ed-e82a-3e68df9b4f5f"
      },
      "execution_count": 3,
      "outputs": [
        {
          "output_type": "stream",
          "name": "stdout",
          "text": [
            "Hello, this is a sample text file.\n",
            "\n",
            "This is line 2.\n"
          ]
        }
      ]
    },
    {
      "cell_type": "code",
      "source": [
        "# Reading all Lines as a list :\n",
        "\n",
        "file = open(\"example.txt\", \"r\")\n",
        "lines = file.readlines()\n",
        "for line in lines:\n",
        "    print(line.strip())\n",
        "file.close()"
      ],
      "metadata": {
        "colab": {
          "base_uri": "https://localhost:8080/"
        },
        "id": "ZPKIp9_7-CnS",
        "outputId": "49c6e8f5-fd34-4b8b-e349-d46afe64703b"
      },
      "execution_count": 4,
      "outputs": [
        {
          "output_type": "stream",
          "name": "stdout",
          "text": [
            "Hello, this is a sample text file.\n",
            "This is line 2.\n"
          ]
        }
      ]
    },
    {
      "cell_type": "code",
      "source": [
        "# Appending to a File :\n",
        "\n",
        "file = open(\"example.txt\", \"a\")\n",
        "file.write(\"\\nThis line is added using append mode.\")\n",
        "file.close()"
      ],
      "metadata": {
        "id": "sVtQ6BN6-FHt"
      },
      "execution_count": 5,
      "outputs": []
    },
    {
      "cell_type": "code",
      "source": [
        "# Using 'with' Statement (Best Practice) :\n",
        "# Automatically closes the file after use, avoiding manual close() calls.\n",
        "\n",
        "with open(\"example.txt\", \"r\") as file:\n",
        "    data = file.read()\n",
        "    print(data)"
      ],
      "metadata": {
        "colab": {
          "base_uri": "https://localhost:8080/"
        },
        "id": "B_GMJrpF-HIF",
        "outputId": "1954dd8a-39cc-46d6-fc83-105f47aae6c7"
      },
      "execution_count": 6,
      "outputs": [
        {
          "output_type": "stream",
          "name": "stdout",
          "text": [
            "Hello, this is a sample text file.\n",
            "This is line 2.\n",
            "This line is added using append mode.\n"
          ]
        }
      ]
    },
    {
      "cell_type": "code",
      "source": [
        "# File Pointer Position :\n",
        "\n",
        "with open(\"example.txt\", \"r\") as file:\n",
        "    print(file.tell())   # Prints current position\n",
        "    file.read(5)         # Reads 5 chars\n",
        "    print(file.tell())   # Prints new position"
      ],
      "metadata": {
        "colab": {
          "base_uri": "https://localhost:8080/"
        },
        "id": "_ZSPdKvR-JvQ",
        "outputId": "11fc03e5-8dbe-4e95-95ca-6a3387f18a4a"
      },
      "execution_count": 7,
      "outputs": [
        {
          "output_type": "stream",
          "name": "stdout",
          "text": [
            "0\n",
            "5\n"
          ]
        }
      ]
    },
    {
      "cell_type": "code",
      "source": [
        "# Truncating a File :\n",
        "\n",
        "with open(\"example.txt\", \"w\") as file:\n",
        "    file.write(\"1234567890\")\n",
        "    file.truncate(5)  # File will have only first 5 characters"
      ],
      "metadata": {
        "id": "Xx8fLTx6-MXe"
      },
      "execution_count": 8,
      "outputs": []
    },
    {
      "cell_type": "code",
      "source": [
        "# Deleting a File :\n",
        "\n",
        "import os\n",
        "if os.path.exists(\"example.txt\"):\n",
        "    os.remove(\"example.txt\")\n",
        "else:\n",
        "    print(\"File not found.\")"
      ],
      "metadata": {
        "id": "-Xbqt4NQ-ORg"
      },
      "execution_count": 9,
      "outputs": []
    },
    {
      "cell_type": "markdown",
      "source": [
        "\n",
        "\n",
        "---\n",
        "\n"
      ],
      "metadata": {
        "id": "FJ3bC6DTzudu"
      }
    },
    {
      "cell_type": "markdown",
      "source": [
        "Seek and Tell :\n",
        "\n",
        "In Python, seek() and tell() are file handling methods used to manipulate and track the file pointer position.\n",
        "\n",
        "* tell(): Returns the current position of the file pointer (in bytes) from the start of the file. It helps determine where reading or writing will occur next.\n",
        "\n",
        "* seek(offset, whence=0): Moves the file pointer to a specific position.\n",
        "\n",
        "  * offset: Number of bytes to move.\n",
        "\n",
        "  * whence: Reference position (0=start, 1=current, 2=end).\n",
        "\n",
        "These methods are essential for random file access, allowing precise control over reading and writing data within a file."
      ],
      "metadata": {
        "id": "pJ4HI-wKzZ9l"
      }
    },
    {
      "cell_type": "markdown",
      "source": [
        "\n",
        "\n",
        "---\n",
        "\n"
      ],
      "metadata": {
        "id": "r9TDY3xpzsIk"
      }
    },
    {
      "cell_type": "markdown",
      "source": [
        "Summary :\n",
        "\n",
        "* Use open() with proper mode to access a file.\n",
        "\n",
        "* Always use close() or with statement to free resources.\n",
        "\n",
        "* Modes control whether you read, write, append, or create a file.\n",
        "\n",
        "* Python provides many methods (read(), write(), seek(), etc.) for fine control.\n",
        "\n",
        "* Files can be text or binary, depending on mode."
      ],
      "metadata": {
        "id": "04VTylDWzG3Q"
      }
    },
    {
      "cell_type": "markdown",
      "source": [
        "---"
      ],
      "metadata": {
        "id": "TO15p1Z4zS_9"
      }
    },
    {
      "cell_type": "markdown",
      "source": [
        "Problems On Working with Text File : -\n",
        "\n",
        "While working with text files in Python, several problems may occur. FileNotFoundError arises if the file path is incorrect or missing. PermissionError occurs when the program lacks read/write permissions. Data corruption can happen if files are not closed properly. Encoding issues, like UnicodeDecodeError, occur when reading files with mismatched encodings. Accidentally opening a file in write mode ('w') can erase existing data. Reading large files may cause memory overload. Concurrent file access by multiple processes may lead to race conditions. Improper handling of newline characters can cause formatting issues. These problems can be avoided with proper error handling and correct file modes."
      ],
      "metadata": {
        "id": "HBA3jfrY7cU1"
      }
    },
    {
      "cell_type": "markdown",
      "source": [
        "\n",
        "\n",
        "---\n",
        "\n"
      ],
      "metadata": {
        "id": "2I19rR6g8EmS"
      }
    },
    {
      "cell_type": "markdown",
      "source": [
        "Working with Binary Files : -\n",
        "\n",
        "Binary files store data in binary format (0s and 1s) instead of plain text. They are often used for images, audio, video, executables, or serialized objects. Python handles them using the built-in open() function with mode 'rb' (read binary) or 'wb' (write binary).\n",
        "\n",
        "Key Points :  \n",
        "\n",
        "* Open in binary mode: 'rb', 'wb', 'ab' (append), 'rb+' (read/write).\n",
        "\n",
        "* Read/Write methods: read(), readline() (rarely used for binary), write().\n",
        "\n",
        "* Use with to ensure automatic file closing.\n",
        "\n",
        "* Binary mode prevents Python from interpreting data as text, avoiding encoding issues."
      ],
      "metadata": {
        "id": "sZgK25HK7s_6"
      }
    },
    {
      "cell_type": "code",
      "source": [
        "# Code Example :\n",
        "# Writing and Reading Binary File :\n",
        "\n",
        "# Writing binary data\n",
        "data = bytes([65, 66, 67, 68])  # ASCII values for A, B, C, D\n",
        "with open(\"binary_file.bin\", \"wb\") as f:\n",
        "    f.write(data)\n",
        "\n",
        "# Reading binary data\n",
        "with open(\"binary_file.bin\", \"rb\") as f:\n",
        "    content = f.read()\n",
        "    print(content)  # b'ABCD'\n"
      ],
      "metadata": {
        "id": "EyjfhzrV7-km",
        "colab": {
          "base_uri": "https://localhost:8080/"
        },
        "outputId": "ab08a9c9-32b3-402f-bc24-019b5ff770b7"
      },
      "execution_count": 10,
      "outputs": [
        {
          "output_type": "stream",
          "name": "stdout",
          "text": [
            "b'ABCD'\n"
          ]
        }
      ]
    },
    {
      "cell_type": "markdown",
      "source": [
        "\n",
        "\n",
        "---\n",
        "\n"
      ],
      "metadata": {
        "id": "B1-ZV4XT8GZh"
      }
    },
    {
      "cell_type": "code",
      "source": [
        "# Code Example for Copying a File In Binary Mode :\n",
        "\n",
        "# Copy file in binary mode\n",
        "with open(\"source_file.bin\", \"rb\") as src:   # Open source in read-binary mode\n",
        "    with open(\"copy_file.bin\", \"wb\") as dest:  # Open destination in write-binary mode\n",
        "        dest.write(src.read())  # Read all binary data and write to new file\n",
        "\n",
        "print(\"File copied successfully in binary mode!\")\n"
      ],
      "metadata": {
        "id": "oeo15eqP8jyM"
      },
      "execution_count": null,
      "outputs": []
    },
    {
      "cell_type": "markdown",
      "source": [
        "Why binary mode for copying?\n",
        "\n",
        "* Prevents encoding/decoding issues (important for images, videos, executables).\n",
        "\n",
        "* Preserves exact byte data without modification.\n",
        "\n",
        "* Works for any file type (not just text)."
      ],
      "metadata": {
        "id": "w1bAiRg58tNz"
      }
    },
    {
      "cell_type": "markdown",
      "source": [
        "💡 If the file is very large, reading it in chunks is better to save memory :"
      ],
      "metadata": {
        "id": "gPBa-agO83xs"
      }
    },
    {
      "cell_type": "code",
      "source": [
        "# Copy large file in chunks\n",
        "with open(\"big_source.bin\", \"rb\") as src, open(\"big_copy.bin\", \"wb\") as dest:\n",
        "    while chunk := src.read(4096):  # Read 4KB at a time\n",
        "        dest.write(chunk)\n"
      ],
      "metadata": {
        "id": "mF1E0wuz81ML"
      },
      "execution_count": null,
      "outputs": []
    },
    {
      "cell_type": "markdown",
      "source": [
        "\n",
        "\n",
        "---\n",
        "\n"
      ],
      "metadata": {
        "id": "v6moHyhL86ht"
      }
    },
    {
      "cell_type": "markdown",
      "source": [
        "Working with Other DataTypes in File Handling :\n",
        "\n",
        "When working with file handling in Python, you’re not limited to just text or binary files — you can also store and retrieve other data types like integers, floats, lists, tuples, dictionaries, or even entire objects.\n",
        "This is done using serialization (converting Python objects into storable formats) and deserialization (reading them back).\n",
        "\n"
      ],
      "metadata": {
        "id": "g79DTvWe9egf"
      }
    },
    {
      "cell_type": "markdown",
      "source": [
        "1. Using str() and eval() / int() / float() for Simple Data Types :\n",
        "\n",
        "  * You can write numbers or strings to a text file and convert them back while reading."
      ],
      "metadata": {
        "id": "inqlcJeX9ufT"
      }
    },
    {
      "cell_type": "code",
      "source": [
        "# Writing integers and floats to a file\n",
        "with open(\"data.txt\", \"w\") as f:\n",
        "    f.write(str(100) + \"\\n\")\n",
        "    f.write(str(45.67) + \"\\n\")\n",
        "\n",
        "# Reading and converting back to numbers\n",
        "with open(\"data.txt\", \"r\") as f:\n",
        "    int_val = int(f.readline())\n",
        "    float_val = float(f.readline())\n",
        "\n",
        "print(\"Integer:\", int_val, \"Float:\", float_val)\n"
      ],
      "metadata": {
        "id": "0Zy-iDSr9sIZ",
        "colab": {
          "base_uri": "https://localhost:8080/"
        },
        "outputId": "3cdf8e3c-258b-4316-97e1-e5ea421dd8e3"
      },
      "execution_count": 15,
      "outputs": [
        {
          "output_type": "stream",
          "name": "stdout",
          "text": [
            "Integer: 100 Float: 45.67\n"
          ]
        }
      ]
    },
    {
      "cell_type": "markdown",
      "source": [
        "2. Storing Complex Data Types as Strings :\n",
        "\n",
        "  * You can store lists, tuples, or dictionaries by converting them to strings and then back with eval() or ast.literal_eval() (safer)."
      ],
      "metadata": {
        "id": "q_ISh6Lq941a"
      }
    },
    {
      "cell_type": "code",
      "source": [
        "import ast\n",
        "\n",
        "# Writing list and dictionary to file\n",
        "with open(\"complex_data.txt\", \"w\") as f:\n",
        "    f.write(str([1, 2, 3, 4]) + \"\\n\")\n",
        "    f.write(str({\"name\": \"Yash\", \"age\": 21}) + \"\\n\")\n",
        "\n",
        "# Reading and converting back\n",
        "with open(\"complex_data.txt\", \"r\") as f:\n",
        "    my_list = ast.literal_eval(f.readline())\n",
        "    my_dict = ast.literal_eval(f.readline())\n",
        "\n",
        "print(\"List:\", my_list)\n",
        "print(\"Dictionary:\", my_dict)\n"
      ],
      "metadata": {
        "id": "j-gxvSSA9-sh",
        "colab": {
          "base_uri": "https://localhost:8080/"
        },
        "outputId": "3b17ef39-b521-4f44-8e79-d0aa0ea31131"
      },
      "execution_count": 14,
      "outputs": [
        {
          "output_type": "stream",
          "name": "stdout",
          "text": [
            "List: [1, 2, 3, 4]\n",
            "Dictionary: {'name': 'Yash', 'age': 21}\n"
          ]
        }
      ]
    },
    {
      "cell_type": "markdown",
      "source": [
        "3. Using pickle for Any Python Object :\n",
        "\n",
        "  * pickle can serialize and deserialize any Python object (lists, sets, objects, etc.) in binary format."
      ],
      "metadata": {
        "id": "q1_FRJIf-BLb"
      }
    },
    {
      "cell_type": "code",
      "source": [
        "import pickle\n",
        "\n",
        "# Example object\n",
        "student = {\"name\": \"Yash\", \"age\": 21, \"marks\": [85, 90, 95]}\n",
        "\n",
        "# Writing object to binary file\n",
        "with open(\"student.pkl\", \"wb\") as f:\n",
        "    pickle.dump(student, f)\n",
        "\n",
        "# Reading object from binary file\n",
        "with open(\"student.pkl\", \"rb\") as f:\n",
        "    loaded_student = pickle.load(f)\n",
        "\n",
        "print(\"Loaded Object:\", loaded_student)\n"
      ],
      "metadata": {
        "id": "Cd9Y-5Qh-IFU",
        "colab": {
          "base_uri": "https://localhost:8080/"
        },
        "outputId": "27e4adbc-8382-4808-d5da-2f807f06b367"
      },
      "execution_count": 13,
      "outputs": [
        {
          "output_type": "stream",
          "name": "stdout",
          "text": [
            "Loaded Object: {'name': 'Yash', 'age': 21, 'marks': [85, 90, 95]}\n"
          ]
        }
      ]
    },
    {
      "cell_type": "markdown",
      "source": [
        "4. Using json for Human-Readable Storage :\n",
        "\n",
        "  * json works best for storing dictionaries and lists in text form, especially if you need cross-language compatibility."
      ],
      "metadata": {
        "id": "eosgAQkF-JP_"
      }
    },
    {
      "cell_type": "code",
      "source": [
        "import json\n",
        "\n",
        "# Writing\n",
        "data = {\"name\": \"Yash\", \"skills\": [\"Python\", \"AI\"], \"score\": 98}\n",
        "with open(\"data.json\", \"w\") as f:\n",
        "    json.dump(data, f)\n",
        "\n",
        "# Reading\n",
        "with open(\"data.json\", \"r\") as f:\n",
        "    loaded_data = json.load(f)\n",
        "\n",
        "print(\"JSON Data:\", loaded_data)\n"
      ],
      "metadata": {
        "id": "_nZlBkQf-NuP",
        "colab": {
          "base_uri": "https://localhost:8080/"
        },
        "outputId": "0c626c60-9c3a-47f9-c4c3-fc44aa7f48da"
      },
      "execution_count": 12,
      "outputs": [
        {
          "output_type": "stream",
          "name": "stdout",
          "text": [
            "JSON Data: {'name': 'Yash', 'skills': ['Python', 'AI'], 'score': 98}\n"
          ]
        }
      ]
    },
    {
      "cell_type": "markdown",
      "source": [
        "Summary Table :\n",
        "\n",
        "| Data Type         | Method to Store                   | File Mode       | Module Needed |\n",
        "| ----------------- | --------------------------------- | --------------- | ------------- |\n",
        "| int, float, str   | `str()` / `int()` / `float()`     | `\"w\"` / `\"r\"`   | No            |\n",
        "| list, tuple, dict | `str()` + `ast.literal_eval()`    | `\"w\"` / `\"r\"`   | `ast`         |\n",
        "| Any Python Object | `pickle.dump()` / `pickle.load()` | `\"wb\"` / `\"rb\"` | `pickle`      |\n",
        "| JSON-compatible   | `json.dump()` / `json.load()`     | `\"w\"` / `\"r\"`   | `json`        |\n"
      ],
      "metadata": {
        "id": "jSPszpyu-QLk"
      }
    },
    {
      "cell_type": "markdown",
      "source": [
        "---"
      ],
      "metadata": {
        "id": "8ljNXb-L-Uwe"
      }
    },
    {
      "cell_type": "markdown",
      "source": [
        "Serialization : -\n",
        "\n",
        "Serialization is the process of converting a Python object into a format that can be stored or transmitted (such as a file, database, or over a network) and later reconstructed back into the original object.\n",
        "The reverse process is called deserialization."
      ],
      "metadata": {
        "id": "Xg2KcmSW-1md"
      }
    },
    {
      "cell_type": "markdown",
      "source": [
        "Why Serialization is Needed :\n",
        "\n",
        "* Save program data to a file (for persistence).\n",
        "\n",
        "* Send Python objects over a network (e.g., API calls, sockets).\n",
        "\n",
        "* Store complex data structures (lists, dicts, custom objects) in binary or text format.\n",
        "\n",
        "* Share data between programs (possibly written in different languages).\n",
        "\n"
      ],
      "metadata": {
        "id": "2wFabdyk--55"
      }
    },
    {
      "cell_type": "markdown",
      "source": [
        "Serialization Formats :\n",
        "\n",
        "| Format     | Characteristics                      | Common Python Module    |\n",
        "| ---------- | ------------------------------------ | ----------------------- |\n",
        "| **Binary** | Compact, fast, Python-specific       | `pickle`                |\n",
        "| **JSON**   | Human-readable, language-independent | `json`                  |\n",
        "| **XML**    | Structured, verbose, cross-platform  | `xml.etree.ElementTree` |\n",
        "| **CSV**    | Tabular text data                    | `csv`                   |\n"
      ],
      "metadata": {
        "id": "wMMoDvkU_D2n"
      }
    },
    {
      "cell_type": "code",
      "source": [
        "# Code Example :\n",
        "# Serialization Using 'pickle' :\n",
        "\n",
        "import pickle\n",
        "\n",
        "data = {\"name\": \"Yash\", \"age\": 21, \"skills\": [\"Python\", \"AI\"]}\n",
        "\n",
        "# Serialize (dump) to file\n",
        "with open(\"data.pkl\", \"wb\") as f:\n",
        "    pickle.dump(data, f)\n",
        "\n",
        "# Deserialize (load) from file\n",
        "with open(\"data.pkl\", \"rb\") as f:\n",
        "    loaded_data = pickle.load(f)\n",
        "\n",
        "print(\"Loaded Data:\", loaded_data)\n"
      ],
      "metadata": {
        "id": "8f-hRcXP_MBZ",
        "colab": {
          "base_uri": "https://localhost:8080/"
        },
        "outputId": "baba6360-817a-4492-c88d-635cc8941e76"
      },
      "execution_count": 17,
      "outputs": [
        {
          "output_type": "stream",
          "name": "stdout",
          "text": [
            "Loaded Data: {'name': 'Yash', 'age': 21, 'skills': ['Python', 'AI']}\n"
          ]
        }
      ]
    },
    {
      "cell_type": "code",
      "source": [
        "# Code Example :\n",
        "# Serialization Using 'json' :\n",
        "\n",
        "import json\n",
        "\n",
        "data = {\"name\": \"Yash\", \"age\": 21, \"skills\": [\"Python\", \"AI\"]}\n",
        "\n",
        "# Serialize to JSON file\n",
        "with open(\"data.json\", \"w\") as f:\n",
        "    json.dump(data, f)\n",
        "\n",
        "# Deserialize from JSON file\n",
        "with open(\"data.json\", \"r\") as f:\n",
        "    loaded_data = json.load(f)\n",
        "\n",
        "print(\"Loaded Data:\", loaded_data)\n"
      ],
      "metadata": {
        "id": "FxilvZwR_SF6",
        "colab": {
          "base_uri": "https://localhost:8080/"
        },
        "outputId": "eec242a1-0af2-43d4-d82a-0892a00742d0"
      },
      "execution_count": 18,
      "outputs": [
        {
          "output_type": "stream",
          "name": "stdout",
          "text": [
            "Loaded Data: {'name': 'Yash', 'age': 21, 'skills': ['Python', 'AI']}\n"
          ]
        }
      ]
    },
    {
      "cell_type": "code",
      "source": [
        "# Code Example :\n",
        "# Serialization Using Multiple Datatypes in One File :\n",
        "\n",
        "import pickle\n",
        "\n",
        "int_data = 42\n",
        "list_data = [1, 2, 3]\n",
        "dict_data = {\"x\": 1, \"y\": 2}\n",
        "\n",
        "with open(\"multi.pkl\", \"wb\") as f:\n",
        "    pickle.dump(int_data, f)\n",
        "    pickle.dump(list_data, f)\n",
        "    pickle.dump(dict_data, f)\n",
        "\n",
        "with open(\"multi.pkl\", \"rb\") as f:\n",
        "    i = pickle.load(f)\n",
        "    l = pickle.load(f)\n",
        "    d = pickle.load(f)\n",
        "\n",
        "print(i, l, d)\n"
      ],
      "metadata": {
        "id": "yjVfi2M9_Y_j",
        "colab": {
          "base_uri": "https://localhost:8080/"
        },
        "outputId": "f59bbedb-4873-4a38-b163-f392927901e9"
      },
      "execution_count": 19,
      "outputs": [
        {
          "output_type": "stream",
          "name": "stdout",
          "text": [
            "42 [1, 2, 3] {'x': 1, 'y': 2}\n"
          ]
        }
      ]
    },
    {
      "cell_type": "markdown",
      "source": [
        "✅ Key Points:\n",
        "\n",
        "* Serialization = Python object → Storable/transferable format.\n",
        "\n",
        "* Deserialization = Storable/transferable format → Python object.\n",
        "\n",
        "* pickle is Python-specific but supports any Python object.\n",
        "\n",
        "* json is text-based, more universal, but supports only JSON-compatible types (no custom Python objects directly).\n",
        "\n"
      ],
      "metadata": {
        "id": "ATum2M6__lFc"
      }
    },
    {
      "cell_type": "markdown",
      "source": [
        "---"
      ],
      "metadata": {
        "id": "B72-j-qO_pT7"
      }
    },
    {
      "cell_type": "markdown",
      "source": [
        "De - Serialization : -\n",
        "\n",
        "Deserialization is the reverse process of serialization — it means converting stored or transmitted data back into a Python object so it can be used in your program.\n",
        "\n",
        "If serialization is “packing data into a file or string,” deserialization is “unpacking it back into its original form.”"
      ],
      "metadata": {
        "id": "tbSD-6Zp_tsG"
      }
    },
    {
      "cell_type": "markdown",
      "source": [
        "Why Deserialization is Used :\n",
        "\n",
        "* Load saved program state from a file (like game progress).\n",
        "\n",
        "* Read data sent over a network.\n",
        "\n",
        "* Restore objects for further processing.\n",
        "\n",
        "* Share data between different programs or languages."
      ],
      "metadata": {
        "id": "HBeN0Zmh_6Fy"
      }
    },
    {
      "cell_type": "code",
      "source": [
        "# Code Example :\n",
        "# Deserialization Using 'pickle' :\n",
        "\n",
        "import pickle\n",
        "\n",
        "# Assume data.pkl was created earlier using pickle.dump()\n",
        "with open(\"data.pkl\", \"rb\") as f:\n",
        "    loaded_data = pickle.load(f)\n",
        "\n",
        "print(\"Deserialized Data:\", loaded_data)\n"
      ],
      "metadata": {
        "id": "ywaE5qNPADk-",
        "colab": {
          "base_uri": "https://localhost:8080/"
        },
        "outputId": "bc26561d-8a2e-4440-8a62-8f6dfa823fb9"
      },
      "execution_count": 20,
      "outputs": [
        {
          "output_type": "stream",
          "name": "stdout",
          "text": [
            "Deserialized Data: {'name': 'Yash', 'age': 21, 'skills': ['Python', 'AI']}\n"
          ]
        }
      ]
    },
    {
      "cell_type": "code",
      "source": [
        "# Code Example :\n",
        "# Deserialization with 'json' :\n",
        "\n",
        "import json\n",
        "\n",
        "# Assume data.json was created earlier using json.dump()\n",
        "with open(\"data.json\", \"r\") as f:\n",
        "    loaded_data = json.load(f)\n",
        "\n",
        "print(\"Deserialized Data:\", loaded_data)\n"
      ],
      "metadata": {
        "id": "fBZ5FdKkAI6G",
        "colab": {
          "base_uri": "https://localhost:8080/"
        },
        "outputId": "ced746f8-7b64-4820-a99d-fb43eaed3842"
      },
      "execution_count": 21,
      "outputs": [
        {
          "output_type": "stream",
          "name": "stdout",
          "text": [
            "Deserialized Data: {'name': 'Yash', 'age': 21, 'skills': ['Python', 'AI']}\n"
          ]
        }
      ]
    },
    {
      "cell_type": "markdown",
      "source": [
        "Key Points:\n",
        "\n",
        "* Serialization = Object → Storable format.\n",
        "\n",
        "* Deserialization = Storable format → Object.\n",
        "\n",
        "* Binary deserialization (pickle) is faster but Python-specific.\n",
        "\n",
        "* Text-based deserialization (json, xml, csv) is more universal but limited to supported data types."
      ],
      "metadata": {
        "id": "6STY4etfAYnQ"
      }
    },
    {
      "cell_type": "markdown",
      "source": [
        "\n",
        "\n",
        "---\n",
        "\n"
      ],
      "metadata": {
        "id": "9nwrKw_3AcoI"
      }
    },
    {
      "cell_type": "markdown",
      "source": [
        "Serialization vs Deserialization In Python :\n",
        "\n",
        "| **Aspect**                    | **Serialization**                                                                    | **Deserialization**                                                           |\n",
        "| ----------------------------- | ------------------------------------------------------------------------------------ | ----------------------------------------------------------------------------- |\n",
        "| **Definition**                | Converting a Python object into a storable or transmittable format (binary or text). | Converting stored/transmitted data back into a Python object.                 |\n",
        "| **Purpose**                   | Save data to files, send over network, store in DB, share between programs.          | Restore data for use, reload program state, receive and use transmitted data. |\n",
        "| **Input**                     | Python object (list, dict, custom class object, etc.).                               | Serialized file/string/data.                                                  |\n",
        "| **Output**                    | Serialized file/string/data.                                                         | Original Python object.                                                       |\n",
        "| **Binary Example** (`pickle`) | `pickle.dump(obj, file)`                                                             | `pickle.load(file)`                                                           |\n",
        "| **Text Example** (`json`)     | `json.dump(obj, file)`                                                               | `json.load(file)`                                                             |\n",
        "| **Pros**                      | Saves exact object structure; can be fast in binary mode.                            | Restores exact objects easily.                                                |\n",
        "| **Cons**                      | Binary is Python-specific; JSON limited to certain data types.                       | Requires same format & structure as during serialization.                     |\n"
      ],
      "metadata": {
        "id": "y3jnkogSAjQi"
      }
    },
    {
      "cell_type": "markdown",
      "source": [
        "1. Binary Serialization Example (pickle) :"
      ],
      "metadata": {
        "id": "A7DUOCFaAvxO"
      }
    },
    {
      "cell_type": "code",
      "source": [
        "import pickle\n",
        "\n",
        "# Serialization\n",
        "data = {\"name\": \"Alice\", \"age\": 25, \"skills\": [\"Python\", \"ML\"]}\n",
        "with open(\"data.pkl\", \"wb\") as f:\n",
        "    pickle.dump(data, f)\n",
        "\n",
        "# Deserialization\n",
        "with open(\"data.pkl\", \"rb\") as f:\n",
        "    loaded_data = pickle.load(f)\n",
        "\n",
        "print(\"Deserialized:\", loaded_data)\n"
      ],
      "metadata": {
        "id": "5CDjcLiFArRT",
        "colab": {
          "base_uri": "https://localhost:8080/"
        },
        "outputId": "09bfddb5-5de1-47fc-88b3-790667aef90a"
      },
      "execution_count": 22,
      "outputs": [
        {
          "output_type": "stream",
          "name": "stdout",
          "text": [
            "Deserialized: {'name': 'Alice', 'age': 25, 'skills': ['Python', 'ML']}\n"
          ]
        }
      ]
    },
    {
      "cell_type": "markdown",
      "source": [
        "2. Text Serialization Example (json) :"
      ],
      "metadata": {
        "id": "a5_vNyAyAzVR"
      }
    },
    {
      "cell_type": "code",
      "source": [
        "import json\n",
        "\n",
        "# Serialization\n",
        "data = {\"name\": \"Bob\", \"age\": 30, \"skills\": [\"JavaScript\", \"React\"]}\n",
        "with open(\"data.json\", \"w\") as f:\n",
        "    json.dump(data, f)\n",
        "\n",
        "# Deserialization\n",
        "with open(\"data.json\", \"r\") as f:\n",
        "    loaded_data = json.load(f)\n",
        "\n",
        "print(\"Deserialized:\", loaded_data)\n"
      ],
      "metadata": {
        "id": "dORrGTw_A2BD",
        "colab": {
          "base_uri": "https://localhost:8080/"
        },
        "outputId": "6d9b1c45-493f-4ac1-c582-5e36a8e0e354"
      },
      "execution_count": 23,
      "outputs": [
        {
          "output_type": "stream",
          "name": "stdout",
          "text": [
            "Deserialized: {'name': 'Bob', 'age': 30, 'skills': ['JavaScript', 'React']}\n"
          ]
        }
      ]
    },
    {
      "cell_type": "markdown",
      "source": [
        "Quick Analogy :\n",
        "\n",
        "* Serialization → Like packing clothes into a suitcase.\n",
        "\n",
        "* Deserialization → Like unpacking clothes when you reach your destination.\n",
        "\n"
      ],
      "metadata": {
        "id": "O1oJN1E_A4ZI"
      }
    },
    {
      "cell_type": "markdown",
      "source": [
        "\n",
        "\n",
        "---\n",
        "\n"
      ],
      "metadata": {
        "id": "3gFdFtazA8mP"
      }
    },
    {
      "cell_type": "markdown",
      "source": [
        "With Tuples as the input datatype when we do the serialization for it , it gets stored in the file in the format of a list and when we deserialize it again we get a list only .\n"
      ],
      "metadata": {
        "id": "R2JCZX0fXjkx"
      }
    },
    {
      "cell_type": "markdown",
      "source": [
        "\n",
        "\n",
        "---\n",
        "\n"
      ],
      "metadata": {
        "id": "Yq0mOne0X4pd"
      }
    },
    {
      "cell_type": "markdown",
      "source": [
        "Serialization and Deserialization of an Custom Object or DataType :\n",
        "\n",
        "1. Using pickle (Binary Format)\n",
        "pickle can handle almost any Python object, including custom classes."
      ],
      "metadata": {
        "id": "EGajsTQHYv_M"
      }
    },
    {
      "cell_type": "code",
      "source": [
        "import pickle\n",
        "\n",
        "# Custom class\n",
        "class Student:\n",
        "    def __init__(self, name, age):\n",
        "        self.name = name\n",
        "        self.age = age\n",
        "    def __repr__(self):\n",
        "        return f\"Student(name={self.name}, age={self.age})\"\n",
        "\n",
        "# Create object\n",
        "student_obj = Student(\"Alice\", 22)\n",
        "\n",
        "# --- Serialization ---\n",
        "with open(\"student.pkl\", \"wb\") as f:\n",
        "    pickle.dump(student_obj, f)\n",
        "\n",
        "# --- Deserialization ---\n",
        "with open(\"student.pkl\", \"rb\") as f:\n",
        "    loaded_student = pickle.load(f)\n",
        "\n",
        "print(\"Deserialized Object:\", loaded_student)\n"
      ],
      "metadata": {
        "colab": {
          "base_uri": "https://localhost:8080/"
        },
        "id": "aI_A3eLbY_jH",
        "outputId": "f4be1f4c-765f-43aa-bcbc-9aa2b168e562"
      },
      "execution_count": 24,
      "outputs": [
        {
          "output_type": "stream",
          "name": "stdout",
          "text": [
            "Deserialized Object: Student(name=Alice, age=22)\n"
          ]
        }
      ]
    },
    {
      "cell_type": "markdown",
      "source": [
        "✅ Works for any Python object without extra conversion.\n",
        "\n",
        "2. Using json (Text Format)\n",
        "JSON cannot directly store custom objects — you must convert them to dict form first (and back later)."
      ],
      "metadata": {
        "id": "F4K07xt7ZBlF"
      }
    },
    {
      "cell_type": "code",
      "source": [
        "import json\n",
        "\n",
        "# Custom class\n",
        "class Student:\n",
        "    def __init__(self, name, age):\n",
        "        self.name = name\n",
        "        self.age = age\n",
        "    def to_dict(self):\n",
        "        return {\"name\": self.name, \"age\": self.age}\n",
        "    @classmethod\n",
        "    def from_dict(cls, data):\n",
        "        return cls(data[\"name\"], data[\"age\"])\n",
        "\n",
        "student_obj = Student(\"Bob\", 23)\n",
        "\n"
      ],
      "metadata": {
        "id": "_ffwzjFgZFLi"
      },
      "execution_count": 25,
      "outputs": []
    },
    {
      "cell_type": "markdown",
      "source": [
        "Key Takeaways :\n",
        "\n",
        "* pickle → Best when working only in Python and want exact object restoration.\n",
        "\n",
        "* json → Best for portability across languages but needs manual conversion.\n",
        "\n",
        "* Custom objects must be handled carefully so attributes are stored & restored correctly."
      ],
      "metadata": {
        "id": "_LRFKZtgZS1c"
      }
    },
    {
      "cell_type": "markdown",
      "source": [
        "\n",
        "\n",
        "---\n",
        "\n"
      ],
      "metadata": {
        "id": "LF929YTSZXKJ"
      }
    },
    {
      "cell_type": "markdown",
      "source": [
        "Pickling : -\n",
        "\n",
        "Pickling is the process of converting a Python object (like lists, dictionaries, or even custom objects) into a byte stream so it can be stored in a file or sent over a network. It is done using the pickle module. This byte stream can later be unpickled (deserialized) to recreate the original object.\n",
        "\n"
      ],
      "metadata": {
        "id": "YsHbvk5UcWn2"
      }
    },
    {
      "cell_type": "code",
      "source": [
        "import pickle\n",
        "\n",
        "data = {\"name\": \"Alice\", \"age\": 25, \"marks\": [90, 85, 88]}\n",
        "\n",
        "# Serialize (pickle) the object into a file\n",
        "with open(\"data.pkl\", \"wb\") as f:\n",
        "    pickle.dump(data, f)\n"
      ],
      "metadata": {
        "id": "WOz-8u6Ucn5d"
      },
      "execution_count": 26,
      "outputs": []
    },
    {
      "cell_type": "markdown",
      "source": [
        "Unpickling (Deserialization) : -\n",
        "\n",
        "Unpickling is the reverse of pickling — it reads the byte stream and reconstructs the original Python object."
      ],
      "metadata": {
        "id": "rzug1jdScjdH"
      }
    },
    {
      "cell_type": "code",
      "source": [
        "# Deserialize (unpickle) the object from file\n",
        "with open(\"data.pkl\", \"rb\") as f:\n",
        "    loaded_data = pickle.load(f)\n",
        "\n",
        "print(loaded_data)\n"
      ],
      "metadata": {
        "colab": {
          "base_uri": "https://localhost:8080/"
        },
        "id": "TE-a6uS0cti-",
        "outputId": "6839bb03-5c60-469b-a50e-c55071854c38"
      },
      "execution_count": 27,
      "outputs": [
        {
          "output_type": "stream",
          "name": "stdout",
          "text": [
            "{'name': 'Alice', 'age': 25, 'marks': [90, 85, 88]}\n"
          ]
        }
      ]
    },
    {
      "cell_type": "markdown",
      "source": [
        "Key Points :\n",
        "\n",
        "*  Pickle functions:\n",
        "\n",
        "    * pickle.dump(obj, file) → Writes pickled object to a binary file.\n",
        "\n",
        "    * pickle.load(file) → Reads pickled object from a binary file.\n",
        "\n",
        "    * pickle.dumps(obj) → Returns pickled object as a bytes object.\n",
        "\n",
        "    * pickle.loads(bytes) → Loads object from a bytes object.\n",
        "\n",
        "* Pros: Works with complex Python objects, very easy to use.\n",
        "\n",
        "* Cons: Python-specific, not secure against untrusted data (can execute arbitrary code when unpickling).\n",
        "\n"
      ],
      "metadata": {
        "id": "GmRQqLV1cuHi"
      }
    },
    {
      "cell_type": "markdown",
      "source": [
        "\n",
        "\n",
        "---\n",
        "\n"
      ],
      "metadata": {
        "id": "bsSSMIgpc7KW"
      }
    }
  ]
}