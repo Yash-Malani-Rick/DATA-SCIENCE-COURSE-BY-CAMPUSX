{
  "nbformat": 4,
  "nbformat_minor": 0,
  "metadata": {
    "colab": {
      "provenance": [],
      "authorship_tag": "ABX9TyNofTJzI6/JHdaUwpGHCUhm",
      "include_colab_link": true
    },
    "kernelspec": {
      "name": "python3",
      "display_name": "Python 3"
    },
    "language_info": {
      "name": "python"
    }
  },
  "cells": [
    {
      "cell_type": "markdown",
      "metadata": {
        "id": "view-in-github",
        "colab_type": "text"
      },
      "source": [
        "<a href=\"https://colab.research.google.com/github/Yash-Malani-Rick/DATA-SCIENCE-COURSE-BY-CAMPUSX/blob/master/SESSION09DS.ipynb\" target=\"_parent\"><img src=\"https://colab.research.google.com/assets/colab-badge.svg\" alt=\"Open In Colab\"/></a>"
      ]
    },
    {
      "cell_type": "markdown",
      "source": [
        "# 1) Exception Handling In Python : -"
      ],
      "metadata": {
        "id": "dMqPj7b8O1-l"
      }
    },
    {
      "cell_type": "markdown",
      "source": [
        "\n",
        "\n",
        "Exception handling in Python is a mechanism that allows a program to deal with errors (exceptions) without crashing. Exceptions occur when unexpected events happen during execution, such as division by zero, file not found, or invalid type operations. Python uses the try-except block to catch and handle these errors gracefully. Optional else and finally blocks allow you to run code if no exception occurs or always run cleanup code, respectively. This ensures the program remains stable and provides meaningful error messages instead of abruptly stopping.**bold text**"
      ],
      "metadata": {
        "id": "BzyM6d2BHkJu"
      }
    },
    {
      "cell_type": "code",
      "source": [
        "# Code Example :\n",
        "\n",
        "try:\n",
        "    # Code that might cause an exception\n",
        "    num = int(input(\"Enter a number: \"))\n",
        "    result = 10 / num\n",
        "except ZeroDivisionError:\n",
        "    print(\"Error: Cannot divide by zero!\")\n",
        "except ValueError:\n",
        "    print(\"Error: Invalid number entered!\")\n",
        "else:\n",
        "    print(\"Division successful:\", result)\n",
        "finally:\n",
        "    print(\"Execution complete.\")\n"
      ],
      "metadata": {
        "colab": {
          "base_uri": "https://localhost:8080/"
        },
        "id": "vK2OdFbVHvRH",
        "outputId": "abeddbc4-eeee-4244-9862-6aca5632c8dc"
      },
      "execution_count": 65,
      "outputs": [
        {
          "output_type": "stream",
          "name": "stdout",
          "text": [
            "Enter a number: 5\n",
            "Division successful: 2.0\n",
            "Execution complete.\n"
          ]
        }
      ]
    },
    {
      "cell_type": "markdown",
      "source": [
        "Key Points :\n",
        "\n",
        "* try → Contains code that might cause an exception.\n",
        "\n",
        "* except → Handles the exception type.\n",
        "\n",
        "* else → Runs if no exception occurs.\n",
        "\n",
        "* finally → Always runs, useful for cleanup (e.g., closing files).\n",
        "\n",
        "* Multiple exceptions can be handled separately or together."
      ],
      "metadata": {
        "id": "WP9x0FLHHtA7"
      }
    },
    {
      "cell_type": "markdown",
      "source": [
        "Example: Handling Multiple Exceptions Together"
      ],
      "metadata": {
        "id": "bc-NAn9tH6ka"
      }
    },
    {
      "cell_type": "code",
      "source": [
        "try:\n",
        "    x = int(input(\"Enter a number: \"))\n",
        "    print(10 / x)\n",
        "except (ValueError, ZeroDivisionError) as e:\n",
        "    print(\"Error occurred:\", e)\n"
      ],
      "metadata": {
        "colab": {
          "base_uri": "https://localhost:8080/"
        },
        "id": "DDhELQzPH_bk",
        "outputId": "56851cf0-6366-4813-c216-78d7dfcaa5d3"
      },
      "execution_count": 66,
      "outputs": [
        {
          "output_type": "stream",
          "name": "stdout",
          "text": [
            "Enter a number: 5\n",
            "2.0\n"
          ]
        }
      ]
    },
    {
      "cell_type": "markdown",
      "source": [
        "\n",
        "\n",
        "---\n",
        "\n"
      ],
      "metadata": {
        "id": "ZOgv-rnBIBfD"
      }
    },
    {
      "cell_type": "markdown",
      "source": [
        "Types of Error and it's theory :"
      ],
      "metadata": {
        "id": "zsCkl89nIHhX"
      }
    },
    {
      "cell_type": "markdown",
      "source": [
        "1. Syntax Errors :\n",
        "\n",
        "  * A syntax error occurs when Python cannot understand the code because it breaks the language’s grammatical rules. This happens before the program runs (at the parsing stage). Examples include missing colons, unmatched parentheses, or incorrect indentation. Python immediately stops execution and displays a SyntaxError message pointing to the problematic line. Since these errors are detected before execution, they must be fixed before running the program. Example:"
      ],
      "metadata": {
        "id": "zBSB1cLPIVG6"
      }
    },
    {
      "cell_type": "markdown",
      "source": [
        "\n",
        "\n",
        "```\n",
        "if True\n",
        "    print(\"Hello\")  # Missing colon → SyntaxError\n",
        "\n",
        "```\n",
        "\n"
      ],
      "metadata": {
        "id": "ZRZqaDOfIXad"
      }
    },
    {
      "cell_type": "markdown",
      "source": [
        "2. Runtime Errors (Exceptions) :\n",
        "\n",
        "  * A runtime error, also known as an exception, happens while the program is running. Even if the code is syntactically correct, an invalid operation during execution—such as dividing by zero, accessing a non-existent file, or converting a string to an integer—can cause a runtime error. These errors stop program execution unless they are handled using exception handling (try-except). Example:"
      ],
      "metadata": {
        "id": "CpAtAH9bIhdf"
      }
    },
    {
      "cell_type": "markdown",
      "source": [
        "\n",
        "\n",
        "```\n",
        "print(10 / 0)  # ZeroDivisionError\n",
        "\n",
        "```\n",
        "\n"
      ],
      "metadata": {
        "id": "8YAUxpj9InJg"
      }
    },
    {
      "cell_type": "markdown",
      "source": [
        "3. Logical Errors :\n",
        "\n",
        "  * Logical errors occur when a program runs without crashing but produces incorrect or unintended results due to a mistake in the logic or algorithm. These errors are the hardest to detect because Python does not flag them, and debugging requires checking the program’s output against expected results. They usually result from incorrect assumptions, wrong calculations, or flawed program flow. Example:"
      ],
      "metadata": {
        "id": "wLO5Q40pIrom"
      }
    },
    {
      "cell_type": "markdown",
      "source": [
        "\n",
        "\n",
        "```\n",
        "# Intended to calculate the average\n",
        "marks = [90, 80, 70]\n",
        "avg = sum(marks) / len(marks) + 10  # Wrong formula → incorrect result\n",
        "\n",
        "```\n",
        "\n"
      ],
      "metadata": {
        "id": "KYwBY3IYIvlp"
      }
    },
    {
      "cell_type": "markdown",
      "source": [
        "\n",
        "\n",
        "---\n",
        "\n"
      ],
      "metadata": {
        "id": "k1xHsl-pIyq1"
      }
    },
    {
      "cell_type": "markdown",
      "source": [
        "Several Types of Errors :\n",
        "\n",
        "1. IndexError\n",
        "2. ModuleNotFoundError\n",
        "3. KeyError\n",
        "4. TypeError\n",
        "5. ValueError\n",
        "6. NameError\n",
        "7. AttributeError\n",
        "8. FileNotFoundError"
      ],
      "metadata": {
        "id": "GKwgUBhEKCkE"
      }
    },
    {
      "cell_type": "markdown",
      "source": [
        "\n",
        "\n",
        "---\n",
        "\n"
      ],
      "metadata": {
        "id": "qESkJlbAKg9z"
      }
    },
    {
      "cell_type": "markdown",
      "source": [
        "Exceptions In Python :\n",
        "\n",
        "In Python, exceptions are events that occur during program execution that disrupt its normal flow. Unlike syntax errors, exceptions happen at runtime and indicate situations where the program cannot proceed normally—such as dividing by zero, accessing a missing file, or using invalid data types. Python stops execution when an exception occurs unless it’s handled using the try-except block. Exceptions are objects that represent errors, and all built-in exceptions are derived from the BaseException class. Handling exceptions allows programs to respond gracefully instead of crashing."
      ],
      "metadata": {
        "id": "hIWfzJwHKrwJ"
      }
    },
    {
      "cell_type": "code",
      "source": [
        "# Code Example :\n",
        "# Exception Handling :\n",
        "\n",
        "try:\n",
        "    # Code that may cause an exception\n",
        "    num = int(input(\"Enter a number: \"))\n",
        "    print(10 / num)\n",
        "except ZeroDivisionError:\n",
        "    print(\"Error: Cannot divide by zero.\")\n",
        "except ValueError:\n",
        "    print(\"Error: Invalid number entered.\")\n",
        "finally:\n",
        "    print(\"Execution finished.\")\n"
      ],
      "metadata": {
        "colab": {
          "base_uri": "https://localhost:8080/"
        },
        "id": "3zegn521K29e",
        "outputId": "d4ee8b72-d19c-4ef1-a977-a6839052dd6d"
      },
      "execution_count": 67,
      "outputs": [
        {
          "output_type": "stream",
          "name": "stdout",
          "text": [
            "Enter a number: 5\n",
            "2.0\n",
            "Execution finished.\n"
          ]
        }
      ]
    },
    {
      "cell_type": "markdown",
      "source": [
        "Key Points about Exceptions :\n",
        "\n",
        "* All exceptions are classes that inherit from BaseException.\n",
        "\n",
        "* You can catch specific exceptions or use a generic except Exception: for all.\n",
        "\n",
        "* finally runs regardless of whether an exception occurred (used for cleanup).\n",
        "\n",
        "* You can raise exceptions manually with raise."
      ],
      "metadata": {
        "id": "rJUS0cYzK0rW"
      }
    },
    {
      "cell_type": "code",
      "source": [
        "# Code Example :\n",
        "# Multiple Exception Handling :\n",
        "\n",
        "try:\n",
        "    file = open(\"data.txt\", \"r\")\n",
        "    data = int(file.read())\n",
        "    print(100 / data)\n",
        "except FileNotFoundError:\n",
        "    print(\"Error: File not found.\")\n",
        "except ValueError:\n",
        "    print(\"Error: Cannot convert file content to integer.\")\n",
        "except ZeroDivisionError:\n",
        "    print(\"Error: Division by zero.\")\n",
        "finally:\n",
        "    print(\"Process complete.\")\n"
      ],
      "metadata": {
        "colab": {
          "base_uri": "https://localhost:8080/"
        },
        "id": "gjWt-USJK_vP",
        "outputId": "258d07d0-29e8-4c04-e9f0-f120e381700e"
      },
      "execution_count": 68,
      "outputs": [
        {
          "output_type": "stream",
          "name": "stdout",
          "text": [
            "Error: File not found.\n",
            "Process complete.\n"
          ]
        }
      ]
    },
    {
      "cell_type": "markdown",
      "source": [
        "\n",
        "\n",
        "---\n",
        "\n"
      ],
      "metadata": {
        "id": "a1Xs9ADeLPiR"
      }
    },
    {
      "cell_type": "markdown",
      "source": [
        "Try-Except-Else Block :\n",
        "\n",
        "In Python, the try-except-else structure is used for exception handling with an additional success path.\n",
        "\n",
        "* try → Contains code that might raise an exception.\n",
        "\n",
        "* * except → Handles the exception if it occurs.\n",
        "\n",
        "* * else → Runs only if no exception is raised in the try block.\n",
        "\n",
        "* Purpose → Keeps normal execution logic (else) separate from error handling (except), improving readability.\n",
        "\n",
        "\n",
        "\n",
        "```\n",
        "try:\n",
        "    # Code that might cause an error\n",
        "except SomeException:\n",
        "    # Code to handle the error\n",
        "else:\n",
        "    # Code to run if no error occurred\n",
        "\n",
        "```\n",
        "\n"
      ],
      "metadata": {
        "id": "14KZOKApPIsz"
      }
    },
    {
      "cell_type": "code",
      "source": [
        "# Code Example :\n",
        "# Division :\n",
        "\n",
        "try:\n",
        "    num = int(input(\"Enter a number: \"))\n",
        "    result = 10 / num\n",
        "except ZeroDivisionError:\n",
        "    print(\"Error: Division by zero is not allowed.\")\n",
        "except ValueError:\n",
        "    print(\"Error: Please enter a valid integer.\")\n",
        "else:\n",
        "    print(\"Success! The result is:\", result)\n"
      ],
      "metadata": {
        "colab": {
          "base_uri": "https://localhost:8080/"
        },
        "id": "JHxaiwXbPZhr",
        "outputId": "c752bb24-38c1-4882-8380-715541343d5f"
      },
      "execution_count": 69,
      "outputs": [
        {
          "output_type": "stream",
          "name": "stdout",
          "text": [
            "Enter a number: 5\n",
            "Success! The result is: 2.0\n"
          ]
        }
      ]
    },
    {
      "cell_type": "markdown",
      "source": [
        "How it works:\n",
        "\n",
        "* If the user enters 0 → ZeroDivisionError triggers.\n",
        "\n",
        "* If the user enters non-integer → ValueError triggers.\n",
        "\n",
        "* If no exception occurs → else block runs and shows the result."
      ],
      "metadata": {
        "id": "qHHJNQE_PgSp"
      }
    },
    {
      "cell_type": "code",
      "source": [
        "# Code Example :\n",
        "# File Handling :\n",
        "\n",
        "try:\n",
        "    f = open(\"data.txt\", \"r\")\n",
        "    content = f.read()\n",
        "except FileNotFoundError:\n",
        "    print(\"Error: The file was not found.\")\n",
        "else:\n",
        "    print(\"File contents:\")\n",
        "    print(content)\n",
        "    f.close()\n"
      ],
      "metadata": {
        "colab": {
          "base_uri": "https://localhost:8080/"
        },
        "id": "VVQIRJdjPkRO",
        "outputId": "b44deadb-d631-49a8-ca1f-dded25b2fd3e"
      },
      "execution_count": 70,
      "outputs": [
        {
          "output_type": "stream",
          "name": "stdout",
          "text": [
            "Error: The file was not found.\n"
          ]
        }
      ]
    },
    {
      "cell_type": "markdown",
      "source": [
        "✅ Good Practice: Use else when you want some code to run only if the try block succeeds completely without errors.\n",
        "\n"
      ],
      "metadata": {
        "id": "Gu1v6cKYPtxG"
      }
    },
    {
      "cell_type": "markdown",
      "source": [
        "\n",
        "\n",
        "---\n",
        "\n"
      ],
      "metadata": {
        "id": "2mj1uem7PueP"
      }
    },
    {
      "cell_type": "markdown",
      "source": [
        "Try-Except-Else-Finally :\n",
        "\n",
        "In Python, the try block is used to wrap code that may cause an exception. The except block handles the error if it occurs.\n",
        "The else block runs only if no exception occurs inside the try block.\n",
        "The finally block runs always, whether an exception occurs or not, and is usually used for cleanup tasks like closing files or releasing resources.\n",
        "\n",
        "Flow:\n",
        "\n",
        "1. try: Execute risky code.\n",
        "\n",
        "2. except: Handle exceptions if they happen.\n",
        "\n",
        "3. else: Execute code if no exception occurred.\n",
        "\n",
        "4. finally: Execute code no matter what happens.\n",
        "\n"
      ],
      "metadata": {
        "id": "Yqx10JIAQCof"
      }
    },
    {
      "cell_type": "markdown",
      "source": [
        "\n",
        "\n",
        "```\n",
        "try:\n",
        "    # risky code\n",
        "except ExceptionType:\n",
        "    # handle exception\n",
        "else:\n",
        "    # runs only if try succeeds\n",
        "finally:\n",
        "    # runs no matter what\n",
        "\n",
        "```\n",
        "\n"
      ],
      "metadata": {
        "id": "SSTcd3ufQTWH"
      }
    },
    {
      "cell_type": "code",
      "source": [
        "try:\n",
        "    num = int(input(\"Enter a number: \"))\n",
        "    result = 10 / num\n",
        "except ZeroDivisionError:\n",
        "    print(\"Error: Cannot divide by zero.\")\n",
        "except ValueError:\n",
        "    print(\"Error: Please enter a valid number.\")\n",
        "else:\n",
        "    print(f\"Division successful! Result: {result}\")\n",
        "finally:\n",
        "    print(\"Program execution complete.\")\n"
      ],
      "metadata": {
        "colab": {
          "base_uri": "https://localhost:8080/"
        },
        "id": "K9Sgpf03QXyD",
        "outputId": "1f5c338f-2ce9-4fb0-c2e8-a17327a83d6e"
      },
      "execution_count": 71,
      "outputs": [
        {
          "output_type": "stream",
          "name": "stdout",
          "text": [
            "Enter a number: 5\n",
            "Division successful! Result: 2.0\n",
            "Program execution complete.\n"
          ]
        }
      ]
    },
    {
      "cell_type": "markdown",
      "source": [
        "How it works:\n",
        "\n",
        "* If the user enters 0, ZeroDivisionError is caught.\n",
        "\n",
        "* If the user enters non-numeric data, ValueError is caught.\n",
        "\n",
        "* If there’s no error, the else block runs.\n",
        "\n",
        "* The finally block always runs at the end."
      ],
      "metadata": {
        "id": "6TkpnYJ5Qbba"
      }
    },
    {
      "cell_type": "markdown",
      "source": [
        "\n",
        "\n",
        "---\n",
        "\n"
      ],
      "metadata": {
        "id": "eC3mkFejQfyX"
      }
    },
    {
      "cell_type": "markdown",
      "source": [
        "Raise Exception :\n",
        "\n",
        "The raise statement in Python is used to manually trigger an exception when a certain condition occurs.\n",
        "It allows you to enforce constraints, validate data, or stop program execution with a clear error message.\n",
        "You can raise built-in exceptions like ValueError, TypeError, or create custom exceptions using classes.\n",
        "When raise is executed, normal program flow stops, and the nearest matching except block (if any) handles it.\n",
        "\n"
      ],
      "metadata": {
        "id": "cqozQMBuQ8Gj"
      }
    },
    {
      "cell_type": "markdown",
      "source": [
        "\n",
        "\n",
        "```\n",
        "raise ExceptionType(\"Custom error message\")\n",
        "\n",
        "```\n",
        "\n"
      ],
      "metadata": {
        "id": "Ux2hAj52RCvz"
      }
    },
    {
      "cell_type": "markdown",
      "source": [
        "Example 1 – Raising a Built-in Exception"
      ],
      "metadata": {
        "id": "Nqc7hWJFRHEo"
      }
    },
    {
      "cell_type": "code",
      "source": [
        "age = int(input(\"Enter your age: \"))\n",
        "\n",
        "if age < 0:\n",
        "    raise ValueError(\"Age cannot be negative!\")\n",
        "else:\n",
        "    print(f\"Your age is {age}\")\n"
      ],
      "metadata": {
        "colab": {
          "base_uri": "https://localhost:8080/"
        },
        "id": "a-zyixdfRGi9",
        "outputId": "b6e9d889-93c6-4c3e-ec33-b6ca20b89aad"
      },
      "execution_count": 72,
      "outputs": [
        {
          "output_type": "stream",
          "name": "stdout",
          "text": [
            "Enter your age: 5\n",
            "Your age is 5\n"
          ]
        }
      ]
    },
    {
      "cell_type": "markdown",
      "source": [
        "Explanation:\n",
        "\n",
        "If the user enters a negative number, we manually raise a ValueError."
      ],
      "metadata": {
        "id": "CE4jGw5oRLUM"
      }
    },
    {
      "cell_type": "markdown",
      "source": [
        "Example 2 – Raising a Custom Exception"
      ],
      "metadata": {
        "id": "VrwFv4JoRNxf"
      }
    },
    {
      "cell_type": "code",
      "source": [
        "class TooSmallNumberError(Exception):\n",
        "    pass\n",
        "\n",
        "num = int(input(\"Enter a number: \"))\n",
        "if num < 10:\n",
        "    raise TooSmallNumberError(\"Number is too small!\")\n",
        "else:\n",
        "    print(\"Number is acceptable.\")\n"
      ],
      "metadata": {
        "colab": {
          "base_uri": "https://localhost:8080/",
          "height": 228
        },
        "id": "yYt11LFrRQo9",
        "outputId": "af3089a1-4a55-442c-f0d0-9c658adb0497"
      },
      "execution_count": 73,
      "outputs": [
        {
          "name": "stdout",
          "output_type": "stream",
          "text": [
            "Enter a number: 5\n"
          ]
        },
        {
          "output_type": "error",
          "ename": "TooSmallNumberError",
          "evalue": "Number is too small!",
          "traceback": [
            "\u001b[0;31m---------------------------------------------------------------------------\u001b[0m",
            "\u001b[0;31mTooSmallNumberError\u001b[0m                       Traceback (most recent call last)",
            "\u001b[0;32m/tmp/ipython-input-3787321298.py\u001b[0m in \u001b[0;36m<cell line: 0>\u001b[0;34m()\u001b[0m\n\u001b[1;32m      4\u001b[0m \u001b[0mnum\u001b[0m \u001b[0;34m=\u001b[0m \u001b[0mint\u001b[0m\u001b[0;34m(\u001b[0m\u001b[0minput\u001b[0m\u001b[0;34m(\u001b[0m\u001b[0;34m\"Enter a number: \"\u001b[0m\u001b[0;34m)\u001b[0m\u001b[0;34m)\u001b[0m\u001b[0;34m\u001b[0m\u001b[0;34m\u001b[0m\u001b[0m\n\u001b[1;32m      5\u001b[0m \u001b[0;32mif\u001b[0m \u001b[0mnum\u001b[0m \u001b[0;34m<\u001b[0m \u001b[0;36m10\u001b[0m\u001b[0;34m:\u001b[0m\u001b[0;34m\u001b[0m\u001b[0;34m\u001b[0m\u001b[0m\n\u001b[0;32m----> 6\u001b[0;31m     \u001b[0;32mraise\u001b[0m \u001b[0mTooSmallNumberError\u001b[0m\u001b[0;34m(\u001b[0m\u001b[0;34m\"Number is too small!\"\u001b[0m\u001b[0;34m)\u001b[0m\u001b[0;34m\u001b[0m\u001b[0;34m\u001b[0m\u001b[0m\n\u001b[0m\u001b[1;32m      7\u001b[0m \u001b[0;32melse\u001b[0m\u001b[0;34m:\u001b[0m\u001b[0;34m\u001b[0m\u001b[0;34m\u001b[0m\u001b[0m\n\u001b[1;32m      8\u001b[0m     \u001b[0mprint\u001b[0m\u001b[0;34m(\u001b[0m\u001b[0;34m\"Number is acceptable.\"\u001b[0m\u001b[0;34m)\u001b[0m\u001b[0;34m\u001b[0m\u001b[0;34m\u001b[0m\u001b[0m\n",
            "\u001b[0;31mTooSmallNumberError\u001b[0m: Number is too small!"
          ]
        }
      ]
    },
    {
      "cell_type": "markdown",
      "source": [
        "Explanation:\n",
        "\n",
        "Here we create our own exception class and raise it when the condition is met."
      ],
      "metadata": {
        "id": "zmuba-kxRSpw"
      }
    },
    {
      "cell_type": "markdown",
      "source": [
        "\n",
        "\n",
        "---\n",
        "\n"
      ],
      "metadata": {
        "id": "G7cAfUqMRWEP"
      }
    },
    {
      "cell_type": "code",
      "source": [
        "# Code Example :\n",
        "\n",
        "try:\n",
        "    age = int(input(\"Enter your age: \"))\n",
        "    if age < 0:\n",
        "        raise ValueError(\"Age cannot be negative!\")\n",
        "    print(f\"Your age is {age}\")\n",
        "\n",
        "except ValueError as e:\n",
        "    print(f\"Error occurred: {e}\")\n"
      ],
      "metadata": {
        "colab": {
          "base_uri": "https://localhost:8080/"
        },
        "id": "HD4YzthUfOw5",
        "outputId": "c7cceac5-d3d1-4b8b-bc23-104d381d9b20"
      },
      "execution_count": 74,
      "outputs": [
        {
          "output_type": "stream",
          "name": "stdout",
          "text": [
            "Enter your age: 6\n",
            "Your age is 6\n"
          ]
        }
      ]
    },
    {
      "cell_type": "markdown",
      "source": [
        "\n",
        "\n",
        "---\n",
        "\n"
      ],
      "metadata": {
        "id": "dG_TQ8OffW2F"
      }
    },
    {
      "cell_type": "markdown",
      "source": [
        "Creating Custom Exceptions In Python : -\n",
        "\n",
        "Custom exceptions let you handle domain-specific errors more clearly. Instead of relying only on built-in errors like ValueError or TypeError, you create named exceptions that make the error meaning obvious. This improves debugging, readability, and error handling."
      ],
      "metadata": {
        "id": "K6kvaE0lgbBk"
      }
    },
    {
      "cell_type": "markdown",
      "source": [
        "Example: Creating & Using a Custom Exception\n"
      ],
      "metadata": {
        "id": "RQdhCtUUgq42"
      }
    },
    {
      "cell_type": "code",
      "source": [
        "# Define a custom exception\n",
        "class NegativeAgeError(Exception):\n",
        "    def __init__(self, age):\n",
        "        super().__init__(f\"Invalid age: {age}. Age cannot be negative.\")\n",
        "\n",
        "# Using the custom exception\n",
        "try:\n",
        "    age = int(input(\"Enter your age: \"))\n",
        "    if age < 0:\n",
        "        raise NegativeAgeError(age)  # Raise our custom exception\n",
        "    print(f\"Your age is {age}\")\n",
        "\n",
        "except NegativeAgeError as e:\n",
        "    print(\"Custom Exception Caught:\", e)\n",
        "\n",
        "except ValueError:\n",
        "    print(\"Please enter a valid number.\")\n"
      ],
      "metadata": {
        "colab": {
          "base_uri": "https://localhost:8080/"
        },
        "id": "SiBehtDLgudq",
        "outputId": "df3c2a19-ad83-4eb9-ffd7-a8c347b912c3"
      },
      "execution_count": 75,
      "outputs": [
        {
          "output_type": "stream",
          "name": "stdout",
          "text": [
            "Enter your age: 64\n",
            "Your age is 64\n"
          ]
        }
      ]
    },
    {
      "cell_type": "markdown",
      "source": [
        "✅ Key Points:\n",
        "\n",
        "* Inherit from Exception or its subclasses.\n",
        "\n",
        "* Optionally, override __init__ to customize error messages.\n",
        "\n",
        "* Raise it using raise YourCustomError(...)."
      ],
      "metadata": {
        "id": "8WO_6Ohagwp3"
      }
    },
    {
      "cell_type": "markdown",
      "source": [
        "![image.png](data:image/png;base64,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)"
      ],
      "metadata": {
        "id": "wYGDV_yJhV-D"
      }
    },
    {
      "cell_type": "markdown",
      "source": [
        "\n",
        "\n",
        "---\n",
        "\n"
      ],
      "metadata": {
        "id": "nd-6UI6gg7yY"
      }
    },
    {
      "cell_type": "markdown",
      "source": [
        "# 2) Decorators and NameSpaces In Python :\n",
        "\n"
      ],
      "metadata": {
        "id": "vGCBcLsAi4PY"
      }
    },
    {
      "cell_type": "markdown",
      "source": [
        "NameSpaces :\n",
        "\n",
        "A namespace in Python is a system that assigns unique names to objects (variables, functions, classes, etc.) to avoid naming conflicts. It works like a dictionary, mapping names (keys) to objects (values)."
      ],
      "metadata": {
        "id": "cr4zI1xKjL9w"
      }
    },
    {
      "cell_type": "markdown",
      "source": [
        "Types of Namespaces in Python :\n",
        "\n",
        "* Python uses four types of namespaces, and variables are resolved using the LEGB Rule (Local → Enclosing → Global → Built-in).\n",
        "\n",
        "1.  Local Namespace\n",
        "\n",
        "  * Created inside a function when it is called.\n",
        "\n",
        "  * Contains names of variables defined inside that function.\n",
        "\n",
        "  * Destroyed when the function ends"
      ],
      "metadata": {
        "id": "jKq8kZDRj9Gx"
      }
    },
    {
      "cell_type": "code",
      "source": [
        "def func():\n",
        "    a = 10  # Local namespace\n",
        "    print(a)\n",
        "func()\n"
      ],
      "metadata": {
        "colab": {
          "base_uri": "https://localhost:8080/"
        },
        "id": "6NfdtKIRkQaP",
        "outputId": "375ac2cc-6974-47d7-82ac-4d98018b8482"
      },
      "execution_count": 76,
      "outputs": [
        {
          "output_type": "stream",
          "name": "stdout",
          "text": [
            "10\n"
          ]
        }
      ]
    },
    {
      "cell_type": "markdown",
      "source": [
        "2. Enclosing Namespace\n",
        "\n",
        "  * Exists in nested functions.\n",
        "\n",
        "  * Contains names from the outer (enclosing) function."
      ],
      "metadata": {
        "id": "Bi1HCbCSkRSv"
      }
    },
    {
      "cell_type": "code",
      "source": [
        "def outer():\n",
        "    b = 20  # Enclosing namespace\n",
        "    def inner():\n",
        "        print(b)\n",
        "    inner()\n",
        "outer()\n"
      ],
      "metadata": {
        "colab": {
          "base_uri": "https://localhost:8080/"
        },
        "id": "gchP5v-DkYbJ",
        "outputId": "0e7ab1f9-9e6a-4742-dd1b-4415e20f07b3"
      },
      "execution_count": 77,
      "outputs": [
        {
          "output_type": "stream",
          "name": "stdout",
          "text": [
            "20\n"
          ]
        }
      ]
    },
    {
      "cell_type": "markdown",
      "source": [
        "3. Global Namespace\n",
        "\n",
        "  * Created when the script/module runs.\n",
        "\n",
        "  * Contains names defined at the top level of the file."
      ],
      "metadata": {
        "id": "t1fbb33_kdR6"
      }
    },
    {
      "cell_type": "code",
      "source": [
        "c = 30  # Global namespace\n",
        "def show():\n",
        "    print(c)\n",
        "show()\n"
      ],
      "metadata": {
        "colab": {
          "base_uri": "https://localhost:8080/"
        },
        "id": "0M1NpojPkkTx",
        "outputId": "98c0b14a-1786-4bbb-bfd3-8468bb1d2bd0"
      },
      "execution_count": 78,
      "outputs": [
        {
          "output_type": "stream",
          "name": "stdout",
          "text": [
            "30\n"
          ]
        }
      ]
    },
    {
      "cell_type": "markdown",
      "source": [
        "4. Built-in Namespace\n",
        "\n",
        "  * Contains Python’s built-in functions and constants.\n",
        "\n",
        "  * Available everywhere."
      ],
      "metadata": {
        "id": "QagYRUzekmH9"
      }
    },
    {
      "cell_type": "code",
      "source": [
        "print(len(\"Python\"))  # 'len' is from built-in namespace\n"
      ],
      "metadata": {
        "colab": {
          "base_uri": "https://localhost:8080/"
        },
        "id": "q_8KSj4MktH4",
        "outputId": "4eed6408-3597-4c6a-dfb6-10aa29e6f0fd"
      },
      "execution_count": 79,
      "outputs": [
        {
          "output_type": "stream",
          "name": "stdout",
          "text": [
            "6\n"
          ]
        }
      ]
    },
    {
      "cell_type": "markdown",
      "source": [
        "LEGB Rule In Action :"
      ],
      "metadata": {
        "id": "6G31IdM3kvcH"
      }
    },
    {
      "cell_type": "code",
      "source": [
        "x = \"global\"\n",
        "\n",
        "def outer():\n",
        "    x = \"enclosing\"\n",
        "    def inner():\n",
        "        x = \"local\"\n",
        "        print(x)  # Local takes priority\n",
        "    inner()\n",
        "\n",
        "outer()\n"
      ],
      "metadata": {
        "colab": {
          "base_uri": "https://localhost:8080/"
        },
        "id": "gi13FIIKk-_o",
        "outputId": "6e2a02f2-a757-4189-f5b8-e416d3509f7d"
      },
      "execution_count": 80,
      "outputs": [
        {
          "output_type": "stream",
          "name": "stdout",
          "text": [
            "local\n"
          ]
        }
      ]
    },
    {
      "cell_type": "markdown",
      "source": [
        "---"
      ],
      "metadata": {
        "id": "8trbgRbbk_59"
      }
    },
    {
      "cell_type": "markdown",
      "source": [
        "Scope of a NameSpace :\n",
        "\n",
        "The scope of a namespace refers to the region of the program where the names defined in that namespace can be accessed. Python uses namespaces together with scope rules to decide which variable a name refers to at any point in the program."
      ],
      "metadata": {
        "id": "TsUfZPlfmzMk"
      }
    },
    {
      "cell_type": "markdown",
      "source": [
        "1. Local Scope\n",
        "\n",
        "  * Names defined inside a function belong to the local scope.\n",
        "\n",
        "  * Accessible only within that function.\n",
        "\n",
        "  * Created when the function is called and destroyed when it ends."
      ],
      "metadata": {
        "id": "5oYd4BKpm7av"
      }
    },
    {
      "cell_type": "code",
      "source": [
        "def func():\n",
        "    x = 5  # Local scope\n",
        "    print(x)\n",
        "\n",
        "func()\n",
        "# print(x)  # ❌ Error: x is not defined outside func\n"
      ],
      "metadata": {
        "colab": {
          "base_uri": "https://localhost:8080/"
        },
        "id": "gtZssyv2nBIH",
        "outputId": "48d80a91-e55e-4c33-a574-f9f432a739b4"
      },
      "execution_count": 81,
      "outputs": [
        {
          "output_type": "stream",
          "name": "stdout",
          "text": [
            "5\n"
          ]
        }
      ]
    },
    {
      "cell_type": "markdown",
      "source": [
        "2. Enclosing Scope\n",
        "\n",
        "  * Exists in nested functions.\n",
        "\n",
        "  * Names in the outer function can be accessed by the inner function (unless shadowed)."
      ],
      "metadata": {
        "id": "FUvddDunnDmk"
      }
    },
    {
      "cell_type": "code",
      "source": [
        "def outer():\n",
        "    y = 10  # Enclosing scope\n",
        "    def inner():\n",
        "        print(y)  # Accessible\n",
        "    inner()\n",
        "\n",
        "outer()\n"
      ],
      "metadata": {
        "colab": {
          "base_uri": "https://localhost:8080/"
        },
        "id": "4g39VpA7nHH3",
        "outputId": "91e6f4ed-8296-49fd-ab2c-3a0ea314e0db"
      },
      "execution_count": 82,
      "outputs": [
        {
          "output_type": "stream",
          "name": "stdout",
          "text": [
            "10\n"
          ]
        }
      ]
    },
    {
      "cell_type": "markdown",
      "source": [
        "3. Global Scope\n",
        "\n",
        "  * Names defined at the top level of a module/file or declared using global keyword.\n",
        "\n",
        "  * Accessible anywhere inside the module after definition."
      ],
      "metadata": {
        "id": "rcZCvqCqnLae"
      }
    },
    {
      "cell_type": "code",
      "source": [
        "z = 20  # Global scope\n",
        "\n",
        "def show():\n",
        "    print(z)  # Accessible inside function\n",
        "\n",
        "show()\n",
        "print(z)  # Accessible outside too\n"
      ],
      "metadata": {
        "colab": {
          "base_uri": "https://localhost:8080/"
        },
        "id": "hZG1ssfqnKyT",
        "outputId": "abb9bf5e-57bf-43de-c3a2-74c52d94711e"
      },
      "execution_count": 83,
      "outputs": [
        {
          "output_type": "stream",
          "name": "stdout",
          "text": [
            "20\n",
            "20\n"
          ]
        }
      ]
    },
    {
      "cell_type": "markdown",
      "source": [
        "4. Built-in Scope\n",
        "\n",
        "  * Names provided by Python itself (functions, constants, exceptions, etc.).\n",
        "\n",
        "  * Always available unless overridden."
      ],
      "metadata": {
        "id": "um3e9H3bnUk9"
      }
    },
    {
      "cell_type": "code",
      "source": [
        "print(len(\"Python\"))  # 'len' is from built-in scope\n"
      ],
      "metadata": {
        "colab": {
          "base_uri": "https://localhost:8080/"
        },
        "id": "LqD4epaCnVDf",
        "outputId": "f0dad22e-23ef-4427-cb73-6f4e0e99dad6"
      },
      "execution_count": 84,
      "outputs": [
        {
          "output_type": "stream",
          "name": "stdout",
          "text": [
            "6\n"
          ]
        }
      ]
    },
    {
      "cell_type": "markdown",
      "source": [
        "LEGB Rule Recap\n",
        "\n",
        "When Python encounters a name, it searches in this order:\n",
        "\n",
        "1. Local scope\n",
        "\n",
        "2. Enclosing scope\n",
        "\n",
        "3. Global scope\n",
        "\n",
        "4. Built-in scope"
      ],
      "metadata": {
        "id": "APV1622KncXJ"
      }
    },
    {
      "cell_type": "markdown",
      "source": [
        "\n",
        "\n",
        "---\n",
        "\n"
      ],
      "metadata": {
        "id": "w1GudhVRnll5"
      }
    },
    {
      "cell_type": "code",
      "source": [
        "# Code Example to Print all Built-Ins in Python :\n",
        "import builtins\n",
        "print(dir(builtins))"
      ],
      "metadata": {
        "colab": {
          "base_uri": "https://localhost:8080/"
        },
        "id": "lfHs1pyav_mK",
        "outputId": "8d748f30-a852-4e1f-f094-cfe1f784f02f"
      },
      "execution_count": 85,
      "outputs": [
        {
          "output_type": "stream",
          "name": "stdout",
          "text": [
            "['ArithmeticError', 'AssertionError', 'AttributeError', 'BaseException', 'BaseExceptionGroup', 'BlockingIOError', 'BrokenPipeError', 'BufferError', 'BytesWarning', 'ChildProcessError', 'ConnectionAbortedError', 'ConnectionError', 'ConnectionRefusedError', 'ConnectionResetError', 'DeprecationWarning', 'EOFError', 'Ellipsis', 'EncodingWarning', 'EnvironmentError', 'Exception', 'ExceptionGroup', 'False', 'FileExistsError', 'FileNotFoundError', 'FloatingPointError', 'FutureWarning', 'GeneratorExit', 'IOError', 'ImportError', 'ImportWarning', 'IndentationError', 'IndexError', 'InterruptedError', 'IsADirectoryError', 'KeyError', 'KeyboardInterrupt', 'LookupError', 'MemoryError', 'ModuleNotFoundError', 'NameError', 'None', 'NotADirectoryError', 'NotImplemented', 'NotImplementedError', 'OSError', 'OverflowError', 'PendingDeprecationWarning', 'PermissionError', 'ProcessLookupError', 'RecursionError', 'ReferenceError', 'ResourceWarning', 'RuntimeError', 'RuntimeWarning', 'StopAsyncIteration', 'StopIteration', 'SyntaxError', 'SyntaxWarning', 'SystemError', 'SystemExit', 'TabError', 'TimeoutError', 'True', 'TypeError', 'UnboundLocalError', 'UnicodeDecodeError', 'UnicodeEncodeError', 'UnicodeError', 'UnicodeTranslateError', 'UnicodeWarning', 'UserWarning', 'ValueError', 'Warning', 'ZeroDivisionError', '__IPYTHON__', '__build_class__', '__debug__', '__doc__', '__import__', '__loader__', '__name__', '__package__', '__pybind11_internals_v4_gcc_libstdcpp_cxxabi1014__', '__spec__', 'abs', 'aiter', 'all', 'anext', 'any', 'ascii', 'bin', 'bool', 'breakpoint', 'bytearray', 'bytes', 'callable', 'chr', 'classmethod', 'compile', 'complex', 'copyright', 'credits', 'delattr', 'dict', 'dir', 'display', 'divmod', 'enumerate', 'eval', 'exec', 'execfile', 'filter', 'float', 'format', 'frozenset', 'get_ipython', 'getattr', 'globals', 'hasattr', 'hash', 'help', 'hex', 'id', 'input', 'int', 'isinstance', 'issubclass', 'iter', 'len', 'license', 'list', 'locals', 'map', 'max', 'memoryview', 'min', 'next', 'object', 'oct', 'open', 'ord', 'pow', 'print', 'property', 'range', 'repr', 'reversed', 'round', 'runfile', 'set', 'setattr', 'slice', 'sorted', 'staticmethod', 'str', 'sum', 'super', 'tuple', 'type', 'vars', 'zip']\n"
          ]
        }
      ]
    },
    {
      "cell_type": "markdown",
      "source": [
        "\n",
        "\n",
        "---\n",
        "\n"
      ],
      "metadata": {
        "id": "r2zwk8pIwKAS"
      }
    },
    {
      "cell_type": "markdown",
      "source": [
        "Decorators :\n",
        "\n",
        "A decorator in Python is a function that takes another function as input, adds extra functionality to it, and returns a new function without changing the original function’s code.\n",
        "\n",
        "Think of it like giving your function a “gift wrap” that enhances it. 🎁"
      ],
      "metadata": {
        "id": "5QteqIJExvl_"
      }
    },
    {
      "cell_type": "markdown",
      "source": [
        "1. Why Use Decorators?\n",
        "\n",
        "  * Code reuse: Add common behavior to multiple functions without rewriting code.\n",
        "\n",
        "  * Clean syntax: No need to modify the actual function body.\n",
        "\n",
        "  * Useful for: Logging, authentication, timing, caching, validation, etc."
      ],
      "metadata": {
        "id": "XswHwsUDx9Xn"
      }
    },
    {
      "cell_type": "markdown",
      "source": [
        "2. Basic Decorator Example"
      ],
      "metadata": {
        "id": "6E9ZzMhYyAqO"
      }
    },
    {
      "cell_type": "code",
      "source": [
        "def my_decorator(func):\n",
        "    def wrapper():\n",
        "        print(\"Before the function runs\")\n",
        "        func()\n",
        "        print(\"After the function runs\")\n",
        "    return wrapper\n",
        "\n",
        "@my_decorator  # Same as: say_hello = my_decorator(say_hello)\n",
        "def say_hello():\n",
        "    print(\"Hello, World!\")\n",
        "\n",
        "say_hello()\n"
      ],
      "metadata": {
        "colab": {
          "base_uri": "https://localhost:8080/"
        },
        "id": "IQD_jlohyC2q",
        "outputId": "d60fc238-20de-4af7-bad3-6a6c937138d9"
      },
      "execution_count": 86,
      "outputs": [
        {
          "output_type": "stream",
          "name": "stdout",
          "text": [
            "Before the function runs\n",
            "Hello, World!\n",
            "After the function runs\n"
          ]
        }
      ]
    },
    {
      "cell_type": "markdown",
      "source": [
        "3. Decorator with Arguments"
      ],
      "metadata": {
        "id": "2y4ogGKhyFAi"
      }
    },
    {
      "cell_type": "code",
      "source": [
        "def greet_decorator(func):\n",
        "    def wrapper(name):\n",
        "        print(\"Welcome!\")\n",
        "        func(name)\n",
        "        print(\"Have a nice day!\")\n",
        "    return wrapper\n",
        "\n",
        "@greet_decorator\n",
        "def say_name(name):\n",
        "    print(f\"My name is {name}\")\n",
        "\n",
        "say_name(\"Yash\")\n"
      ],
      "metadata": {
        "colab": {
          "base_uri": "https://localhost:8080/"
        },
        "id": "LH7__KFayIqE",
        "outputId": "6ec65814-75d7-4a55-ef86-8d311ecc34ae"
      },
      "execution_count": 87,
      "outputs": [
        {
          "output_type": "stream",
          "name": "stdout",
          "text": [
            "Welcome!\n",
            "My name is Yash\n",
            "Have a nice day!\n"
          ]
        }
      ]
    },
    {
      "cell_type": "markdown",
      "source": [
        "4. Multiple Decorators"
      ],
      "metadata": {
        "id": "M8bRgqKCyLDD"
      }
    },
    {
      "cell_type": "code",
      "source": [
        "def uppercase(func):\n",
        "    def wrapper():\n",
        "        return func().upper()\n",
        "    return wrapper\n",
        "\n",
        "def exclaim(func):\n",
        "    def wrapper():\n",
        "        return func() + \"!!!\"\n",
        "    return wrapper\n",
        "\n",
        "@exclaim\n",
        "@uppercase\n",
        "def message():\n",
        "    return \"hello\"\n",
        "\n",
        "print(message())  # HELLO!!!\n"
      ],
      "metadata": {
        "colab": {
          "base_uri": "https://localhost:8080/"
        },
        "id": "KzGis3ADyPOx",
        "outputId": "36b7120c-dcfc-4d29-9301-f0dec67ad100"
      },
      "execution_count": 88,
      "outputs": [
        {
          "output_type": "stream",
          "name": "stdout",
          "text": [
            "HELLO!!!\n"
          ]
        }
      ]
    },
    {
      "cell_type": "markdown",
      "source": [
        "5. Decorators with functools.wraps (Best Practice)\n",
        "\n",
        "  * Without functools.wraps, the decorated function loses its original name & docstring."
      ],
      "metadata": {
        "id": "2NSr4nKZySHh"
      }
    },
    {
      "cell_type": "code",
      "source": [
        "from functools import wraps\n",
        "\n",
        "def my_decorator(func):\n",
        "    @wraps(func)\n",
        "    def wrapper(*args, **kwargs):\n",
        "        \"\"\"Wrapper docstring\"\"\"\n",
        "        return func(*args, **kwargs)\n",
        "    return wrapper\n"
      ],
      "metadata": {
        "id": "SQUOzHgvyR1D"
      },
      "execution_count": 89,
      "outputs": []
    },
    {
      "cell_type": "markdown",
      "source": [
        "Summary :\n",
        "\n",
        "| Term       | Meaning                                                               |\n",
        "| ---------- | --------------------------------------------------------------------- |\n",
        "| Decorator  | A function that wraps another function to modify/extend its behavior. |\n",
        "| `@` syntax | Shortcut for passing a function to a decorator.                       |\n",
        "| `wraps()`  | Preserves metadata of the original function.                          |\n",
        "| Use Cases  | Logging, authentication, timing, caching, validation, etc.            |\n"
      ],
      "metadata": {
        "id": "_Vk1ZpAbyaFU"
      }
    },
    {
      "cell_type": "markdown",
      "source": [
        "\n",
        "\n",
        "---\n",
        "\n"
      ],
      "metadata": {
        "id": "KQdF1c96_2aB"
      }
    },
    {
      "cell_type": "markdown",
      "source": [
        "Types of Decorators :\n",
        "\n",
        "In Python, decorators are mainly of three types: Function Decorators, which modify or enhance functions without changing their code; Class Decorators, which modify or manage classes (often used for registering classes or modifying attributes); and Method Decorators, like @classmethod, @staticmethod, and @property, which modify how methods behave. Additionally, built-in decorators (e.g., @staticmethod, @classmethod) are predefined, while custom decorators are user-defined to add reusable logic (e.g., logging, timing). Decorators can also be nested (multiple decorators on the same function) and can accept arguments to customize their behavior, allowing powerful code reusability and cleaner separation of concerns."
      ],
      "metadata": {
        "id": "gn_0wgpS_3lC"
      }
    },
    {
      "cell_type": "markdown",
      "source": [
        "\n",
        "\n",
        "---\n",
        "\n"
      ],
      "metadata": {
        "id": "bmcxJnJhyd6y"
      }
    },
    {
      "cell_type": "markdown",
      "source": [
        "# 3) Recursion In Python :\n",
        "\n"
      ],
      "metadata": {
        "id": "2tv8a4qv-pA-"
      }
    },
    {
      "cell_type": "markdown",
      "source": [
        "Recursion in Python is a programming technique where a function calls itself directly or indirectly to solve a problem by breaking it into smaller, similar subproblems. Every recursive function must have a base case (to stop recursion) and a recursive case (where the function calls itself). Without a base case, recursion leads to infinite calls and a RecursionError. Recursion is commonly used for problems like factorial calculation, Fibonacci series, tree traversal, and divide-and-conquer algorithms. While recursion makes code cleaner and easier to understand for certain tasks, it can be less efficient than iteration due to higher memory usage from multiple function calls."
      ],
      "metadata": {
        "id": "L7ctrK2k-uZ6"
      }
    },
    {
      "cell_type": "markdown",
      "source": [
        "---"
      ],
      "metadata": {
        "id": "oyLHmBePBa-8"
      }
    },
    {
      "cell_type": "code",
      "source": [
        "# Code Example :\n",
        "# Printing Finabocci Sequence :\n",
        "\n",
        "def fibonacci(n):\n",
        "    if n <= 1:  # Base case\n",
        "        return n\n",
        "    return fibonacci(n-1) + fibonacci(n-2)  # Recursive case\n",
        "\n",
        "for i in range(6):\n",
        "    print(fibonacci(i), end=\" \")  # Output: 0 1 1 2 3 5\n"
      ],
      "metadata": {
        "colab": {
          "base_uri": "https://localhost:8080/"
        },
        "id": "MUFwiTPnA0m9",
        "outputId": "17bc7989-7109-4291-adbc-c7421a95135c"
      },
      "execution_count": 90,
      "outputs": [
        {
          "output_type": "stream",
          "name": "stdout",
          "text": [
            "0 1 1 2 3 5 "
          ]
        }
      ]
    },
    {
      "cell_type": "markdown",
      "source": [
        "---"
      ],
      "metadata": {
        "id": "pT6IW4RjBbnF"
      }
    },
    {
      "cell_type": "code",
      "source": [
        "# Code Example :\n",
        "\n",
        "# Factorial using recursion\n",
        "def factorial(n):\n",
        "    if n == 0 or n == 1:  # Base case\n",
        "        return 1\n",
        "    else:\n",
        "        return n * factorial(n - 1)  # Recursive case\n",
        "\n",
        "print(factorial(5))  # Output: 120\n"
      ],
      "metadata": {
        "colab": {
          "base_uri": "https://localhost:8080/"
        },
        "id": "ddjSKRXrAttT",
        "outputId": "bf4a91f7-f4ea-4867-d409-747e0b3bf35a"
      },
      "execution_count": 91,
      "outputs": [
        {
          "output_type": "stream",
          "name": "stdout",
          "text": [
            "120\n"
          ]
        }
      ]
    },
    {
      "cell_type": "markdown",
      "source": [
        "---"
      ],
      "metadata": {
        "id": "if6qNc40BcUq"
      }
    },
    {
      "cell_type": "code",
      "source": [
        "# Code Example :\n",
        "# Sum of first 'N' Natural Numbers :\n",
        "\n",
        "def sum_n(n):\n",
        "    if n == 0:  # Base case\n",
        "        return 0\n",
        "    return n + sum_n(n - 1)  # Recursive case\n",
        "\n",
        "print(sum_n(10))  # Output: 55\n"
      ],
      "metadata": {
        "colab": {
          "base_uri": "https://localhost:8080/"
        },
        "id": "NIzWkmYMA-9B",
        "outputId": "9819e07b-84f8-4f2d-a38c-d7e31c3f30a3"
      },
      "execution_count": 92,
      "outputs": [
        {
          "output_type": "stream",
          "name": "stdout",
          "text": [
            "55\n"
          ]
        }
      ]
    },
    {
      "cell_type": "markdown",
      "source": [
        "---"
      ],
      "metadata": {
        "id": "c90ZtaT1BdFd"
      }
    },
    {
      "cell_type": "code",
      "source": [
        "# Code Example :\n",
        "# Reverse a String :\n",
        "\n",
        "def reverse_string(s):\n",
        "    if len(s) == 0:  # Base case\n",
        "        return s\n",
        "    return reverse_string(s[1:]) + s[0]  # Recursive case\n",
        "\n",
        "print(reverse_string(\"hello\"))  # Output: \"olleh\"\n"
      ],
      "metadata": {
        "colab": {
          "base_uri": "https://localhost:8080/"
        },
        "id": "kpVyz3GnBFxF",
        "outputId": "b15b8c81-9f08-4f3f-e7a2-0c5463061388"
      },
      "execution_count": 93,
      "outputs": [
        {
          "output_type": "stream",
          "name": "stdout",
          "text": [
            "olleh\n"
          ]
        }
      ]
    },
    {
      "cell_type": "markdown",
      "source": [
        "---"
      ],
      "metadata": {
        "id": "M_HaKj3RBdwp"
      }
    },
    {
      "cell_type": "code",
      "source": [
        "# Code Example :\n",
        "# Tower of Hanoi :\n",
        "\n",
        "def tower_of_hanoi(n, source, helper, target):\n",
        "    if n == 1:  # Base case\n",
        "        print(f\"Move disk 1 from {source} to {target}\")\n",
        "        return\n",
        "    tower_of_hanoi(n-1, source, target, helper)  # Move n-1 disks\n",
        "    print(f\"Move disk {n} from {source} to {target}\")  # Move largest disk\n",
        "    tower_of_hanoi(n-1, helper, source, target)  # Move n-1 disks\n",
        "\n",
        "tower_of_hanoi(3, 'A', 'B', 'C')\n"
      ],
      "metadata": {
        "colab": {
          "base_uri": "https://localhost:8080/"
        },
        "id": "9jxCYujoBKgB",
        "outputId": "00b224b4-18cd-419e-d82b-b6a350075d66"
      },
      "execution_count": 94,
      "outputs": [
        {
          "output_type": "stream",
          "name": "stdout",
          "text": [
            "Move disk 1 from A to C\n",
            "Move disk 2 from A to B\n",
            "Move disk 1 from C to B\n",
            "Move disk 3 from A to C\n",
            "Move disk 1 from B to A\n",
            "Move disk 2 from B to C\n",
            "Move disk 1 from A to C\n"
          ]
        }
      ]
    },
    {
      "cell_type": "markdown",
      "source": [
        "---"
      ],
      "metadata": {
        "id": "rgC-BHmbBeb2"
      }
    },
    {
      "cell_type": "code",
      "source": [
        "# Code Example :\n",
        "# Nested List Flattening :\n",
        "\n",
        "def flatten_list(lst):\n",
        "    result = []\n",
        "    for i in lst:\n",
        "        if isinstance(i, list):\n",
        "            result.extend(flatten_list(i))  # Recursive case\n",
        "        else:\n",
        "            result.append(i)\n",
        "    return result\n",
        "\n",
        "print(flatten_list([1, [2, [3, 4], 5], 6]))\n",
        "# Output: [1, 2, 3, 4, 5, 6]\n"
      ],
      "metadata": {
        "colab": {
          "base_uri": "https://localhost:8080/"
        },
        "id": "AxYwCiWeBPpP",
        "outputId": "37544cfe-a856-4c63-cb41-922168d6d94e"
      },
      "execution_count": 95,
      "outputs": [
        {
          "output_type": "stream",
          "name": "stdout",
          "text": [
            "[1, 2, 3, 4, 5, 6]\n"
          ]
        }
      ]
    },
    {
      "cell_type": "markdown",
      "source": [
        "\n",
        "\n",
        "---\n",
        "\n"
      ],
      "metadata": {
        "id": "LyKuqjNtA0EP"
      }
    },
    {
      "cell_type": "markdown",
      "source": [
        "The Rabbit Problem :"
      ],
      "metadata": {
        "id": "5rHYzcPICh_1"
      }
    },
    {
      "cell_type": "markdown",
      "source": [
        "The Problem Statement (Historical Version)\n",
        "\n",
        "Proposed by Leonardo of Pisa (Fibonacci) in 1202:\n",
        "\n",
        "* A newly born pair of rabbits (one male, one female) is put in a field. Rabbits reach maturity after one month, and each mature pair produces another pair every month. The rabbits never die.\n",
        "How many pairs of rabbits will there be after n months?"
      ],
      "metadata": {
        "id": "sqnc4yz-Clfu"
      }
    },
    {
      "cell_type": "markdown",
      "source": [
        "How It Works\n",
        "\n",
        "1. Month 0 → 1 pair (baby rabbits)\n",
        "\n",
        "2. Month 1 → Still 1 pair (they grow up)\n",
        "\n",
        "3. Month 2 → 1 mature pair produces 1 baby pair → 2 pairs total\n",
        "\n",
        "4. Month 3 → 2 mature pairs produce → 3 pairs total\n",
        "\n",
        "5. And so on…\n",
        "\n"
      ],
      "metadata": {
        "id": "jrkHeAUkCot1"
      }
    },
    {
      "cell_type": "markdown",
      "source": [
        "Mathematical Recurrence\n",
        "\n",
        "If\n",
        "𝐹\n",
        "(\n",
        "𝑛\n",
        ")\n",
        "F(n) is the number of rabbit pairs after\n",
        "𝑛\n",
        "n months:\n",
        "\n",
        "𝐹\n",
        "(\n",
        "𝑛\n",
        ")\n",
        "=\n",
        "𝐹\n",
        "(\n",
        "𝑛\n",
        "−\n",
        "1\n",
        ")\n",
        "+\n",
        "𝐹\n",
        "(\n",
        "𝑛\n",
        "−\n",
        "2\n",
        ")\n",
        "\n",
        "* 𝐹\n",
        "(\n",
        "0\n",
        ")\n",
        "=\n",
        "0\n",
        "F(0)=0 (no rabbits yet)\n",
        "\n",
        "* 𝐹\n",
        "(\n",
        "1\n",
        ")\n",
        "=\n",
        "1\n",
        "F(1)=1 (one starting pair)"
      ],
      "metadata": {
        "id": "qHZdNTJiCxO6"
      }
    },
    {
      "cell_type": "code",
      "source": [
        "# Code Example :\n",
        "# Recursive solution to the problem :\n",
        "\n",
        "def rabbit_pairs(months):\n",
        "    if months <= 1:  # Base case\n",
        "        return months\n",
        "    return rabbit_pairs(months - 1) + rabbit_pairs(months - 2)  # Recursive case\n",
        "\n",
        "# Example: rabbits after 6 months\n",
        "for i in range(7):\n",
        "    print(f\"Month {i}: {rabbit_pairs(i)} pairs\")\n"
      ],
      "metadata": {
        "colab": {
          "base_uri": "https://localhost:8080/"
        },
        "id": "vt6HJqVVDRxQ",
        "outputId": "6847a778-259e-4639-b60b-a8d54bb55835"
      },
      "execution_count": 96,
      "outputs": [
        {
          "output_type": "stream",
          "name": "stdout",
          "text": [
            "Month 0: 0 pairs\n",
            "Month 1: 1 pairs\n",
            "Month 2: 1 pairs\n",
            "Month 3: 2 pairs\n",
            "Month 4: 3 pairs\n",
            "Month 5: 5 pairs\n",
            "Month 6: 8 pairs\n"
          ]
        }
      ]
    },
    {
      "cell_type": "markdown",
      "source": [
        "---"
      ],
      "metadata": {
        "id": "UdRXdFnoDdK9"
      }
    },
    {
      "cell_type": "markdown",
      "source": [
        "# 4) Iterators In Python :"
      ],
      "metadata": {
        "id": "RdLct7HwDowE"
      }
    },
    {
      "cell_type": "markdown",
      "source": [
        "In Python, an iterator is an object that represents a stream of data, returning elements one at a time when you call the built-in next() function.\n",
        "\n",
        "Key Points :\n",
        "\n",
        "1.  Iterable → An object capable of returning an iterator (e.g., list, tuple, string).\n",
        "\n",
        "  * Has the __iter__() method.\n",
        "\n",
        "2. Iterator → The object that actually performs iteration.\n",
        "\n",
        "  * Has both __iter__() and __next__() methods.\n",
        "\n",
        "3. Iteration stops when a StopIteration exception is raised."
      ],
      "metadata": {
        "id": "t7PY8BuQDs0b"
      }
    },
    {
      "cell_type": "code",
      "source": [
        "# Code Example :\n",
        "\n",
        "# Creating an iterator from a list\n",
        "nums = [1, 2, 3]\n",
        "it = iter(nums)  # calls nums.__iter__()\n",
        "\n",
        "print(next(it))  # 1\n",
        "print(next(it))  # 2\n",
        "print(next(it))  # 3\n",
        "# print(next(it))  # Raises StopIteration\n"
      ],
      "metadata": {
        "colab": {
          "base_uri": "https://localhost:8080/"
        },
        "id": "1t8HFHaxEJFF",
        "outputId": "e93d0da4-5323-49cf-e090-f51f6946265e"
      },
      "execution_count": 97,
      "outputs": [
        {
          "output_type": "stream",
          "name": "stdout",
          "text": [
            "1\n",
            "2\n",
            "3\n"
          ]
        }
      ]
    },
    {
      "cell_type": "markdown",
      "source": [
        "Custom Iterator Class :"
      ],
      "metadata": {
        "id": "pAFPTO1FEK9Z"
      }
    },
    {
      "cell_type": "code",
      "source": [
        "class CountUpTo:\n",
        "    def __init__(self, limit):\n",
        "        self.limit = limit\n",
        "        self.count = 0\n",
        "\n",
        "    def __iter__(self):\n",
        "        return self  # The iterator returns itself\n",
        "\n",
        "    def __next__(self):\n",
        "        if self.count < self.limit:\n",
        "            self.count += 1\n",
        "            return self.count\n",
        "        else:\n",
        "            raise StopIteration\n",
        "\n",
        "# Using the iterator\n",
        "for num in CountUpTo(5):\n",
        "    print(num)\n"
      ],
      "metadata": {
        "colab": {
          "base_uri": "https://localhost:8080/"
        },
        "id": "rwJjX1HBEPoS",
        "outputId": "21ac66bd-0ca7-49d1-ec88-b22036cf44cb"
      },
      "execution_count": 98,
      "outputs": [
        {
          "output_type": "stream",
          "name": "stdout",
          "text": [
            "1\n",
            "2\n",
            "3\n",
            "4\n",
            "5\n"
          ]
        }
      ]
    },
    {
      "cell_type": "markdown",
      "source": [
        "Why Iterators Are Useful :\n",
        "\n",
        "* Save memory (don’t store all values at once).\n",
        "\n",
        "* Can represent infinite sequences.\n",
        "\n",
        "* Used heavily in loops, generators, and file reading."
      ],
      "metadata": {
        "id": "LVcB8POOEQY7"
      }
    },
    {
      "cell_type": "markdown",
      "source": [
        "\n",
        "\n",
        "---\n",
        "\n"
      ],
      "metadata": {
        "id": "trcRXasTEXOZ"
      }
    },
    {
      "cell_type": "markdown",
      "source": [
        "# 5) Generators In Python :"
      ],
      "metadata": {
        "id": "6hVT6SxnEiwC"
      }
    },
    {
      "cell_type": "markdown",
      "source": [
        "A generator in Python is a special type of iterator that allows you to produce a sequence of values lazily (one at a time, on demand) using the yield keyword instead of returning all results at once. This makes generators memory-efficient and ideal for working with large datasets or infinite sequences."
      ],
      "metadata": {
        "id": "LwpOeKVWEopo"
      }
    },
    {
      "cell_type": "markdown",
      "source": [
        "Key Points :\n",
        "\n",
        "1. Created using:\n",
        "\n",
        "  * A generator function (with yield)\n",
        "\n",
        "  * A generator expression (similar to list comprehension but with () instead of [])\n",
        "\n",
        "2. Lazy evaluation — values are computed only when needed.\n",
        "\n",
        "3. No need to implement __iter__() and __next__() manually (Python does it for you).\n",
        "\n",
        "4. Cannot be reused — once exhausted, you must create a new generator.\n",
        "\n",
        "5. Raises StopIteration when no values remain."
      ],
      "metadata": {
        "id": "eQ-hYE1ZFCe8"
      }
    },
    {
      "cell_type": "code",
      "source": [
        "# Example - 1 :\n",
        "# Generator Function :\n",
        "\n",
        "def countdown(n):\n",
        "    while n > 0:\n",
        "        yield n\n",
        "        n -= 1\n",
        "\n",
        "for num in countdown(5):\n",
        "    print(num)\n"
      ],
      "metadata": {
        "colab": {
          "base_uri": "https://localhost:8080/"
        },
        "id": "gfKJ6tw2FRqu",
        "outputId": "02ca2975-54ba-4ff4-e0d5-fe1a779cac89"
      },
      "execution_count": 99,
      "outputs": [
        {
          "output_type": "stream",
          "name": "stdout",
          "text": [
            "5\n",
            "4\n",
            "3\n",
            "2\n",
            "1\n"
          ]
        }
      ]
    },
    {
      "cell_type": "code",
      "source": [
        "# Example - 2 :\n",
        "# Generator Expression :\n",
        "\n",
        "squares = (x**2 for x in range(5))\n",
        "for sq in squares:\n",
        "    print(sq)\n"
      ],
      "metadata": {
        "colab": {
          "base_uri": "https://localhost:8080/"
        },
        "id": "KxvpN6oqFXkB",
        "outputId": "433590af-f763-41a5-c775-d3ed4f7e3f95"
      },
      "execution_count": 100,
      "outputs": [
        {
          "output_type": "stream",
          "name": "stdout",
          "text": [
            "0\n",
            "1\n",
            "4\n",
            "9\n",
            "16\n"
          ]
        }
      ]
    },
    {
      "cell_type": "markdown",
      "source": [
        "* Advantages of Generators\n",
        "\n",
        "  * ✅ Memory Efficient — Stores only one value at a time.\n",
        "\n",
        "  * ✅ Fast Execution — No need to store all items in memory before starting.\n",
        "\n",
        "  * ✅ Easy to Write — Simpler syntax with yield."
      ],
      "metadata": {
        "id": "6laB7Lv7FOrm"
      }
    },
    {
      "cell_type": "markdown",
      "source": [
        "---"
      ],
      "metadata": {
        "id": "YAvSWG5yFl92"
      }
    },
    {
      "cell_type": "markdown",
      "source": [
        "# Overall Summary :"
      ],
      "metadata": {
        "id": "hhEG0L98Esxc"
      }
    },
    {
      "cell_type": "markdown",
      "source": [
        "---"
      ],
      "metadata": {
        "id": "pew8rleNE0Ug"
      }
    },
    {
      "cell_type": "markdown",
      "source": [
        "| Feature / Type         | **Iterable**                                                    | **Iterator**                                                 | **Generator**                                            |\n",
        "| ---------------------- | --------------------------------------------------------------- | ------------------------------------------------------------ | -------------------------------------------------------- |\n",
        "| **Definition**         | An object that can return an iterator.                          | An object that can be iterated over and remembers its state. | A special kind of iterator created using `yield`.        |\n",
        "| **Method(s) Required** | `__iter__()`                                                    | `__iter__()` and `__next__()`                                | `__iter__()` and `__next__()` are created automatically. |\n",
        "| **How to Create**      | Using data structures like list, tuple, set, dict, string, etc. | Implement `__iter__()` and `__next__()` in a class.          | Use a function with `yield` keyword.                     |\n",
        "| **Stores All Data?**   | Usually, yes (e.g., list stores all elements in memory).        | Not necessarily — generates items on demand.                 | No — generates items on demand (lazy evaluation).        |\n",
        "| **Memory Efficiency**  | Less efficient for large data.                                  | More efficient.                                              | Most memory-efficient.                                   |\n",
        "| **Example**            | `[1, 2, 3]`                                                     | `iter([1, 2, 3])`                                            | `python\\ndef gen():\\n    yield 1\\nyield 2`               |\n",
        "| **Stop Condition**     | Converted to iterator, which raises `StopIteration` when done.  | Raises `StopIteration` when sequence ends.                   | Raises `StopIteration` when generator ends.              |\n",
        "| **Can be Reused?**     | Yes (by creating new iterator).                                 | No — exhausted after use.                                    | No — exhausted after use.                                |\n"
      ],
      "metadata": {
        "id": "lzK-ZJDTEwfZ"
      }
    },
    {
      "cell_type": "markdown",
      "source": [
        "\n",
        "\n",
        "---\n",
        "\n"
      ],
      "metadata": {
        "id": "vshDKcKjEy2v"
      }
    },
    {
      "cell_type": "markdown",
      "source": [
        "✅ Key takeaway:\n",
        "\n",
        "1. Iterable → Container (e.g., list).\n",
        "\n",
        "2. Iterator → Tool that extracts items one at a time.\n",
        "\n",
        "3. Generator → Iterator with yield, often more concise and memory-efficient."
      ],
      "metadata": {
        "id": "X2cxgwBjE4pv"
      }
    },
    {
      "cell_type": "markdown",
      "source": [
        "\n",
        "\n",
        "---\n",
        "\n"
      ],
      "metadata": {
        "id": "ckygpho4E7ng"
      }
    }
  ]
}