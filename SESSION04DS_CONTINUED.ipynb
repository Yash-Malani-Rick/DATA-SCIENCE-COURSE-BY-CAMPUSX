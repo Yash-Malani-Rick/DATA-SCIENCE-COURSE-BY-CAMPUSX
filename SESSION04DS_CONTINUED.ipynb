{
  "nbformat": 4,
  "nbformat_minor": 0,
  "metadata": {
    "colab": {
      "provenance": [],
      "collapsed_sections": [
        "g9C__83MJWy9",
        "O96gtxq3lqS0",
        "cE-5KpWRmdD2",
        "AXsAoOQ0ny5L"
      ],
      "authorship_tag": "ABX9TyPEvOism7tBy+6UT9zkLLWN",
      "include_colab_link": true
    },
    "kernelspec": {
      "name": "python3",
      "display_name": "Python 3"
    },
    "language_info": {
      "name": "python"
    }
  },
  "cells": [
    {
      "cell_type": "markdown",
      "metadata": {
        "id": "view-in-github",
        "colab_type": "text"
      },
      "source": [
        "<a href=\"https://colab.research.google.com/github/Yash-Malani-Rick/DATA-SCIENCE-COURSE-BY-CAMPUSX/blob/master/SESSION04DS_CONTINUED.ipynb\" target=\"_parent\"><img src=\"https://colab.research.google.com/assets/colab-badge.svg\" alt=\"Open In Colab\"/></a>"
      ]
    },
    {
      "cell_type": "markdown",
      "source": [
        "# 1) Lists in Python : -"
      ],
      "metadata": {
        "id": "g9C__83MJWy9"
      }
    },
    {
      "cell_type": "markdown",
      "source": [
        "a) What Are Lists In Python : -\n",
        "\n",
        "1) A list in Python is an ordered, mutable (changeable) collection of elements.\n",
        "\n",
        "2) Lists can store multiple data types such as integers, floats, strings, or even other lists.\n",
        "\n",
        "3) Lists are one of the most used data structures in Python because of their flexibility."
      ],
      "metadata": {
        "id": "Pu_ZTx0VJg-8"
      }
    },
    {
      "cell_type": "code",
      "source": [
        "# Examples for Lists :\n",
        "\n",
        "# Creating a list\n",
        "my_list = [10, 20, 30, \"Python\", 3.14, True]\n",
        "print(my_list)\n",
        "# Output: [10, 20, 30, 'Python', 3.14, True]\n"
      ],
      "metadata": {
        "colab": {
          "base_uri": "https://localhost:8080/"
        },
        "id": "SNdUVmXpLEjn",
        "outputId": "78a346fb-c997-49b7-840e-6ab25dedb3b2"
      },
      "execution_count": null,
      "outputs": [
        {
          "output_type": "stream",
          "name": "stdout",
          "text": [
            "[10, 20, 30, 'Python', 3.14, True]\n"
          ]
        }
      ]
    },
    {
      "cell_type": "markdown",
      "source": [
        "\n",
        "\n",
        "---\n",
        "\n"
      ],
      "metadata": {
        "id": "9IaSBbXrNwYV"
      }
    },
    {
      "cell_type": "markdown",
      "source": [
        "b) List vs Arrays : -\n",
        "\n",
        "Both lists and arrays store multiple elements, but they differ in functionality."
      ],
      "metadata": {
        "id": "-AQVCySJLISq"
      }
    },
    {
      "cell_type": "markdown",
      "source": [
        "| Feature          | Lists                          | Arrays (from array module / NumPy)  |\n",
        "| ---------------- | ------------------------------ | ----------------------------------- |\n",
        "| Data Type        | Can store **mixed data types** | Usually stores **same data type**   |\n",
        "| Flexibility      | Highly flexible                | Optimized for numerical operations  |\n",
        "| Built-in Support | Part of core Python            | Need to import `array` or `numpy`   |\n",
        "| Memory Usage     | More memory (dynamic sizing)   | Less memory (fixed type, optimized) |\n"
      ],
      "metadata": {
        "id": "_7ar7m9iLS5X"
      }
    },
    {
      "cell_type": "code",
      "source": [
        "# Examples :\n",
        "\n",
        "# Using List\n",
        "list_data = [1, \"two\", 3.5]\n",
        "print(list_data)\n",
        "\n",
        "# Using Array\n",
        "import array\n",
        "array_data = array.array('i', [1, 2, 3])  # 'i' means integer type\n",
        "print(array_data)\n"
      ],
      "metadata": {
        "colab": {
          "base_uri": "https://localhost:8080/"
        },
        "id": "93q_uz9MLXcm",
        "outputId": "54610116-5bf3-497b-be50-2eb08b735071"
      },
      "execution_count": null,
      "outputs": [
        {
          "output_type": "stream",
          "name": "stdout",
          "text": [
            "[1, 'two', 3.5]\n",
            "array('i', [1, 2, 3])\n"
          ]
        }
      ]
    },
    {
      "cell_type": "markdown",
      "source": [
        "\n",
        "\n",
        "---\n",
        "\n"
      ],
      "metadata": {
        "id": "vXlYINncNymc"
      }
    },
    {
      "cell_type": "markdown",
      "source": [
        "C) Characteristics of a List : -\n",
        "\n",
        "1) Ordered: Elements are stored in the same order as inserted.\n",
        "\n",
        "2) Mutable: Elements can be modified after creation.\n",
        "\n",
        "3) Heterogeneous: Can store multiple data types.\n",
        "\n",
        "4) Index-based Access: Elements can be accessed using indices (0-based).\n",
        "\n",
        "5) Dynamic Size: Size can increase or decrease dynamically."
      ],
      "metadata": {
        "id": "4WQ4MijtLfPB"
      }
    },
    {
      "cell_type": "code",
      "source": [
        "# Example :\n",
        "\n",
        "my_list = [10, \"Python\", 3.14]\n",
        "print(my_list[0])    # Ordered and index-based\n",
        "my_list[1] = \"Java\"  # Mutable\n",
        "print(my_list)\n",
        "# Output: [10, 'Java', 3.14]\n"
      ],
      "metadata": {
        "colab": {
          "base_uri": "https://localhost:8080/"
        },
        "id": "CSqbhuKSLqtU",
        "outputId": "2b9aa87f-389b-470c-c362-3cbad03e2a68"
      },
      "execution_count": null,
      "outputs": [
        {
          "output_type": "stream",
          "name": "stdout",
          "text": [
            "10\n",
            "[10, 'Java', 3.14]\n"
          ]
        }
      ]
    },
    {
      "cell_type": "markdown",
      "source": [
        "\n",
        "\n",
        "---\n",
        "\n"
      ],
      "metadata": {
        "id": "svmkg8VCNzmo"
      }
    },
    {
      "cell_type": "markdown",
      "source": [
        "d) How To Create A List : -\n",
        "\n",
        "Lists can be created using:\n",
        "\n",
        "1) Square brackets []\n",
        "\n",
        "2) list() constructor\n",
        "\n",
        "3) List comprehension\n"
      ],
      "metadata": {
        "id": "ASG-LgtVL51G"
      }
    },
    {
      "cell_type": "code",
      "source": [
        "# Example :\n",
        "\n",
        "# Method 1: Using []\n",
        "list1 = [1, 2, 3]\n",
        "\n",
        "# Method 2: Using list() constructor\n",
        "list2 = list((4, 5, 6))\n",
        "\n",
        "# Method 3: Using list comprehension\n",
        "list3 = [x*x for x in range(5)]\n",
        "\n",
        "print(list1, list2, list3)\n",
        "# Output: [1, 2, 3] [4, 5, 6] [0, 1, 4, 9, 16]\n"
      ],
      "metadata": {
        "colab": {
          "base_uri": "https://localhost:8080/"
        },
        "id": "LPJgiGXZMTKP",
        "outputId": "05a2af76-845d-41d5-f5d6-eb7f89fbde4a"
      },
      "execution_count": null,
      "outputs": [
        {
          "output_type": "stream",
          "name": "stdout",
          "text": [
            "[1, 2, 3] [4, 5, 6] [0, 1, 4, 9, 16]\n"
          ]
        }
      ]
    },
    {
      "cell_type": "markdown",
      "source": [
        "\n",
        "\n",
        "---\n",
        "\n"
      ],
      "metadata": {
        "id": "I0Tm7ENSN01O"
      }
    },
    {
      "cell_type": "markdown",
      "source": [
        "e) Accessing Items from a List : -\n",
        "\n",
        "1) Lists use indexing and slicing.\n",
        "\n",
        "2) Index starts at 0.\n",
        "\n",
        "3) Negative indices access elements from the end."
      ],
      "metadata": {
        "id": "8t1r_-A7MX8-"
      }
    },
    {
      "cell_type": "code",
      "source": [
        "# Example :\n",
        "\n",
        "my_list = ['a', 'b', 'c', 'd', 'e']\n",
        "\n",
        "print(my_list[0])    # First element → a\n",
        "print(my_list[-1])   # Last element → e\n",
        "print(my_list[1:4])  # Slicing (index 1 to 3) → ['b', 'c', 'd']\n"
      ],
      "metadata": {
        "colab": {
          "base_uri": "https://localhost:8080/"
        },
        "id": "hYWUW9-eMkmS",
        "outputId": "a38f7f30-8854-47da-9d56-1c249865030f"
      },
      "execution_count": null,
      "outputs": [
        {
          "output_type": "stream",
          "name": "stdout",
          "text": [
            "a\n",
            "e\n",
            "['b', 'c', 'd']\n"
          ]
        }
      ]
    },
    {
      "cell_type": "markdown",
      "source": [
        "\n",
        "\n",
        "---\n",
        "\n"
      ],
      "metadata": {
        "id": "G29koX9_N2DY"
      }
    },
    {
      "cell_type": "markdown",
      "source": [
        "f) Editing Items in a List : -\n",
        "\n",
        "1) Since lists are mutable, elements can be modified using their index.\n",
        "\n",
        "2) We can also use append, insert, extend, slice assignment to modify lists.\n",
        "\n",
        "\n",
        "\n",
        "---\n",
        "\n",
        "\n",
        "\n",
        "Adding Items In A List :\n",
        "\n",
        "\n",
        "| **Function/Method**       | **Description**                                                                             | **Theory**                                                                                             |\n",
        "| ------------------------- | ------------------------------------------------------------------------------------------- | ------------------------------------------------------------------------------------------------------ |\n",
        "| **`append(item)`**        | Adds a **single item** at the **end** of the list.                                          | Modifies the existing list by inserting the element at the end. Accepts only one argument at a time.   |\n",
        "| **`insert(index, item)`** | Inserts an item at a **specified index**.                                                   | Shifts elements to the right and places the new element at the given position.                         |\n",
        "| **`extend(iterable)`**    | Adds **multiple elements** from another iterable (list, tuple, set) at the end of the list. | Expands the existing list by adding each element of the iterable individually.                         |\n",
        "| **`+` (Concatenation)**   | Combines **two lists** into a new one.                                                      | Creates a new list containing elements of both lists. Does not change original list unless reassigned. |\n",
        "| **`*=` (Repetition)**     | **Repeats elements** of the list and adds them again.                                       | Multiplies the list elements by a given number and updates the same list.                              |\n",
        "| **List Comprehension**    | Dynamically **generates and adds multiple items** in a list.                                | Creates a new list using a single line of code, often used to add calculated elements.                 |\n"
      ],
      "metadata": {
        "id": "SywEybEZMssf"
      }
    },
    {
      "cell_type": "markdown",
      "source": [
        "\n",
        "\n",
        "---\n",
        "\n"
      ],
      "metadata": {
        "id": "DKMz_MvfiyGN"
      }
    },
    {
      "cell_type": "code",
      "source": [
        "# Example :\n",
        "\n",
        "my_list = [10, 20, 30, 40]\n",
        "my_list[2] = 99             # Change value\n",
        "my_list.append(50)          # Add at end\n",
        "my_list.insert(1, 15)       # Insert at position\n",
        "my_list[0:2] = [5, 6]       # Replace multiple values\n",
        "print(my_list)\n",
        "# Output: [5, 6, 15, 20, 99, 40, 50]\n"
      ],
      "metadata": {
        "colab": {
          "base_uri": "https://localhost:8080/"
        },
        "id": "SgOakdP1M3L0",
        "outputId": "b70424f9-132e-4a22-bee2-353c9d31d19c"
      },
      "execution_count": null,
      "outputs": [
        {
          "output_type": "stream",
          "name": "stdout",
          "text": [
            "[5, 6, 20, 99, 40, 50]\n"
          ]
        }
      ]
    },
    {
      "cell_type": "markdown",
      "source": [
        "\n",
        "\n",
        "---\n",
        "\n"
      ],
      "metadata": {
        "id": "sJKtPJFRN3PG"
      }
    },
    {
      "cell_type": "markdown",
      "source": [
        "g) Deleting Items from a List : -\n",
        "\n",
        "We can delete items using:\n",
        "\n",
        "1) del statement\n",
        "\n",
        "2) remove() → Removes specific value\n",
        "\n",
        "3) pop() → Removes item by index\n",
        "\n",
        "4) clear() → Removes all elements but list remains"
      ],
      "metadata": {
        "id": "4aXJLS7xM6s6"
      }
    },
    {
      "cell_type": "code",
      "source": [
        "# Example :\n",
        "\n",
        "my_list = [10, 20, 30, 40, 50]\n",
        "\n",
        "del my_list[1]          # Delete index 1\n",
        "my_list.remove(40)      # Delete element 40\n",
        "my_list.pop(0)          # Pop index 0\n",
        "my_list.clear()         # Remove all\n",
        "print(my_list)\n",
        "# Output: []\n"
      ],
      "metadata": {
        "colab": {
          "base_uri": "https://localhost:8080/"
        },
        "id": "Fr-cI09kNG5R",
        "outputId": "b72ad116-17ae-4662-e56d-75fe4ce71b87"
      },
      "execution_count": null,
      "outputs": [
        {
          "output_type": "stream",
          "name": "stdout",
          "text": [
            "[]\n"
          ]
        }
      ]
    },
    {
      "cell_type": "markdown",
      "source": [
        "\n",
        "\n",
        "---\n",
        "\n"
      ],
      "metadata": {
        "id": "1cqc8pDcN4gN"
      }
    },
    {
      "cell_type": "markdown",
      "source": [
        "h) Operations on Lists : -\n",
        "\n",
        "1) Concatenation (+) → Combines two lists\n",
        "\n",
        "2) Repetition (*) → Repeats elements\n",
        "\n",
        "3) Membership (in, not in) → Checks if item exists\n",
        "\n",
        "4) Iteration (for loop) → Traverse elements"
      ],
      "metadata": {
        "id": "9cCpQticNNNk"
      }
    },
    {
      "cell_type": "code",
      "source": [
        "# Example :\n",
        "\n",
        "list1 = [1, 2]\n",
        "list2 = [3, 4]\n",
        "\n",
        "print(list1 + list2)      # [1, 2, 3, 4]\n",
        "print(list1 * 2)          # [1, 2, 1, 2]\n",
        "print(3 in list2)         # True\n",
        "\n",
        "for item in list1:\n",
        "    print(item)\n"
      ],
      "metadata": {
        "colab": {
          "base_uri": "https://localhost:8080/"
        },
        "id": "PN5ytXxBNVIa",
        "outputId": "ebeed0d7-84e1-49b1-801a-d5e798b248d1"
      },
      "execution_count": null,
      "outputs": [
        {
          "output_type": "stream",
          "name": "stdout",
          "text": [
            "[1, 2, 3, 4]\n",
            "[1, 2, 1, 2]\n",
            "True\n",
            "1\n",
            "2\n"
          ]
        }
      ]
    },
    {
      "cell_type": "markdown",
      "source": [
        "\n",
        "\n",
        "---\n",
        "\n"
      ],
      "metadata": {
        "id": "z51t2sW_N5oo"
      }
    },
    {
      "cell_type": "markdown",
      "source": [
        "i) Functions on Lists : -\n",
        "\n",
        "Python provides built-in functions for lists:\n",
        "\n",
        "| Function   | Description                 |\n",
        "| ---------- | --------------------------- |\n",
        "| `len()`    | Returns number of elements  |\n",
        "| `max()`    | Returns maximum element     |\n",
        "| `min()`    | Returns minimum element     |\n",
        "| `sum()`    | Returns sum of all elements |\n",
        "| `sorted()` | Returns a sorted copy       |\n",
        "| `list()`   | Converts iterable to list   |\n"
      ],
      "metadata": {
        "id": "UnzYCknBNYyJ"
      }
    },
    {
      "cell_type": "code",
      "source": [
        "# Example :\n",
        "\n",
        "my_list = [10, 5, 30, 20]\n",
        "\n",
        "print(len(my_list))       # 4\n",
        "print(max(my_list))       # 30\n",
        "print(min(my_list))       # 5\n",
        "print(sum(my_list))       # 65\n",
        "print(sorted(my_list))    # [5, 10, 20, 30]\n",
        "\n"
      ],
      "metadata": {
        "colab": {
          "base_uri": "https://localhost:8080/"
        },
        "id": "vSJeNrCzNhmr",
        "outputId": "d466a402-7c82-46d8-c0dc-776dbabd99e3"
      },
      "execution_count": null,
      "outputs": [
        {
          "output_type": "stream",
          "name": "stdout",
          "text": [
            "4\n",
            "30\n",
            "5\n",
            "65\n",
            "[5, 10, 20, 30]\n"
          ]
        }
      ]
    },
    {
      "cell_type": "markdown",
      "source": [
        "\n",
        "\n",
        "---\n",
        "\n"
      ],
      "metadata": {
        "id": "PjsERLd8N6qW"
      }
    },
    {
      "cell_type": "markdown",
      "source": [
        "DisAdvantages of Python Lists : -\n",
        "\n",
        "> Slow\n",
        "\n",
        ">Risky Usage\n",
        "\n",
        ">Eats Up More Memory"
      ],
      "metadata": {
        "id": "06eQrNgHpp6U"
      }
    },
    {
      "cell_type": "markdown",
      "source": [
        "\n",
        "\n",
        "---\n",
        "\n"
      ],
      "metadata": {
        "id": "BgDn6Plspujc"
      }
    },
    {
      "cell_type": "markdown",
      "source": [
        "Summary : -\n",
        "\n",
        "1) Lists are flexible, mutable, ordered collections.\n",
        "\n",
        "2) We can create, access, modify, and delete list elements easily.\n",
        "\n",
        "3) Python provides various operations and built-in functions for lists."
      ],
      "metadata": {
        "id": "Y96zYKs9NkzQ"
      }
    },
    {
      "cell_type": "markdown",
      "source": [
        "\n",
        "\n",
        "---\n",
        "\n"
      ],
      "metadata": {
        "id": "3vXrWB4EN7jK"
      }
    },
    {
      "cell_type": "markdown",
      "source": [
        "# List Comprehension : -"
      ],
      "metadata": {
        "id": "O96gtxq3lqS0"
      }
    },
    {
      "cell_type": "markdown",
      "source": [
        "\n",
        "List Comprehension is a concise, single-line way of creating lists by performing an operation or filtering elements from an iterable (like a list, tuple, or range).\n",
        "It makes code shorter, cleaner, and more readable compared to using traditional for loops.\n",
        "\n",
        "Syntax : -\n",
        "\n",
        "```\n",
        "new_list = [expression for item in iterable if condition]\n",
        "\n",
        "```\n",
        "1) expression → The operation or value to store in the list.\n",
        "\n",
        "2) item → The variable representing each element from the iterable.\n",
        "\n",
        "3) iterable → A sequence (list, tuple, range, etc.) to iterate over.\n",
        "\n",
        "4) condition (optional) → A filter to include elements that meet the condition.\n",
        "\n",
        "Key Characteristics : -\n",
        "\n",
        "1) Compact form of list creation.\n",
        "\n",
        "2) Can include conditions for filtering.\n",
        "\n",
        "3) Faster execution than traditional loops.\n",
        "\n",
        "4) Can replace map() and filter() functions in many cases.\n",
        "\n"
      ],
      "metadata": {
        "id": "elY0As5Mm2vb"
      }
    },
    {
      "cell_type": "code",
      "source": [
        "# Examples :\n",
        "\n",
        "# Basic List Comprehension :\n",
        "\n",
        "numbers = [1, 2, 3, 4, 5]\n",
        "squares = [x**2 for x in numbers]\n",
        "print(squares)  # Output: [1, 4, 9, 16, 25]\n",
        "\n",
        "\n",
        "# With Condition :\n",
        "\n",
        "numbers = [1, 2, 3, 4, 5, 6]\n",
        "even_numbers = [x for x in numbers if x % 2 == 0]\n",
        "print(even_numbers)  # Output: [2, 4, 6]\n",
        "\n",
        "\n",
        "# Using String Manipulation :\n",
        "\n",
        "words = [\"hello\", \"python\", \"world\"]\n",
        "upper_words = [w.upper() for w in words]\n",
        "print(upper_words)  # Output: ['HELLO', 'PYTHON', 'WORLD']\n",
        "\n",
        "\n",
        "# Nested List Comprehension :\n",
        "\n",
        "matrix = [[1, 2], [3, 4], [5, 6]]\n",
        "flatten = [num for row in matrix for num in row]\n",
        "print(flatten)  # Output: [1, 2, 3, 4, 5, 6]\n",
        "\n",
        "\n",
        "# With \"if-else\" Condition :\n",
        "\n",
        "numbers = [1, 2, 3, 4, 5]\n",
        "result = [\"Even\" if x%2==0 else \"Odd\" for x in numbers]\n",
        "print(result)  # Output: ['Odd', 'Even', 'Odd', 'Even', 'Odd']\n"
      ],
      "metadata": {
        "id": "c_9-JOp8ndHf"
      },
      "execution_count": null,
      "outputs": []
    },
    {
      "cell_type": "markdown",
      "source": [
        "Advantages of List Comprehension : -\n",
        "\n",
        "1) Shorter and more readable code.\n",
        "\n",
        "2) Often faster than using loops for list creation.\n",
        "\n",
        "3) Easy to combine mapping and filtering in one line.\n"
      ],
      "metadata": {
        "id": "olFaVwY5oDpi"
      }
    },
    {
      "cell_type": "markdown",
      "source": [
        "Limitations : -\n",
        "\n",
        "1) Becomes less readable if too complex or nested.\n",
        "\n",
        "2) Not suitable when many lines of logic are needed."
      ],
      "metadata": {
        "id": "iyb_XIxZoOnU"
      }
    },
    {
      "cell_type": "markdown",
      "source": [
        "\n",
        "\n",
        "---\n",
        "\n"
      ],
      "metadata": {
        "id": "8WgMV0BHbavy"
      }
    },
    {
      "cell_type": "markdown",
      "source": [
        "# 2 Ways to Traverse A List : -"
      ],
      "metadata": {
        "id": "cE-5KpWRmdD2"
      }
    },
    {
      "cell_type": "markdown",
      "source": [
        "There are two main ways to traverse (iterate through) a list in Python:\n"
      ],
      "metadata": {
        "id": "Ltqv0z0dmkQ6"
      }
    },
    {
      "cell_type": "markdown",
      "source": [
        "\n",
        "\n",
        "---\n",
        "\n"
      ],
      "metadata": {
        "id": "NGnaFYYKnV2y"
      }
    },
    {
      "cell_type": "markdown",
      "source": [
        "1) Item-Wise Access (Direct Access) :\n",
        "\n",
        "a) In this method, you directly access each element in the list without using its index.\n",
        "\n",
        "b) It is simpler and more readable when you don't need the index position."
      ],
      "metadata": {
        "id": "0DoakJfgmtru"
      }
    },
    {
      "cell_type": "code",
      "source": [
        "fruits = [\"apple\", \"banana\", \"cherry\"]\n",
        "\n",
        "for fruit in fruits:\n",
        "    print(fruit)\n"
      ],
      "metadata": {
        "id": "rCpn93k_m5b7"
      },
      "execution_count": null,
      "outputs": []
    },
    {
      "cell_type": "markdown",
      "source": [
        "\n",
        "\n",
        "---\n",
        "\n"
      ],
      "metadata": {
        "id": "IBPNYZxknW5E"
      }
    },
    {
      "cell_type": "markdown",
      "source": [
        "2) Index-Wise Access / Traversal (Using Index Numbers) : -\n",
        "\n",
        "a) In this method, you iterate over the indices of the list and use them to access elements.\n",
        "\n",
        "b) Useful when you need both index and value, or when modifying elements."
      ],
      "metadata": {
        "id": "Pr0yELSAm9Ak"
      }
    },
    {
      "cell_type": "code",
      "source": [
        "fruits = [\"apple\", \"banana\", \"cherry\"]\n",
        "\n",
        "for i in range(len(fruits)):\n",
        "    print(i, fruits[i])\n"
      ],
      "metadata": {
        "id": "wKO3ZgafnNO8"
      },
      "execution_count": null,
      "outputs": []
    },
    {
      "cell_type": "markdown",
      "source": [
        "\n",
        "\n",
        "---\n",
        "\n"
      ],
      "metadata": {
        "id": "qNkGR6R0nXzT"
      }
    },
    {
      "cell_type": "markdown",
      "source": [
        "Summary :\n",
        "\n",
        "| **Method**    | **Description**                                   | **Use Case**                                                    |\n",
        "| ------------- | ------------------------------------------------- | --------------------------------------------------------------- |\n",
        "| **Itemwise**  | Iterates directly over each element in the list.  | When only values are needed.                                    |\n",
        "| **Indexwise** | Iterates over list indices and accesses elements. | When both index and value are needed or for modifying elements. |\n"
      ],
      "metadata": {
        "id": "3Qzi5GrInPs_"
      }
    },
    {
      "cell_type": "markdown",
      "source": [
        "\n",
        "\n",
        "---\n",
        "\n"
      ],
      "metadata": {
        "id": "s-974ld1nTbO"
      }
    },
    {
      "cell_type": "markdown",
      "source": [
        "# Zip() Function :"
      ],
      "metadata": {
        "id": "AXsAoOQ0ny5L"
      }
    },
    {
      "cell_type": "markdown",
      "source": [
        "The zip() function in Python is used to combine multiple iterables (like lists, tuples, sets) into a single iterator of tuples, where the first tuple contains the first elements of each iterable, the second tuple contains the second elements, and so on.\n",
        "\n",
        "\n",
        "\n",
        "---\n",
        "\n",
        "\n",
        "\n",
        "Syntax :\n",
        "\n",
        "\n",
        "\n",
        "```\n",
        "zip(iterable1, iterable2, ..., iterableN)\n",
        "\n",
        "```\n",
        "\n",
        "1) iterable1, iterable2, … → Two or more sequences (lists, tuples, strings, etc.)\n",
        "\n",
        "2) The resulting object is an iterator of tuples.\n",
        "\n",
        "3) Stops when the shortest iterable is exhausted.\n",
        "\n",
        "\n",
        "\n",
        "---\n",
        "\n",
        "\n",
        "\n",
        "Key Points : -\n",
        "\n",
        "1) Returns a zip object (iterator).\n",
        "\n",
        "2) Can be converted into a list or tuple.\n",
        "\n",
        "3) Useful for parallel iteration over multiple iterables.\n",
        "\n"
      ],
      "metadata": {
        "id": "hWgs5cLAn2cz"
      }
    },
    {
      "cell_type": "code",
      "source": [
        "# Examples :\n",
        "\n",
        "names = [\"Alice\", \"Bob\", \"Charlie\"]\n",
        "scores = [85, 90, 78]\n",
        "\n",
        "result = zip(names, scores)\n",
        "print(list(result))\n",
        "\n",
        "# With Three Lists :\n",
        "\n",
        "names = [\"Tom\", \"Jerry\"]\n",
        "ages = [25, 30]\n",
        "cities = [\"NY\", \"LA\"]\n",
        "\n",
        "result = zip(names, ages, cities)\n",
        "print(list(result))\n",
        "\n",
        "# Using \"for\" Loop :\n",
        "\n",
        "fruits = [\"apple\", \"banana\", \"cherry\"]\n",
        "colors = [\"red\", \"yellow\", \"dark red\"]\n",
        "\n",
        "for fruit, color in zip(fruits, colors):\n",
        "    print(fruit, \"->\", color)\n",
        "\n",
        "# Un-Zipping (Reverse Zip) :\n",
        "\n",
        "pairs = [(1, 'a'), (2, 'b'), (3, 'c')]\n",
        "numbers, letters = zip(*pairs)\n",
        "print(numbers)  # (1, 2, 3)\n",
        "print(letters)  # ('a', 'b', 'c')\n"
      ],
      "metadata": {
        "id": "izG1l-0AoV4i"
      },
      "execution_count": null,
      "outputs": []
    },
    {
      "cell_type": "markdown",
      "source": [
        "\n",
        "\n",
        "---\n",
        "\n"
      ],
      "metadata": {
        "id": "rYrYH8SnpViP"
      }
    },
    {
      "cell_type": "markdown",
      "source": [
        "Use Cases of Zip() : -\n",
        "\n",
        "1) Combining data from multiple lists.\n",
        "\n",
        "2) Iterating through multiple sequences in parallel.\n",
        "\n",
        "3) Creating dictionaries from two lists.\n",
        "\n",
        "4) Reversing zipped iterables (unzipping)."
      ],
      "metadata": {
        "id": "DDtpN-xWoxst"
      }
    },
    {
      "cell_type": "code",
      "source": [
        "keys = [\"name\", \"age\", \"city\"]\n",
        "values = [\"Alice\", 25, \"London\"]\n",
        "my_dict = dict(zip(keys, values))\n",
        "print(my_dict)\n",
        "# Output: {'name': 'Alice', 'age': 25, 'city': 'London'}\n"
      ],
      "metadata": {
        "id": "JS7wdfzMo6Z6"
      },
      "execution_count": null,
      "outputs": []
    },
    {
      "cell_type": "markdown",
      "source": [
        "\n",
        "\n",
        "---\n",
        "\n"
      ],
      "metadata": {
        "id": "VPK7hO8EpPyH"
      }
    },
    {
      "cell_type": "markdown",
      "source": [
        "Summary : -\n",
        "\n",
        "| Feature           | Description                                        |\n",
        "| ----------------- | -------------------------------------------------- |\n",
        "| Combines lists    | Creates tuples from elements of multiple iterables |\n",
        "| Iterator output   | Returns a zip object (can convert to list/tuple)   |\n",
        "| Shortest iterable | Stops zipping when shortest iterable is exhausted  |\n",
        "| Supports unzip    | Can reverse zip using `*` operator                 |\n"
      ],
      "metadata": {
        "id": "G8oM_xYapLjX"
      }
    },
    {
      "cell_type": "markdown",
      "source": [
        "\n",
        "\n",
        "---\n",
        "\n"
      ],
      "metadata": {
        "id": "dBpH0riZpO2P"
      }
    },
    {
      "cell_type": "markdown",
      "source": [
        "List Can Contain Any Kind of Objects in Python : -\n",
        "\n",
        "Python lists are heterogeneous, meaning they can store elements of:\n",
        "\n",
        "1) Primitive data types (int, float, string, boolean, complex numbers)\n",
        "\n",
        "2) Collections (lists, tuples, sets, dictionaries)\n",
        "\n",
        "3) Functions, objects, classes, or even other lists\n",
        "\n",
        "4) Mixed data types in a single list"
      ],
      "metadata": {
        "id": "NoJjy-HfqOAs"
      }
    },
    {
      "cell_type": "markdown",
      "source": [
        "\n",
        "\n",
        "---\n",
        "\n"
      ],
      "metadata": {
        "id": "z5Zr6v2SrfMw"
      }
    },
    {
      "cell_type": "code",
      "source": [
        "# Storing Multiple Data Types :\n",
        "\n",
        "my_list = [10, 3.14, \"Python\", True]\n",
        "print(my_list)\n",
        "\n",
        "# Storing Other Collections :\n",
        "\n",
        "my_list = [[1, 2], (3, 4), {5, 6}, {\"a\": 10}]\n",
        "print(my_list)\n",
        "\n",
        "# Storing Functions and Objects :\n",
        "\n",
        "def greet():\n",
        "    return \"Hello!\"\n",
        "\n",
        "class Student:\n",
        "    pass\n",
        "\n",
        "obj = Student()\n",
        "my_list = [greet, obj, print]\n",
        "print(my_list[0]())  # Calls greet() → \"Hello!\"\n",
        "\n",
        "# Nested Lists (Lists within Lists) :\n",
        "\n",
        "nested_list = [1, [2, [3, 4]], 5]\n",
        "print(nested_list)\n",
        "\n"
      ],
      "metadata": {
        "id": "QHq4PqwlrCz0"
      },
      "execution_count": null,
      "outputs": []
    },
    {
      "cell_type": "markdown",
      "source": [
        "\n",
        "\n",
        "---\n",
        "\n"
      ],
      "metadata": {
        "id": "3oohOGzYrgNX"
      }
    },
    {
      "cell_type": "markdown",
      "source": [
        "Key Points : -\n",
        "\n",
        "1) Python lists are not type-restricted, unlike arrays in other languages (e.g., C, Java).\n",
        "\n",
        "2) They can hold different data types simultaneously.\n",
        "\n",
        "3) Can store any Python object, including functions, classes, and modules.\n",
        "\n"
      ],
      "metadata": {
        "id": "qIOzG9qLrXIk"
      }
    },
    {
      "cell_type": "markdown",
      "source": [
        "\n",
        "\n",
        "---\n",
        "\n"
      ],
      "metadata": {
        "id": "PTUQdKxurhRl"
      }
    }
  ]
}