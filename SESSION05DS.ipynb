{
  "nbformat": 4,
  "nbformat_minor": 0,
  "metadata": {
    "colab": {
      "provenance": [],
      "collapsed_sections": [
        "Y2WDfmkRYaHu",
        "lmJlDDSXD1Qy"
      ],
      "authorship_tag": "ABX9TyObwOjYsBJupqgpkg6vLOLg",
      "include_colab_link": true
    },
    "kernelspec": {
      "name": "python3",
      "display_name": "Python 3"
    },
    "language_info": {
      "name": "python"
    }
  },
  "cells": [
    {
      "cell_type": "markdown",
      "metadata": {
        "id": "view-in-github",
        "colab_type": "text"
      },
      "source": [
        "<a href=\"https://colab.research.google.com/github/Yash-Malani-Rick/DATA-SCIENCE-COURSE-BY-CAMPUSX/blob/master/SESSION05DS.ipynb\" target=\"_parent\"><img src=\"https://colab.research.google.com/assets/colab-badge.svg\" alt=\"Open In Colab\"/></a>"
      ]
    },
    {
      "cell_type": "markdown",
      "source": [
        "# 1) Tuples In Python : -\n",
        "\n"
      ],
      "metadata": {
        "id": "Y2WDfmkRYaHu"
      }
    },
    {
      "cell_type": "markdown",
      "source": [
        "A tuple in Python is an ordered, immutable collection of elements that can store multiple data types.\n",
        "Unlike lists, tuples cannot be modified (no adding, deleting, or changing elements once created).\n",
        "\n",
        "\n",
        "\n",
        "\n",
        "---\n",
        "\n",
        "Syntax : -\n",
        "\n",
        "* Tuples are defined using parentheses () or the tuple() constructor.\n",
        "\n",
        "* A single-element tuple must have a trailing comma (e.g., (5,)), otherwise Python treats it as an integer.\n",
        "\n",
        "```\n",
        "tuple_name = (element1, element2, element3, ...)\n",
        "\n",
        "```"
      ],
      "metadata": {
        "id": "mXdPzu4UYekK"
      }
    },
    {
      "cell_type": "markdown",
      "source": [
        "\n",
        "\n",
        "---\n",
        "\n"
      ],
      "metadata": {
        "id": "1Xm9w1ZNY4ew"
      }
    },
    {
      "cell_type": "markdown",
      "source": [
        "Characteristics of Tuples : -\n",
        "\n",
        "* Ordered → Elements are stored in the same order as inserted.\n",
        "\n",
        "* Immutable → Elements cannot be changed after creation.\n",
        "\n",
        "* Heterogeneous → Can store different data types in the same tuple.\n",
        "\n",
        "* Index-based Access → Access elements using indices (0-based).\n",
        "\n",
        "*  Allow duplicates → Can contain repeated values.\n",
        "\n",
        "* Faster than lists → Tuples are memory-efficient and faster compared to lists."
      ],
      "metadata": {
        "id": "qMBLZAYrY5UG"
      }
    },
    {
      "cell_type": "markdown",
      "source": [
        "\n",
        "\n",
        "---\n",
        "\n"
      ],
      "metadata": {
        "id": "IzCh9VbIZDUm"
      }
    },
    {
      "cell_type": "markdown",
      "source": [
        "Creating Tuples : -\n"
      ],
      "metadata": {
        "id": "oWrpW6y2ZEOs"
      }
    },
    {
      "cell_type": "code",
      "source": [
        "# Example for Creating a Tuple :\n",
        "\n",
        "# Empty tuple\n",
        "t1 = ()\n",
        "\n",
        "# Tuple with multiple data types\n",
        "t2 = (1, \"Python\", 3.14)\n",
        "\n",
        "# Tuple without parentheses (tuple packing)\n",
        "t3 = 10, 20, 30\n",
        "\n",
        "# Single element tuple (must have comma)\n",
        "t4 = (5,)\n",
        "\n",
        "# Using tuple constructor\n",
        "t5 = tuple([1, 2, 3])\n"
      ],
      "metadata": {
        "id": "bIuJTohYZHGW"
      },
      "execution_count": 21,
      "outputs": []
    },
    {
      "cell_type": "markdown",
      "source": [
        "\n",
        "\n",
        "---\n",
        "\n"
      ],
      "metadata": {
        "id": "-xzxOXkaaUc1"
      }
    },
    {
      "cell_type": "markdown",
      "source": [
        "Accessing Elements In a Tuple :\n"
      ],
      "metadata": {
        "id": "29hN7Ok2ZO43"
      }
    },
    {
      "cell_type": "code",
      "source": [
        "# code to access elements in a Tuple :\n",
        "\n",
        "my_tuple = (10, 20, 30, 40)\n",
        "\n",
        "print(my_tuple[0])    # Access first element → 10\n",
        "print(my_tuple[-1])   # Access last element → 40\n",
        "print(my_tuple[1:3])  # Slicing → (20, 30)\n"
      ],
      "metadata": {
        "colab": {
          "base_uri": "https://localhost:8080/"
        },
        "id": "-VJ70vv-ZUtW",
        "outputId": "406833d3-f40b-40f5-e92a-79be18c954e3"
      },
      "execution_count": 22,
      "outputs": [
        {
          "output_type": "stream",
          "name": "stdout",
          "text": [
            "10\n",
            "40\n",
            "(20, 30)\n"
          ]
        }
      ]
    },
    {
      "cell_type": "markdown",
      "source": [
        "\n",
        "\n",
        "---\n",
        "\n"
      ],
      "metadata": {
        "id": "rGJ9p4_haV2G"
      }
    },
    {
      "cell_type": "markdown",
      "source": [
        "Operations on Tuples :\n",
        "\n",
        "| Operation           | Description                           | Example                          |\n",
        "| ------------------- | ------------------------------------- | -------------------------------- |\n",
        "| Concatenation (`+`) | Combines two tuples                   | `(1, 2) + (3, 4) → (1, 2, 3, 4)` |\n",
        "| Repetition (`*`)    | Repeats tuple elements                | `(\"a\",) * 3 → ('a', 'a', 'a')`   |\n",
        "| Membership (`in`)   | Checks if element exists              | `3 in (1,2,3) → True`            |\n",
        "| Iteration (`for`)   | Loops through elements                | `for i in t: print(i)`           |\n",
        "| Length (`len()`)    | Counts elements                       | `len((1,2,3)) → 3`               |\n",
        "| Index (`index()`)   | Finds first occurrence of a value     | `(1,2,3,2).index(2) → 1`         |\n",
        "| Count (`count()`)   | Counts how many times a value appears | `(1,2,2,3).count(2) → 2`         |\n"
      ],
      "metadata": {
        "id": "l5SLvw0sZYn9"
      }
    },
    {
      "cell_type": "markdown",
      "source": [
        "\n",
        "\n",
        "---\n",
        "\n"
      ],
      "metadata": {
        "id": "mlTpqp_XaXA-"
      }
    },
    {
      "cell_type": "markdown",
      "source": [
        "Nesting Tuples : -\n",
        "\n",
        "* Tuples can contain other tuples(or lists) as elements ."
      ],
      "metadata": {
        "id": "N_96UchFZd9w"
      }
    },
    {
      "cell_type": "code",
      "source": [
        "# Code for Tuples Nesting :\n",
        "\n",
        "nested = (1, (2, 3), (4, (5, 6)))\n",
        "print(nested[1][1])  # Output: 3\n"
      ],
      "metadata": {
        "colab": {
          "base_uri": "https://localhost:8080/"
        },
        "id": "MzDnTyT0ZuAc",
        "outputId": "2b6b383e-bc89-4ef4-9c04-886bcdd97e50"
      },
      "execution_count": 23,
      "outputs": [
        {
          "output_type": "stream",
          "name": "stdout",
          "text": [
            "3\n"
          ]
        }
      ]
    },
    {
      "cell_type": "markdown",
      "source": [
        "\n",
        "\n",
        "---\n",
        "\n"
      ],
      "metadata": {
        "id": "sPa51_BTaYKD"
      }
    },
    {
      "cell_type": "markdown",
      "source": [
        "Tuple Packing And Unpacking : -\n"
      ],
      "metadata": {
        "id": "AOrC7DcGZx10"
      }
    },
    {
      "cell_type": "code",
      "source": [
        "# Example for Tuple Packing and UnPacking : -\n",
        "\n",
        "# Packing\n",
        "t = 1, \"Python\", 3.5\n",
        "\n",
        "# Unpacking\n",
        "a, b, c = t\n",
        "print(a)  # 1\n",
        "print(b)  # Python\n",
        "print(c)  # 3.5\n"
      ],
      "metadata": {
        "colab": {
          "base_uri": "https://localhost:8080/"
        },
        "id": "DJm2LnmWZ27s",
        "outputId": "1ccc1254-d023-425e-e1b7-8bf08641b4ab"
      },
      "execution_count": 24,
      "outputs": [
        {
          "output_type": "stream",
          "name": "stdout",
          "text": [
            "1\n",
            "Python\n",
            "3.5\n"
          ]
        }
      ]
    },
    {
      "cell_type": "markdown",
      "source": [
        "\n",
        "\n",
        "---\n",
        "\n"
      ],
      "metadata": {
        "id": "S1X4-zp2aZAP"
      }
    },
    {
      "cell_type": "markdown",
      "source": [
        "Conversion Between Lists and Tuples : -\n"
      ],
      "metadata": {
        "id": "9LWWsX3GZ_US"
      }
    },
    {
      "cell_type": "code",
      "source": [
        "# Code for Conversion in Between Lists and Tuples :\n",
        "\n",
        "# Tuple to list\n",
        "t = (1, 2, 3)\n",
        "lst = list(t)\n",
        "\n",
        "# List to tuple\n",
        "new_tuple = tuple(lst)\n"
      ],
      "metadata": {
        "id": "2ZV64dg6aE-N"
      },
      "execution_count": 25,
      "outputs": []
    },
    {
      "cell_type": "markdown",
      "source": [
        "\n",
        "\n",
        "---\n",
        "\n"
      ],
      "metadata": {
        "id": "UKuZfbu7aZ1-"
      }
    },
    {
      "cell_type": "markdown",
      "source": [
        "Functions on Tuples : -\n",
        "\n",
        "| **Function**          | **Description**                                        | **Theory**                                   |\n",
        "| --------------------- | ------------------------------------------------------ | -------------------------------------------- |\n",
        "| **`len(tuple)`**      | Returns the **number of elements** in a tuple.         | Counts total items, including duplicates.    |\n",
        "| **`max(tuple)`**      | Returns the **largest element** in the tuple.          | Works if elements are of the same data type. |\n",
        "| **`min(tuple)`**      | Returns the **smallest element** in the tuple.         | Works for numeric or alphabetical data.      |\n",
        "| **`sum(tuple)`**      | Returns the **sum of all elements**.                   | Works only for numeric tuples.               |\n",
        "| **`tuple(iterable)`** | Converts an iterable (list, string, set) into a tuple. | Creates a tuple from any iterable sequence.  |\n",
        "\n",
        "\n",
        "\n",
        "\n",
        "---\n",
        "\n",
        "\n",
        "| **Method**         | **Description**                                                | **Theory**                                       |\n",
        "| ------------------ | -------------------------------------------------------------- | ------------------------------------------------ |\n",
        "| **`count(value)`** | Returns the **number of occurrences** of a value in the tuple. | Searches the entire tuple and counts matches.    |\n",
        "| **`index(value)`** | Returns the **first index** where the value appears.           | Raises a `ValueError` if the value is not found. |\n",
        "\n",
        "\n",
        "---\n",
        "\n",
        "| **Operation**                   | **Description**                           | **Theory**                                  |\n",
        "| ------------------------------- | ----------------------------------------- | ------------------------------------------- |\n",
        "| **Membership (`in`, `not in`)** | Checks if an element exists in the tuple. | Returns `True` or `False`.                  |\n",
        "| **Concatenation (`+`)**         | Joins two tuples into one.                | Creates a new tuple with combined elements. |\n",
        "| **Repetition (`*`)**            | Repeats tuple elements multiple times.    | Useful for creating repeated patterns.      |\n"
      ],
      "metadata": {
        "id": "WDYm6-iybGWq"
      }
    },
    {
      "cell_type": "markdown",
      "source": [
        "\n",
        "\n",
        "---\n",
        "\n"
      ],
      "metadata": {
        "id": "UxGl_hPHbJCR"
      }
    },
    {
      "cell_type": "markdown",
      "source": [
        "Differences between Lists and Tuples : -\n",
        "\n",
        "| **Feature**           | **Lists**                                                              | **Tuples**                                                                 |\n",
        "| --------------------- | ---------------------------------------------------------------------- | -------------------------------------------------------------------------- |\n",
        "| **Definition**        | Ordered, **mutable** collection of elements.                           | Ordered, **immutable** collection of elements.                             |\n",
        "| **Syntax**            | Defined using **square brackets `[]`**.                                | Defined using **parentheses `()`**.                                        |\n",
        "| **Mutability**        | Elements can be **added, removed, or modified**.                       | Elements **cannot be changed** after creation.                             |\n",
        "| **Methods Available** | Many built-in methods (e.g., `append()`, `remove()`, `insert()`).      | Fewer built-in methods (`count()`, `index()`).                             |\n",
        "| **Performance**       | **Slower** than tuples due to mutability and overhead.                 | **Faster** because of immutability and fixed size.                         |\n",
        "| **Memory Usage**      | **More memory** is used compared to tuples.                            | **Less memory** is used, making them more efficient.                       |\n",
        "| **Data Types**        | Can store **heterogeneous data types**.                                | Can also store **heterogeneous data types**.                               |\n",
        "| **Iteration Speed**   | **Slower** compared to tuples.                                         | **Faster**, suitable for read-only operations.                             |\n",
        "| **Hashable**          | **Not hashable**, cannot be used as dictionary keys.                   | **Hashable**, can be used as dictionary keys if all elements are hashable. |\n",
        "| **Use Case**          | When you need a **dynamic collection** that can be updated frequently. | When you need a **fixed, read-only collection** of data.                   |\n"
      ],
      "metadata": {
        "id": "0IRa1Kz6eeJP"
      }
    },
    {
      "cell_type": "markdown",
      "source": [
        "\n",
        "\n",
        "---\n",
        "\n"
      ],
      "metadata": {
        "id": "mfdnRlnMedVv"
      }
    },
    {
      "cell_type": "markdown",
      "source": [
        "Zip Functions On Tuples : -\n",
        "\n",
        "* The zip() function works the same way for tuples as it does for lists—it combines multiple iterables (including tuples) into a single iterator of tuples, pairing elements based on their position.\n",
        "\n",
        "\n",
        "\n",
        "---\n",
        "\n",
        "Syntax : -\n",
        "\n",
        "\n",
        "\n",
        "```\n",
        "zip(iterable1, iterable2, ..., iterableN)\n",
        "\n",
        "```\n",
        "\n",
        "* Works with tuples, lists, sets, or mixed iterables.\n",
        "\n",
        "* Stops when the shortest iterable is exhausted.\n",
        "\n"
      ],
      "metadata": {
        "id": "HsHWxt9-f1QM"
      }
    },
    {
      "cell_type": "markdown",
      "source": [
        "Using zip() with Tuples :\n"
      ],
      "metadata": {
        "id": "uDvVAxXdgM54"
      }
    },
    {
      "cell_type": "code",
      "source": [
        "# Zipping Two Tuples :\n",
        "\n",
        "tuple1 = (1, 2, 3)\n",
        "tuple2 = ('a', 'b', 'c')\n",
        "\n",
        "result = zip(tuple1, tuple2)\n",
        "print(tuple(result))\n",
        "\n",
        "# Zipping Multiple Tuples :\n",
        "\n",
        "t1 = (10, 20)\n",
        "t2 = (30, 40)\n",
        "t3 = (50, 60)\n",
        "\n",
        "print(tuple(zip(t1, t2, t3)))\n",
        "\n",
        "# Different Length Tuples :\n",
        "\n",
        "t1 = (1, 2, 3, 4)\n",
        "t2 = ('a', 'b')\n",
        "\n",
        "print(list(zip(t1, t2)))\n",
        "\n",
        "# Using 'zip()' to create a dictionary :\n",
        "\n",
        "keys = ('name', 'age', 'city')\n",
        "values = ('Alice', 25, 'London')\n",
        "\n",
        "my_dict = dict(zip(keys, values))\n",
        "print(my_dict)\n",
        "\n",
        "# Unzipping Tuples :\n",
        "\n",
        "zipped = ((1, 'a'), (2, 'b'), (3, 'c'))\n",
        "num, char = zip(*zipped)\n",
        "print(num)   # (1, 2, 3)\n",
        "print(char)  # ('a', 'b', 'c')\n"
      ],
      "metadata": {
        "colab": {
          "base_uri": "https://localhost:8080/"
        },
        "id": "2I0yWDWqgROh",
        "outputId": "43d4cdd4-0ac8-47c6-bcb1-45e4accf5a8d"
      },
      "execution_count": 26,
      "outputs": [
        {
          "output_type": "stream",
          "name": "stdout",
          "text": [
            "((1, 'a'), (2, 'b'), (3, 'c'))\n",
            "((10, 30, 50), (20, 40, 60))\n",
            "[(1, 'a'), (2, 'b')]\n",
            "{'name': 'Alice', 'age': 25, 'city': 'London'}\n",
            "(1, 2, 3)\n",
            "('a', 'b', 'c')\n"
          ]
        }
      ]
    },
    {
      "cell_type": "markdown",
      "source": [
        "\n",
        "\n",
        "---\n",
        "\n"
      ],
      "metadata": {
        "id": "CKSzccXYgspa"
      }
    },
    {
      "cell_type": "markdown",
      "source": [
        "Key Words About zip() with Tuples :\n",
        "\n",
        "* Works identically as with lists.\n",
        "\n",
        "* Produces an iterator of tuples.\n",
        "\n",
        "* Can be converted into tuple, list, or dictionary.\n",
        "\n",
        "* Stops when the shortest iterable ends.\n",
        "\n",
        "* Supports unzipping using * operator."
      ],
      "metadata": {
        "id": "8wdf4B-_gtgK"
      }
    },
    {
      "cell_type": "markdown",
      "source": [
        "\n",
        "\n",
        "---\n",
        "\n"
      ],
      "metadata": {
        "id": "xsZIj25Pf0DC"
      }
    },
    {
      "cell_type": "markdown",
      "source": [
        "Summary of Tuples : -\n",
        "\n",
        "| Feature                | Description                               |\n",
        "| ---------------------- | ----------------------------------------- |\n",
        "| **Immutable**          | Elements cannot be changed after creation |\n",
        "| **Ordered**            | Maintains insertion order                 |\n",
        "| **Heterogeneous**      | Supports multiple data types              |\n",
        "| **Index-based**        | Supports indexing and slicing             |\n",
        "| **Duplicates allowed** | Yes                                       |\n",
        "| **Faster than list**   | Uses less memory and is faster            |\n"
      ],
      "metadata": {
        "id": "v0C7wydAaMaZ"
      }
    },
    {
      "cell_type": "markdown",
      "source": [
        "\n",
        "\n",
        "---\n",
        "\n"
      ],
      "metadata": {
        "id": "NGrdC4Xhaaqg"
      }
    },
    {
      "cell_type": "markdown",
      "source": [
        "# 2) Sets In Python : -"
      ],
      "metadata": {
        "id": "lmJlDDSXD1Qy"
      }
    },
    {
      "cell_type": "markdown",
      "source": [
        "\n",
        "\n",
        "---\n",
        "\n"
      ],
      "metadata": {
        "id": "B97u10T9Fufn"
      }
    },
    {
      "cell_type": "markdown",
      "source": [
        "* A set in Python is an unordered, unindexed, mutable collection of unique elements.\n",
        "\n",
        "* Sets are similar to mathematical sets and are mainly used to perform set operations like union, intersection, difference, etc.\n",
        "\n",
        "* Duplicates are automatically removed from a set.\n",
        "\n",
        "\n"
      ],
      "metadata": {
        "id": "zU4tXr5LD7M6"
      }
    },
    {
      "cell_type": "markdown",
      "source": [
        "\n",
        "\n",
        "---\n",
        "\n"
      ],
      "metadata": {
        "id": "70ePN6c9FtTV"
      }
    },
    {
      "cell_type": "markdown",
      "source": [
        "Key Characteristics of Sets : -\n",
        "\n",
        "| **Characteristic**     | **Description**                                  |\n",
        "| ---------------------- | ------------------------------------------------ |\n",
        "| **Unordered**          | Elements have no fixed order.                    |\n",
        "| **Mutable**            | Elements can be added or removed.                |\n",
        "| **Unique Elements**    | No duplicates are allowed.                       |\n",
        "| **Heterogeneous Data** | Can store different data types.                  |\n",
        "| **Indexing**           | Not supported (cannot access elements by index). |\n",
        "| **Iterable**           | Can be used in loops and iterators.              |\n"
      ],
      "metadata": {
        "id": "o0FRbAS_EmyS"
      }
    },
    {
      "cell_type": "markdown",
      "source": [
        "\n",
        "\n",
        "---\n",
        "\n"
      ],
      "metadata": {
        "id": "7X96qWqtFsfL"
      }
    },
    {
      "cell_type": "markdown",
      "source": [
        "Creating Sets : -"
      ],
      "metadata": {
        "id": "wjj3YVzNEzZG"
      }
    },
    {
      "cell_type": "code",
      "source": [
        "# Creating a set\n",
        "my_set = {1, 2, 3, 4}\n",
        "\n",
        "# Creating set using set() constructor\n",
        "another_set = set([1, 2, 2, 3, 4])   # duplicates are removed\n",
        "print(another_set)  # Output: {1, 2, 3, 4}\n",
        "\n",
        "# Empty set (must use set(), {} creates dictionary)\n",
        "empty_set = set()\n",
        "\n",
        "# Mixed data types\n",
        "mixed_set = {1, \"Python\", 3.14, True}\n",
        "print(mixed_set)\n"
      ],
      "metadata": {
        "colab": {
          "base_uri": "https://localhost:8080/"
        },
        "id": "i_jLaKctE3eN",
        "outputId": "4a608f65-90cf-4162-b874-a2382566e9d9"
      },
      "execution_count": 27,
      "outputs": [
        {
          "output_type": "stream",
          "name": "stdout",
          "text": [
            "{1, 2, 3, 4}\n",
            "{1, 3.14, 'Python'}\n"
          ]
        }
      ]
    },
    {
      "cell_type": "markdown",
      "source": [
        "\n",
        "\n",
        "---\n",
        "\n"
      ],
      "metadata": {
        "id": "37vpETPyFrHd"
      }
    },
    {
      "cell_type": "markdown",
      "source": [
        "Operations On Sets : -\n",
        "\n",
        "| **Operation**            | **Operator/Method**                                | **Description**                                          |                                              |\n",
        "| ------------------------ | -------------------------------------------------- | -------------------------------------------------------- | -------------------------------------------- |\n",
        "| **Union**                | \\`set1                                             | set2`or`set1.union(set2)\\`                               | Combines all unique elements from both sets. |\n",
        "| **Intersection**         | `set1 & set2` or `set1.intersection(set2)`         | Returns elements common to both sets.                    |                                              |\n",
        "| **Difference**           | `set1 - set2` or `set1.difference(set2)`           | Returns elements present in first set but not in second. |                                              |\n",
        "| **Symmetric Difference** | `set1 ^ set2` or `set1.symmetric_difference(set2)` | Returns elements in either set, but not both.            |                                              |\n",
        "| **Subset**               | `set1 <= set2` or `set1.issubset(set2)`            | Checks if all elements of set1 are in set2.              |                                              |\n",
        "| **Superset**             | `set1 >= set2` or `set1.issuperset(set2)`          | Checks if set1 contains all elements of set2.            |                                              |\n",
        "| **Disjoint Sets**        | `set1.isdisjoint(set2)`                            | Checks if both sets have no common elements.             |                                              |\n"
      ],
      "metadata": {
        "id": "OXP8OOcvE62F"
      }
    },
    {
      "cell_type": "code",
      "source": [
        "# Code Example :\n",
        "\n",
        "A = {1, 2, 3, 4}\n",
        "B = {3, 4, 5, 6}\n",
        "\n",
        "print(A | B)     # Union → {1, 2, 3, 4, 5, 6}\n",
        "print(A & B)     # Intersection → {3, 4}\n",
        "print(A - B)     # Difference → {1, 2}\n",
        "print(A ^ B)     # Symmetric Difference → {1, 2, 5, 6}\n",
        "print(A <= B)    # Subset → False\n",
        "print(A.isdisjoint(B))  # False\n"
      ],
      "metadata": {
        "colab": {
          "base_uri": "https://localhost:8080/"
        },
        "id": "MpTkDiKQFECz",
        "outputId": "03ca22ae-cf69-485f-9ee0-a38f605cb53b"
      },
      "execution_count": 28,
      "outputs": [
        {
          "output_type": "stream",
          "name": "stdout",
          "text": [
            "{1, 2, 3, 4, 5, 6}\n",
            "{3, 4}\n",
            "{1, 2}\n",
            "{1, 2, 5, 6}\n",
            "False\n",
            "False\n"
          ]
        }
      ]
    },
    {
      "cell_type": "markdown",
      "source": [
        "\n",
        "\n",
        "---\n",
        "\n"
      ],
      "metadata": {
        "id": "AX2P5REFFqCg"
      }
    },
    {
      "cell_type": "markdown",
      "source": [
        "Operable Functions On Sets : -\n",
        "\n",
        "| **Function**    | **Description**                                 |\n",
        "| --------------- | ----------------------------------------------- |\n",
        "| **len(set)**    | Returns number of elements in set.              |\n",
        "| **max(set)**    | Returns the largest element.                    |\n",
        "| **min(set)**    | Returns the smallest element.                   |\n",
        "| **sum(set)**    | Returns the sum of all elements (numeric only). |\n",
        "| **sorted(set)** | Returns a sorted list of set elements.          |\n",
        "| **set()**       | Converts an iterable into a set.                |\n"
      ],
      "metadata": {
        "id": "MIW21NpTFGKG"
      }
    },
    {
      "cell_type": "markdown",
      "source": [
        "\n",
        "\n",
        "---\n",
        "\n"
      ],
      "metadata": {
        "id": "YJu5FdWFFpPo"
      }
    },
    {
      "cell_type": "markdown",
      "source": [
        "Set Methods : -\n",
        "\n",
        "| **Method**               | **Description**                                |\n",
        "| ------------------------ | ---------------------------------------------- |\n",
        "| `add(x)`                 | Adds an element to the set.                    |\n",
        "| `update(iterable)`       | Adds multiple elements.                        |\n",
        "| `remove(x)`              | Removes an element (error if not found).       |\n",
        "| `discard(x)`             | Removes element (no error if not found).       |\n",
        "| `pop()`                  | Removes and returns a random element.          |\n",
        "| `clear()`                | Removes all elements from set.                 |\n",
        "| `copy()`                 | Returns a shallow copy of the set.             |\n",
        "| `union()`                | Returns the union of sets.                     |\n",
        "| `intersection()`         | Returns common elements.                       |\n",
        "| `difference()`           | Returns difference of sets.                    |\n",
        "| `symmetric_difference()` | Returns elements in either set, but not both.  |\n",
        "| `issubset()`             | Checks if current set is subset of another.    |\n",
        "| `issuperset()`           | Checks if current set is superset of another.  |\n",
        "| `isdisjoint()`           | Checks if two sets have no elements in common. |\n"
      ],
      "metadata": {
        "id": "5F4-oITMFLQd"
      }
    },
    {
      "cell_type": "markdown",
      "source": [
        "\n",
        "\n",
        "---\n",
        "\n"
      ],
      "metadata": {
        "id": "8VbuPr_JFoFs"
      }
    },
    {
      "cell_type": "markdown",
      "source": [
        "Adding or Removing Elements : -"
      ],
      "metadata": {
        "id": "l2K7XHUUFTlq"
      }
    },
    {
      "cell_type": "code",
      "source": [
        "my_set = {1, 2, 3}\n",
        "\n",
        "my_set.add(4)          # Add single element\n",
        "my_set.update([5, 6])  # Add multiple elements\n",
        "\n",
        "my_set.remove(2)       # Remove (error if not found)\n",
        "my_set.discard(10)     # Remove (no error if missing)\n",
        "my_set.pop()           # Remove a random element\n",
        "my_set.clear()         # Remove all elements\n",
        "\n",
        "print(my_set)\n"
      ],
      "metadata": {
        "colab": {
          "base_uri": "https://localhost:8080/"
        },
        "id": "7V3Uc45gFROY",
        "outputId": "910f79a8-0f46-436e-9888-3166e867a9ae"
      },
      "execution_count": 29,
      "outputs": [
        {
          "output_type": "stream",
          "name": "stdout",
          "text": [
            "set()\n"
          ]
        }
      ]
    },
    {
      "cell_type": "markdown",
      "source": [
        "\n",
        "\n",
        "---\n",
        "\n"
      ],
      "metadata": {
        "id": "exLe3hCAFnUc"
      }
    },
    {
      "cell_type": "markdown",
      "source": [
        "Frozen Set : -\n",
        "\n",
        "* A frozen set is an immutable version of a set.\n",
        "\n",
        "* Elements cannot be added or removed after creation.\n",
        "\n",
        "* Useful for creating hashable sets that can be used as dictionary keys."
      ],
      "metadata": {
        "id": "LYtL6sewFZXD"
      }
    },
    {
      "cell_type": "code",
      "source": [
        "fs = frozenset([1, 2, 3])\n",
        "# fs.add(4)  ❌  (will give an error)\n",
        "print(fs)\n"
      ],
      "metadata": {
        "colab": {
          "base_uri": "https://localhost:8080/"
        },
        "id": "ExiGC7onFgv7",
        "outputId": "a6472940-3b1f-4bdc-8040-0e241b2876be"
      },
      "execution_count": 30,
      "outputs": [
        {
          "output_type": "stream",
          "name": "stdout",
          "text": [
            "frozenset({1, 2, 3})\n"
          ]
        }
      ]
    },
    {
      "cell_type": "markdown",
      "source": [
        "\n",
        "\n",
        "---\n",
        "\n"
      ],
      "metadata": {
        "id": "Zd-Eoq30FmL9"
      }
    },
    {
      "cell_type": "markdown",
      "source": [
        "Function vs Function_Update Methods : -\n",
        "\n",
        "| **Operation**            | **Function Type (Returns New Set)** | **Function\\_Update Type (Modifies Original Set)** | **Description**                                        |\n",
        "| ------------------------ | ----------------------------------- | ------------------------------------------------- | ------------------------------------------------------ |\n",
        "| **Union**                | `set1.union(set2)`                  | `set1.update(set2)`                               | Combines elements from both sets (removes duplicates). |\n",
        "| **Intersection**         | `set1.intersection(set2)`           | `set1.intersection_update(set2)`                  | Keeps only elements common to both sets.               |\n",
        "| **Difference**           | `set1.difference(set2)`             | `set1.difference_update(set2)`                    | Keeps elements in set1 but not in set2.                |\n",
        "| **Symmetric Difference** | `set1.symmetric_difference(set2)`   | `set1.symmetric_difference_update(set2)`          | Keeps elements in either set but not both.             |\n",
        "\n"
      ],
      "metadata": {
        "id": "Ma4D_3mWJyxZ"
      }
    },
    {
      "cell_type": "code",
      "source": [
        "A = {1, 2, 3, 4}\n",
        "B = {3, 4, 5, 6}\n",
        "\n",
        "# ✅ Function Type (Returns a new set)\n",
        "print(A.union(B))               # {1, 2, 3, 4, 5, 6}\n",
        "print(A.intersection(B))        # {3, 4}\n",
        "print(A.difference(B))          # {1, 2}\n",
        "print(A.symmetric_difference(B))# {1, 2, 5, 6}\n",
        "\n",
        "print(\"Original A:\", A)  # A remains unchanged\n"
      ],
      "metadata": {
        "colab": {
          "base_uri": "https://localhost:8080/"
        },
        "id": "4EXN1q7zJ8xM",
        "outputId": "e20fbee3-17f3-4f0a-a5ca-c143b8e284ac"
      },
      "execution_count": 31,
      "outputs": [
        {
          "output_type": "stream",
          "name": "stdout",
          "text": [
            "{1, 2, 3, 4, 5, 6}\n",
            "{3, 4}\n",
            "{1, 2}\n",
            "{1, 2, 5, 6}\n",
            "Original A: {1, 2, 3, 4}\n"
          ]
        }
      ]
    },
    {
      "cell_type": "code",
      "source": [
        "A = {1, 2, 3, 4}\n",
        "B = {3, 4, 5, 6}\n",
        "\n",
        "# ✅ Function Update Type (Modifies A directly)\n",
        "A.update(B)\n",
        "print(\"After update:\", A)  # {1, 2, 3, 4, 5, 6}\n",
        "\n",
        "A = {1, 2, 3, 4}\n",
        "A.intersection_update(B)\n",
        "print(\"After intersection_update:\", A)  # {3, 4}\n",
        "\n",
        "A = {1, 2, 3, 4}\n",
        "A.difference_update(B)\n",
        "print(\"After difference_update:\", A)    # {1, 2}\n",
        "\n",
        "A = {1, 2, 3, 4}\n",
        "A.symmetric_difference_update(B)\n",
        "print(\"After symmetric_difference_update:\", A) # {1, 2, 5, 6}\n"
      ],
      "metadata": {
        "colab": {
          "base_uri": "https://localhost:8080/"
        },
        "id": "N0cKbt7VJ98s",
        "outputId": "2a67c8fa-c175-4567-c4b3-35ae532c26ce"
      },
      "execution_count": 32,
      "outputs": [
        {
          "output_type": "stream",
          "name": "stdout",
          "text": [
            "After update: {1, 2, 3, 4, 5, 6}\n",
            "After intersection_update: {3, 4}\n",
            "After difference_update: {1, 2}\n",
            "After symmetric_difference_update: {1, 2, 5, 6}\n"
          ]
        }
      ]
    },
    {
      "cell_type": "markdown",
      "source": [
        "Summary Table : -\n",
        "\n",
        "| **Method**                      | **Returns New Set?** | **Modifies Original Set?** |\n",
        "| ------------------------------- | -------------------- | -------------------------- |\n",
        "| `union()`                       | ✅                    | ❌                          |\n",
        "| `update()`                      | ❌                    | ✅                          |\n",
        "| `intersection()`                | ✅                    | ❌                          |\n",
        "| `intersection_update()`         | ❌                    | ✅                          |\n",
        "| `difference()`                  | ✅                    | ❌                          |\n",
        "| `difference_update()`           | ❌                    | ✅                          |\n",
        "| `symmetric_difference()`        | ✅                    | ❌                          |\n",
        "| `symmetric_difference_update()` | ❌                    | ✅                          |\n"
      ],
      "metadata": {
        "id": "NZ1fFNtqKA27"
      }
    },
    {
      "cell_type": "markdown",
      "source": [
        "\n",
        "\n",
        "---\n",
        "\n"
      ],
      "metadata": {
        "id": "TNkZ9dp9Jxo_"
      }
    },
    {
      "cell_type": "markdown",
      "source": [
        "Set Comprehension : -\n",
        "\n",
        "* Set Comprehension in Python is a concise way to create sets using a single-line expression instead of traditional loops. Similar to list comprehension, it allows you to generate a set dynamically from any iterable, applying conditions or transformations. Since sets store unique, unordered elements, duplicates are automatically removed in comprehension. It improves code readability and efficiency by reducing multiple lines of loop code into one."
      ],
      "metadata": {
        "id": "CIifKdPsLM8k"
      }
    },
    {
      "cell_type": "code",
      "source": [
        "# Basic set comprehension\n",
        "nums = {x for x in range(6)}\n",
        "print(nums)  # {0, 1, 2, 3, 4, 5}\n",
        "\n",
        "# Set comprehension with condition\n",
        "squares = {x**2 for x in range(10) if x % 2 == 0}\n",
        "print(squares)  # {0, 4, 16, 36, 64}\n"
      ],
      "metadata": {
        "colab": {
          "base_uri": "https://localhost:8080/"
        },
        "id": "Ecw_4C4aLW1K",
        "outputId": "f1f717e9-e27d-40b6-b40c-8156f19bc7b2"
      },
      "execution_count": 33,
      "outputs": [
        {
          "output_type": "stream",
          "name": "stdout",
          "text": [
            "{0, 1, 2, 3, 4, 5}\n",
            "{0, 64, 4, 36, 16}\n"
          ]
        }
      ]
    },
    {
      "cell_type": "markdown",
      "source": [
        "\n",
        "\n",
        "---\n",
        "\n"
      ],
      "metadata": {
        "id": "MjQVIXJZLbVT"
      }
    },
    {
      "cell_type": "markdown",
      "source": [
        "Summary : -\n",
        "\n",
        "| **Parameter**          | **Set**                               |\n",
        "| ---------------------- | ------------------------------------- |\n",
        "| **Mutability**         | Mutable                               |\n",
        "| **Duplicates**         | Not allowed                           |\n",
        "| **Order**              | Unordered                             |\n",
        "| **Indexing**           | Not supported                         |\n",
        "| **Heterogeneous Data** | Allowed                               |\n",
        "| **Frozen Set**         | Immutable set (read-only)             |\n",
        "| **Operations**         | Union, Intersection, Difference, etc. |\n"
      ],
      "metadata": {
        "id": "04Hz2mGkFi9d"
      }
    },
    {
      "cell_type": "markdown",
      "source": [
        "\n",
        "\n",
        "---\n",
        "\n"
      ],
      "metadata": {
        "id": "ov56CgLaFlOl"
      }
    },
    {
      "cell_type": "markdown",
      "source": [
        "# 3) Dictionaries in Python : -"
      ],
      "metadata": {
        "id": "8yTCOT39LoDF"
      }
    },
    {
      "cell_type": "markdown",
      "source": [
        "A dictionary is a mutable, unordered collection of key-value pairs in Python. Each value is accessed using its unique key, not an index.\n",
        "Dictionaries are optimized for fast data retrieval and are similar to \"hash maps\" in other programming languages.\n",
        "\n"
      ],
      "metadata": {
        "id": "_sFOO328Ltok"
      }
    },
    {
      "cell_type": "markdown",
      "source": [
        "\n",
        "\n",
        "---\n",
        "\n"
      ],
      "metadata": {
        "id": "9hM5ANDYNcAk"
      }
    },
    {
      "cell_type": "markdown",
      "source": [
        "Key Characteristics of Dictionaries : -\n",
        "\n",
        "| **Characteristic**          | **Description**                                               |\n",
        "| --------------------------- | ------------------------------------------------------------- |\n",
        "| **Key-Value Pair**          | Each element has a `key: value` format.                       |\n",
        "| **Mutable**                 | Elements can be added, updated, or deleted.                   |\n",
        "| **Unordered** (Python 3.7+) | Maintains insertion order but no indexing like lists.         |\n",
        "| **Unique Keys**             | Keys must be unique and immutable (strings, numbers, tuples). |\n",
        "| **Heterogeneous Values**    | Values can be of any data type, even other dictionaries.      |\n"
      ],
      "metadata": {
        "id": "ES3czRNwL3r0"
      }
    },
    {
      "cell_type": "markdown",
      "source": [
        "\n",
        "\n",
        "---\n",
        "\n"
      ],
      "metadata": {
        "id": "nAOQhUbkNbCK"
      }
    },
    {
      "cell_type": "markdown",
      "source": [
        "Creating Dictionaries : -"
      ],
      "metadata": {
        "id": "9W1ErnDGL8SV"
      }
    },
    {
      "cell_type": "code",
      "source": [
        "# Creating a dictionary\n",
        "student = {\"name\": \"Alice\", \"age\": 20, \"grade\": \"A\"}\n",
        "\n",
        "# Using dict() constructor\n",
        "info = dict(city=\"London\", country=\"UK\")\n",
        "\n",
        "# Empty dictionary\n",
        "empty_dict = {}\n",
        "\n",
        "# Nested dictionary\n",
        "nested = {\n",
        "    \"student1\": {\"name\": \"Tom\", \"age\": 18},\n",
        "    \"student2\": {\"name\": \"Jerry\", \"age\": 20}\n",
        "}\n",
        "\n",
        "print(student)\n"
      ],
      "metadata": {
        "colab": {
          "base_uri": "https://localhost:8080/"
        },
        "id": "EJHzLOrjMA6s",
        "outputId": "adc116b2-c8b2-4982-d91d-e08ca63827e0"
      },
      "execution_count": 34,
      "outputs": [
        {
          "output_type": "stream",
          "name": "stdout",
          "text": [
            "{'name': 'Alice', 'age': 20, 'grade': 'A'}\n"
          ]
        }
      ]
    },
    {
      "cell_type": "markdown",
      "source": [
        "\n",
        "\n",
        "---\n",
        "\n"
      ],
      "metadata": {
        "id": "pI5lJy7HNaAu"
      }
    },
    {
      "cell_type": "markdown",
      "source": [
        "Accessing the Elements : -\n"
      ],
      "metadata": {
        "id": "FJHnq_HGMBq6"
      }
    },
    {
      "cell_type": "code",
      "source": [
        "student = {\"name\": \"Alice\", \"age\": 20}\n",
        "\n",
        "print(student[\"name\"])        # Access using key → Alice\n",
        "print(student.get(\"grade\"))   # Safe access → None (avoids error if key missing)\n"
      ],
      "metadata": {
        "colab": {
          "base_uri": "https://localhost:8080/"
        },
        "id": "L1KQaD6rMJFW",
        "outputId": "b31c8710-4688-40c8-8151-224d8d8bfe14"
      },
      "execution_count": 35,
      "outputs": [
        {
          "output_type": "stream",
          "name": "stdout",
          "text": [
            "Alice\n",
            "None\n"
          ]
        }
      ]
    },
    {
      "cell_type": "markdown",
      "source": [
        "\n",
        "\n",
        "---\n",
        "\n"
      ],
      "metadata": {
        "id": "Lm83QGihNZGT"
      }
    },
    {
      "cell_type": "markdown",
      "source": [
        "Modifying Dictionaries : -"
      ],
      "metadata": {
        "id": "VWGMKXb8MLn_"
      }
    },
    {
      "cell_type": "code",
      "source": [
        "student = {\"name\": \"Alice\", \"age\": 20}\n",
        "\n",
        "# Adding a new key-value pair\n",
        "student[\"grade\"] = \"A\"\n",
        "\n",
        "# Updating an existing value\n",
        "student[\"age\"] = 21\n",
        "\n",
        "# Updating multiple items\n",
        "student.update({\"age\": 22, \"city\": \"Paris\"})\n",
        "print(student)\n"
      ],
      "metadata": {
        "colab": {
          "base_uri": "https://localhost:8080/"
        },
        "id": "JQe613NcMOyd",
        "outputId": "764c0da2-4f51-42c1-de4c-e6026263d842"
      },
      "execution_count": 36,
      "outputs": [
        {
          "output_type": "stream",
          "name": "stdout",
          "text": [
            "{'name': 'Alice', 'age': 22, 'grade': 'A', 'city': 'Paris'}\n"
          ]
        }
      ]
    },
    {
      "cell_type": "markdown",
      "source": [
        "\n",
        "\n",
        "---\n",
        "\n"
      ],
      "metadata": {
        "id": "V_6danqONYSw"
      }
    },
    {
      "cell_type": "markdown",
      "source": [
        "Deleting Elements : -\n"
      ],
      "metadata": {
        "id": "7vRYDCg5MPmD"
      }
    },
    {
      "cell_type": "code",
      "source": [
        "student = {\"name\": \"Alice\", \"age\": 20, \"grade\": \"A\"}\n",
        "\n",
        "del student[\"grade\"]        # Deletes a key-value pair\n",
        "student.pop(\"age\")          # Removes key and returns its value\n",
        "student.clear()             # Removes all items\n",
        "print(student)\n"
      ],
      "metadata": {
        "colab": {
          "base_uri": "https://localhost:8080/"
        },
        "id": "pv8a0IXsMV3e",
        "outputId": "ae46d754-a537-49af-d026-014f15e505e8"
      },
      "execution_count": 37,
      "outputs": [
        {
          "output_type": "stream",
          "name": "stdout",
          "text": [
            "{}\n"
          ]
        }
      ]
    },
    {
      "cell_type": "markdown",
      "source": [
        "\n",
        "\n",
        "---\n",
        "\n"
      ],
      "metadata": {
        "id": "NZlvSk5dNXZZ"
      }
    },
    {
      "cell_type": "markdown",
      "source": [
        "Dictionary Operation Tables : -\n",
        "\n",
        "| **Operation**         | **Example**             | **Output**                         |\n",
        "| --------------------- | ----------------------- | ---------------------------------- |\n",
        "| **Length**            | `len(d)`                | Number of key-value pairs          |\n",
        "| **Membership**        | `'name' in d`           | True if key exists                 |\n",
        "| **Iteration (Keys)**  | `for k in d:`           | Loops through keys                 |\n",
        "| **Iteration (Items)** | `for k,v in d.items():` | Loops through key-value pairs      |\n",
        "| **Copy**              | `d.copy()`              | Returns a shallow copy             |\n",
        "| **Merging**           | `d1.update(d2)`         | Adds all key-value pairs from `d2` |\n"
      ],
      "metadata": {
        "id": "N_pvLjZtMaH9"
      }
    },
    {
      "cell_type": "markdown",
      "source": [
        "\n",
        "\n",
        "---\n",
        "\n"
      ],
      "metadata": {
        "id": "4j6VjiPtNWfZ"
      }
    },
    {
      "cell_type": "markdown",
      "source": [
        "Dictionary Methods Table : -\n",
        "\n",
        "| **Method**                 | **Description**                                       |\n",
        "| -------------------------- | ----------------------------------------------------- |\n",
        "| `keys()`                   | Returns all keys.                                     |\n",
        "| `values()`                 | Returns all values.                                   |\n",
        "| `items()`                  | Returns list of `(key, value)` pairs.                 |\n",
        "| `get(key, default)`        | Returns value or default if key not found.            |\n",
        "| `pop(key)`                 | Removes and returns value of the key.                 |\n",
        "| `popitem()`                | Removes and returns last inserted item.               |\n",
        "| `update(d2)`               | Adds/updates key-value pairs from another dictionary. |\n",
        "| `setdefault(key, default)` | Adds key with default if not present.                 |\n",
        "| `clear()`                  | Removes all elements from the dictionary.             |\n",
        "| `fromkeys(keys, value)`    | Creates a new dictionary from keys with same value.   |\n"
      ],
      "metadata": {
        "id": "PKtqbPF-MgNJ"
      }
    },
    {
      "cell_type": "markdown",
      "source": [
        "\n",
        "\n",
        "---\n",
        "\n"
      ],
      "metadata": {
        "id": "PDuapvTKNVEb"
      }
    },
    {
      "cell_type": "markdown",
      "source": [
        "Dictionary Comprehension : -\n",
        "\n",
        "* Like List Comprehension , dictionaries can be created in one line :"
      ],
      "metadata": {
        "id": "lRM1Q0sxMj08"
      }
    },
    {
      "cell_type": "code",
      "source": [
        "squares = {x: x**2 for x in range(5)}\n",
        "print(squares)  # {0: 0, 1: 1, 2: 4, 3: 9, 4: 16}\n"
      ],
      "metadata": {
        "colab": {
          "base_uri": "https://localhost:8080/"
        },
        "id": "Hdx2SgUDNFs1",
        "outputId": "4a889ea5-f663-4841-f977-e7159aee595d"
      },
      "execution_count": 38,
      "outputs": [
        {
          "output_type": "stream",
          "name": "stdout",
          "text": [
            "{0: 0, 1: 1, 2: 4, 3: 9, 4: 16}\n"
          ]
        }
      ]
    },
    {
      "cell_type": "markdown",
      "source": [
        "\n",
        "\n",
        "---\n",
        "\n"
      ],
      "metadata": {
        "id": "cF77Q2DWNTh-"
      }
    },
    {
      "cell_type": "markdown",
      "source": [
        "Nested Dictionaries : -\n"
      ],
      "metadata": {
        "id": "0ar6i5NbNHrg"
      }
    },
    {
      "cell_type": "code",
      "source": [
        "students = {\n",
        "    \"S1\": {\"name\": \"Alice\", \"marks\": 85},\n",
        "    \"S2\": {\"name\": \"Bob\", \"marks\": 90}\n",
        "}\n",
        "\n",
        "print(students[\"S2\"][\"name\"])  # Bob\n",
        "\n",
        "# Python code for Nested Dictionary Comprehension :\n",
        "\n",
        "# Dictionary with square values for each pair\n",
        "squares = {i: {j: j**2 for j in range(1, 4)} for i in range(1, 3)}\n",
        "print(squares)\n"
      ],
      "metadata": {
        "colab": {
          "base_uri": "https://localhost:8080/"
        },
        "id": "c4lRzWSGNK9h",
        "outputId": "50ae2e4b-60c0-4872-d5f6-3d1b1e3de240"
      },
      "execution_count": 39,
      "outputs": [
        {
          "output_type": "stream",
          "name": "stdout",
          "text": [
            "Bob\n",
            "{1: {1: 1, 2: 4, 3: 9}, 2: {1: 1, 2: 4, 3: 9}}\n"
          ]
        }
      ]
    },
    {
      "cell_type": "markdown",
      "source": [
        "\n",
        "\n",
        "---\n",
        "\n"
      ],
      "metadata": {
        "id": "j5JiVA8zNSdw"
      }
    },
    {
      "cell_type": "markdown",
      "source": [
        "Dictionaries Summary : -\n",
        "\n",
        "| **Parameter**     | **Dictionary**                   |\n",
        "| ----------------- | -------------------------------- |\n",
        "| **Data Type**     | Mutable, key-value pairs         |\n",
        "| **Keys**          | Must be unique, immutable        |\n",
        "| **Values**        | Can be duplicated, any data type |\n",
        "| **Access**        | By key only                      |\n",
        "| **Duplicates**    | Keys not allowed, values allowed |\n",
        "| **Comprehension** | Supported                        |\n",
        "| **Performance**   | Fast lookup using hash mapping   |\n"
      ],
      "metadata": {
        "id": "4RMCv1UcNNIp"
      }
    },
    {
      "cell_type": "markdown",
      "source": [
        "\n",
        "\n",
        "---\n",
        "\n"
      ],
      "metadata": {
        "id": "HleaKX6yNRjN"
      }
    }
  ]
}